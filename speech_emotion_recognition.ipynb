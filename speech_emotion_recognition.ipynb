{
  "nbformat": 4,
  "nbformat_minor": 0,
  "metadata": {
    "accelerator": "GPU",
    "colab": {
      "name": "speech-emotion-recognition.ipynb",
      "provenance": [],
      "collapsed_sections": [
        "PR_4wUDwVfOL",
        "dBIyoQJiVvT5",
        "WqXVuVffL_eL",
        "oaCzT1_XM05t",
        "HXYINzU7bCrK"
      ],
      "mount_file_id": "1WEnI43UWiflcNuF1vGeS3TRyagVywzcv",
      "authorship_tag": "ABX9TyMqfeI6F1rnyeFNes0xjMfz"
    },
    "kernelspec": {
      "display_name": "Python 3",
      "name": "python3"
    },
    "language_info": {
      "name": "python"
    }
  },
  "cells": [
    {
      "cell_type": "code",
      "metadata": {
        "colab": {
          "base_uri": "https://localhost:8080/"
        },
        "id": "lVW9poW3QDgt",
        "outputId": "fdc157cd-66e2-4e3e-aff8-25a9a2771298"
      },
      "source": [
        "!pip install opensmile\n",
        "!pip install sox"
      ],
      "execution_count": null,
      "outputs": [
        {
          "name": "stdout",
          "output_type": "stream",
          "text": [
            "Collecting opensmile\n",
            "  Downloading opensmile-2.2.0-py3-none-any.whl (4.9 MB)\n",
            "\u001b[K     |████████████████████████████████| 4.9 MB 7.4 MB/s \n",
            "\u001b[?25hCollecting audinterface<0.9.0,>=0.7.0\n",
            "  Downloading audinterface-0.7.0-py3-none-any.whl (21 kB)\n",
            "Collecting audobject<0.6.0,>=0.4.6\n",
            "  Downloading audobject-0.4.14-py3-none-any.whl (17 kB)\n",
            "Collecting audresample<0.3.0,>=0.1.6\n",
            "  Downloading audresample-0.1.6-py3-none-any.whl (635 kB)\n",
            "\u001b[K     |████████████████████████████████| 635 kB 67.5 MB/s \n",
            "\u001b[?25hCollecting audformat<2.0.0,>=0.10.1\n",
            "  Downloading audformat-0.11.5-py3-none-any.whl (43 kB)\n",
            "\u001b[K     |████████████████████████████████| 43 kB 2.6 MB/s \n",
            "\u001b[?25hCollecting audiofile>=0.4.0\n",
            "  Downloading audiofile-1.0.0-py3-none-any.whl (9.9 kB)\n",
            "Collecting audeer<2.0.0,>=1.8.0\n",
            "  Downloading audeer-1.16.0-py3-none-any.whl (14 kB)\n",
            "Collecting iso-639\n",
            "  Downloading iso-639-0.4.5.tar.gz (167 kB)\n",
            "\u001b[K     |████████████████████████████████| 167 kB 74.2 MB/s \n",
            "\u001b[?25hRequirement already satisfied: pandas<1.3,>=1.1.5 in /usr/local/lib/python3.7/dist-packages (from audformat<2.0.0,>=0.10.1->audinterface<0.9.0,>=0.7.0->opensmile) (1.1.5)\n",
            "Collecting oyaml\n",
            "  Downloading oyaml-1.0-py2.py3-none-any.whl (3.0 kB)\n",
            "Requirement already satisfied: tqdm in /usr/local/lib/python3.7/dist-packages (from audeer<2.0.0,>=1.8.0->audformat<2.0.0,>=0.10.1->audinterface<0.9.0,>=0.7.0->opensmile) (4.62.0)\n",
            "Collecting sox\n",
            "  Downloading sox-1.4.1-py2.py3-none-any.whl (39 kB)\n",
            "Requirement already satisfied: numpy in /usr/local/lib/python3.7/dist-packages (from audiofile>=0.4.0->audformat<2.0.0,>=0.10.1->audinterface<0.9.0,>=0.7.0->opensmile) (1.19.5)\n",
            "Requirement already satisfied: soundfile in /usr/local/lib/python3.7/dist-packages (from audiofile>=0.4.0->audformat<2.0.0,>=0.10.1->audinterface<0.9.0,>=0.7.0->opensmile) (0.10.3.post1)\n",
            "Requirement already satisfied: pytz>=2017.2 in /usr/local/lib/python3.7/dist-packages (from pandas<1.3,>=1.1.5->audformat<2.0.0,>=0.10.1->audinterface<0.9.0,>=0.7.0->opensmile) (2018.9)\n",
            "Requirement already satisfied: python-dateutil>=2.7.3 in /usr/local/lib/python3.7/dist-packages (from pandas<1.3,>=1.1.5->audformat<2.0.0,>=0.10.1->audinterface<0.9.0,>=0.7.0->opensmile) (2.8.2)\n",
            "Requirement already satisfied: six>=1.5 in /usr/local/lib/python3.7/dist-packages (from python-dateutil>=2.7.3->pandas<1.3,>=1.1.5->audformat<2.0.0,>=0.10.1->audinterface<0.9.0,>=0.7.0->opensmile) (1.15.0)\n",
            "Requirement already satisfied: pyyaml in /usr/local/lib/python3.7/dist-packages (from oyaml->audformat<2.0.0,>=0.10.1->audinterface<0.9.0,>=0.7.0->opensmile) (3.13)\n",
            "Requirement already satisfied: cffi>=1.0 in /usr/local/lib/python3.7/dist-packages (from soundfile->audiofile>=0.4.0->audformat<2.0.0,>=0.10.1->audinterface<0.9.0,>=0.7.0->opensmile) (1.14.6)\n",
            "Requirement already satisfied: pycparser in /usr/local/lib/python3.7/dist-packages (from cffi>=1.0->soundfile->audiofile>=0.4.0->audformat<2.0.0,>=0.10.1->audinterface<0.9.0,>=0.7.0->opensmile) (2.20)\n",
            "Building wheels for collected packages: iso-639\n",
            "  Building wheel for iso-639 (setup.py) ... \u001b[?25l\u001b[?25hdone\n",
            "  Created wheel for iso-639: filename=iso_639-0.4.5-py3-none-any.whl size=169061 sha256=ee9e577c626ec8746262c9f4eec03d800efb99dac606b244a2464a5dfdf2988e\n",
            "  Stored in directory: /root/.cache/pip/wheels/47/60/19/6d020fc92138ed1b113a18271e83ea4b5525fe770cb45b9a2e\n",
            "Successfully built iso-639\n",
            "Installing collected packages: sox, audeer, oyaml, iso-639, audiofile, audresample, audformat, audobject, audinterface, opensmile\n",
            "Successfully installed audeer-1.16.0 audformat-0.11.5 audinterface-0.7.0 audiofile-1.0.0 audobject-0.4.14 audresample-0.1.6 iso-639-0.4.5 opensmile-2.2.0 oyaml-1.0 sox-1.4.1\n",
            "Requirement already satisfied: sox in /usr/local/lib/python3.7/dist-packages (1.4.1)\n",
            "Requirement already satisfied: numpy>=1.9.0 in /usr/local/lib/python3.7/dist-packages (from sox) (1.19.5)\n"
          ]
        }
      ]
    },
    {
      "cell_type": "code",
      "metadata": {
        "id": "srJKkQlmIvr9"
      },
      "source": [
        "import numpy as np\n",
        "import pandas as pd\n",
        "import matplotlib.pyplot as plt \n",
        "# import opensmile\n",
        "import glob\n",
        "from sklearn.feature_selection import VarianceThreshold\n",
        "from sklearn.preprocessing import StandardScaler\n",
        "from sklearn.model_selection import train_test_split"
      ],
      "execution_count": null,
      "outputs": []
    },
    {
      "cell_type": "markdown",
      "metadata": {
        "id": "PR_4wUDwVfOL"
      },
      "source": [
        "# Feature Extraction"
      ]
    },
    {
      "cell_type": "code",
      "metadata": {
        "id": "Ut0wfn2LQFF3"
      },
      "source": [
        "smile = opensmile.Smile(\n",
        "    feature_set = opensmile.FeatureSet.,\n",
        "    feature_level = opensmile.FeatureLevel.Functionals,\n",
        ")"
      ],
      "execution_count": null,
      "outputs": []
    },
    {
      "cell_type": "code",
      "metadata": {
        "id": "MFFSLBPKJ2_9"
      },
      "source": [
        "# from sklearn.decomposition import PCA\n",
        "# pca = PCA(n_components=2, random_state=42)\n",
        "# pca.fit(X)"
      ],
      "execution_count": null,
      "outputs": []
    },
    {
      "cell_type": "code",
      "metadata": {
        "id": "Ed2DGgAdWd0b"
      },
      "source": [
        "from tqdm.notebook import tqdm"
      ],
      "execution_count": null,
      "outputs": []
    },
    {
      "cell_type": "code",
      "metadata": {
        "id": "3w43naKxVDj6"
      },
      "source": [
        "label = np.empty(0, dtype='int')\n",
        "extracted_features = pd.DataFrame()"
      ],
      "execution_count": null,
      "outputs": []
    },
    {
      "cell_type": "code",
      "metadata": {
        "colab": {
          "base_uri": "https://localhost:8080/",
          "height": 164
        },
        "id": "L4G3faaOkGPI",
        "outputId": "d1c67daf-fc47-4a23-a27f-01e090d97673"
      },
      "source": [
        "# for actor in tqdm(sorted(glob.glob(\"/content/drive/MyDrive/SEMOUR_LD/Scripted_Speech/*/\"))):\n",
        "#   #Actor\n",
        "#     # print(actor)\n",
        "#     if (actor.split('/')[-2]) == 'Actor_1':\n",
        "#       for emotion in tqdm(sorted(glob.glob(actor+\"/*/\"))):\n",
        "#           #Emotion\n",
        "#           # print('.')\n",
        "#         Emotion = emotion.split('/')[-2]\n",
        "\n",
        "#         if Emotion == 'Anger':\n",
        "#           for filename in tqdm(sorted(glob.glob(emotion+\"/*.wav\"))):\n",
        "#                 #wav file          \n",
        "#               with open(filename, 'r') as f:\n",
        "#                 features = smile.process_file(filename)\n",
        "#                 Emotion = emotion.split('/')[-2]\n",
        "\n",
        "#                 if Emotion == 'Anger':\n",
        "#                   label = np.append(label, 0)\n",
        "#                   extracted_features = extracted_features.append(features)\n",
        "\n"
      ],
      "execution_count": null,
      "outputs": [
        {
          "data": {
            "application/vnd.jupyter.widget-view+json": {
              "model_id": "ac9ae68a9dd24f5fa2e8f9eea22b4d58",
              "version_major": 2,
              "version_minor": 0
            },
            "text/plain": [
              "HBox(children=(FloatProgress(value=0.0, max=8.0), HTML(value='')))"
            ]
          },
          "metadata": {
            "tags": []
          },
          "output_type": "display_data"
        },
        {
          "data": {
            "application/vnd.jupyter.widget-view+json": {
              "model_id": "49fba367ceb24959870d4ca10e2c3135",
              "version_major": 2,
              "version_minor": 0
            },
            "text/plain": [
              "HBox(children=(FloatProgress(value=0.0, max=8.0), HTML(value='')))"
            ]
          },
          "metadata": {
            "tags": []
          },
          "output_type": "display_data"
        },
        {
          "data": {
            "application/vnd.jupyter.widget-view+json": {
              "model_id": "7b5e07120d3f43ed85440b22649a4429",
              "version_major": 2,
              "version_minor": 0
            },
            "text/plain": [
              "HBox(children=(FloatProgress(value=0.0, max=235.0), HTML(value='')))"
            ]
          },
          "metadata": {
            "tags": []
          },
          "output_type": "display_data"
        },
        {
          "name": "stdout",
          "output_type": "stream",
          "text": [
            "\n",
            "\n",
            "\n"
          ]
        }
      ]
    },
    {
      "cell_type": "code",
      "metadata": {
        "id": "dbhsG3jrodaw"
      },
      "source": [
        "# extracted_features['label'] = label "
      ],
      "execution_count": null,
      "outputs": []
    },
    {
      "cell_type": "code",
      "metadata": {
        "id": "3Nyqt0pSueAt"
      },
      "source": [
        "# extracted_features.to_pickle(\"/content/drive/MyDrive/dummy_feature.pkl\")"
      ],
      "execution_count": null,
      "outputs": []
    },
    {
      "cell_type": "code",
      "metadata": {
        "id": "g5qSMGwkutDq"
      },
      "source": [
        "# unpickled_df = pd.read_pickle(\"/content/drive/MyDrive/dummy_feature.pkl\")\n",
        "# unpickled_df"
      ],
      "execution_count": null,
      "outputs": []
    },
    {
      "cell_type": "code",
      "metadata": {
        "colab": {
          "base_uri": "https://localhost:8080/",
          "height": 1000
        },
        "id": "bR7NB2NaUYQS",
        "outputId": "a3997d17-9b07-413a-ea9f-19c9e8857b15"
      },
      "source": [
        "for actor in tqdm(sorted(glob.glob(\"/content/drive/MyDrive/SEMOUR_LD/Scripted_Speech/*/\"))):\n",
        "  #Actor\n",
        "    for emotion in tqdm(sorted(glob.glob(actor+\"/*/\"))):\n",
        "        #Emotion\n",
        "      for filename in tqdm(sorted(glob.glob(emotion+\"/*.wav\"))):\n",
        "            #wav file\n",
        "            \n",
        "        with open(filename, 'r') as f:\n",
        "          features = smile.process_file(filename)\n",
        "          Emotion = emotion.split('/')[-2]\n",
        "\n",
        "          if Emotion == 'Anger':\n",
        "                  label = np.append(label, 0)\n",
        "                  extracted_features = extracted_features.append(features)\n",
        "          # elif Emotion == 'Boredom':\n",
        "          #         label = np.append(label, 1)\n",
        "          #         extracted_features = extracted_features.append(features)\n",
        "          elif Emotion == 'Sadness':\n",
        "                  label = np.append(label, 2)\n",
        "                  extracted_features = extracted_features.append(features)\n",
        "          elif Emotion == 'Happiness':\n",
        "                  label = np.append(label, 3)\n",
        "                  extracted_features = extracted_features.append(features)\n",
        "          elif Emotion == 'Neutral':\n",
        "                  label = np.append(label, 4)\n",
        "                  extracted_features = extracted_features.append(features)\n",
        "          elif Emotion == 'Surprise':\n",
        "                  label = np.append(label, 5)\n",
        "                  extracted_features = extracted_features.append(features)\n",
        "          # elif Emotion == 'Disgust':\n",
        "          #         label = np.append(label, 6)\n",
        "          #         extracted_features = extracted_features.append(features)\n",
        "          # elif Emotion == 'Fearful':\n",
        "          #         label = np.append(label, 7)\n",
        "          #         extracted_features = extracted_features.append(features)\n",
        "\n",
        "\n",
        "extracted_features['label'] = label \n",
        "extracted_features.to_pickle(\"/content/drive/MyDrive/audio_extracted_features.pkl\")\n",
        "extracted_features.to_csv(r'/content/drive/MyDrive/audio_extracted_features.csv', index=False)\n",
        "\n"
      ],
      "execution_count": null,
      "outputs": [
        {
          "data": {
            "application/vnd.jupyter.widget-view+json": {
              "model_id": "e77c6a80cc9c4ab2ac2df7f223263230",
              "version_major": 2,
              "version_minor": 0
            },
            "text/plain": [
              "HBox(children=(FloatProgress(value=0.0, max=8.0), HTML(value='')))"
            ]
          },
          "metadata": {
            "tags": []
          },
          "output_type": "display_data"
        },
        {
          "data": {
            "application/vnd.jupyter.widget-view+json": {
              "model_id": "b27a6b37f1124dc9b35d2a4ac3250f8a",
              "version_major": 2,
              "version_minor": 0
            },
            "text/plain": [
              "HBox(children=(FloatProgress(value=0.0, max=8.0), HTML(value='')))"
            ]
          },
          "metadata": {
            "tags": []
          },
          "output_type": "display_data"
        },
        {
          "data": {
            "application/vnd.jupyter.widget-view+json": {
              "model_id": "c1fedb99d92b4d5ca30555273bf93fd8",
              "version_major": 2,
              "version_minor": 0
            },
            "text/plain": [
              "HBox(children=(FloatProgress(value=0.0, max=235.0), HTML(value='')))"
            ]
          },
          "metadata": {
            "tags": []
          },
          "output_type": "display_data"
        },
        {
          "name": "stdout",
          "output_type": "stream",
          "text": [
            "\n"
          ]
        },
        {
          "data": {
            "application/vnd.jupyter.widget-view+json": {
              "model_id": "a5cef0ad23d148e48a8a7ad56cef098e",
              "version_major": 2,
              "version_minor": 0
            },
            "text/plain": [
              "HBox(children=(FloatProgress(value=0.0, max=235.0), HTML(value='')))"
            ]
          },
          "metadata": {
            "tags": []
          },
          "output_type": "display_data"
        },
        {
          "name": "stdout",
          "output_type": "stream",
          "text": [
            "\n"
          ]
        },
        {
          "data": {
            "application/vnd.jupyter.widget-view+json": {
              "model_id": "be377dca51f94652b1bda5819c3e9fd1",
              "version_major": 2,
              "version_minor": 0
            },
            "text/plain": [
              "HBox(children=(FloatProgress(value=0.0, max=235.0), HTML(value='')))"
            ]
          },
          "metadata": {
            "tags": []
          },
          "output_type": "display_data"
        },
        {
          "name": "stdout",
          "output_type": "stream",
          "text": [
            "\n"
          ]
        },
        {
          "data": {
            "application/vnd.jupyter.widget-view+json": {
              "model_id": "e419482f96464f75b62c13ad1fb3de96",
              "version_major": 2,
              "version_minor": 0
            },
            "text/plain": [
              "HBox(children=(FloatProgress(value=0.0, max=235.0), HTML(value='')))"
            ]
          },
          "metadata": {
            "tags": []
          },
          "output_type": "display_data"
        },
        {
          "name": "stdout",
          "output_type": "stream",
          "text": [
            "\n"
          ]
        },
        {
          "data": {
            "application/vnd.jupyter.widget-view+json": {
              "model_id": "1cb472f0b0f44a6b9808801fe81875ae",
              "version_major": 2,
              "version_minor": 0
            },
            "text/plain": [
              "HBox(children=(FloatProgress(value=0.0, max=235.0), HTML(value='')))"
            ]
          },
          "metadata": {
            "tags": []
          },
          "output_type": "display_data"
        },
        {
          "name": "stdout",
          "output_type": "stream",
          "text": [
            "\n"
          ]
        },
        {
          "data": {
            "application/vnd.jupyter.widget-view+json": {
              "model_id": "f04a2782b03741ec9d0d08a9b78bcd59",
              "version_major": 2,
              "version_minor": 0
            },
            "text/plain": [
              "HBox(children=(FloatProgress(value=0.0, max=235.0), HTML(value='')))"
            ]
          },
          "metadata": {
            "tags": []
          },
          "output_type": "display_data"
        },
        {
          "name": "stdout",
          "output_type": "stream",
          "text": [
            "\n"
          ]
        },
        {
          "data": {
            "application/vnd.jupyter.widget-view+json": {
              "model_id": "0590d3826f5146008e118adec192a2fd",
              "version_major": 2,
              "version_minor": 0
            },
            "text/plain": [
              "HBox(children=(FloatProgress(value=0.0, max=235.0), HTML(value='')))"
            ]
          },
          "metadata": {
            "tags": []
          },
          "output_type": "display_data"
        },
        {
          "name": "stdout",
          "output_type": "stream",
          "text": [
            "\n"
          ]
        },
        {
          "data": {
            "application/vnd.jupyter.widget-view+json": {
              "model_id": "9924df2952b44e2c800f38c1a47d0430",
              "version_major": 2,
              "version_minor": 0
            },
            "text/plain": [
              "HBox(children=(FloatProgress(value=0.0, max=235.0), HTML(value='')))"
            ]
          },
          "metadata": {
            "tags": []
          },
          "output_type": "display_data"
        },
        {
          "name": "stdout",
          "output_type": "stream",
          "text": [
            "\n",
            "\n"
          ]
        },
        {
          "data": {
            "application/vnd.jupyter.widget-view+json": {
              "model_id": "b06ac242013f4e27b73d696563067e5d",
              "version_major": 2,
              "version_minor": 0
            },
            "text/plain": [
              "HBox(children=(FloatProgress(value=0.0, max=8.0), HTML(value='')))"
            ]
          },
          "metadata": {
            "tags": []
          },
          "output_type": "display_data"
        },
        {
          "data": {
            "application/vnd.jupyter.widget-view+json": {
              "model_id": "6b5f6b07ef9e45e289b0b6735448e38e",
              "version_major": 2,
              "version_minor": 0
            },
            "text/plain": [
              "HBox(children=(FloatProgress(value=0.0, max=235.0), HTML(value='')))"
            ]
          },
          "metadata": {
            "tags": []
          },
          "output_type": "display_data"
        },
        {
          "name": "stderr",
          "output_type": "stream",
          "text": [
            "/usr/local/lib/python3.7/dist-packages/opensmile/core/smile.py:306: UserWarning: Segment too short, filling with NaN.\n",
            "  UserWarning(\"Segment too short, filling with NaN.\")\n"
          ]
        },
        {
          "name": "stdout",
          "output_type": "stream",
          "text": [
            "\n"
          ]
        },
        {
          "data": {
            "application/vnd.jupyter.widget-view+json": {
              "model_id": "a5e1448481104c68b7d6966a2c604f8e",
              "version_major": 2,
              "version_minor": 0
            },
            "text/plain": [
              "HBox(children=(FloatProgress(value=0.0, max=235.0), HTML(value='')))"
            ]
          },
          "metadata": {
            "tags": []
          },
          "output_type": "display_data"
        },
        {
          "name": "stdout",
          "output_type": "stream",
          "text": [
            "\n"
          ]
        },
        {
          "data": {
            "application/vnd.jupyter.widget-view+json": {
              "model_id": "81b1e821e2d945708994211455757889",
              "version_major": 2,
              "version_minor": 0
            },
            "text/plain": [
              "HBox(children=(FloatProgress(value=0.0, max=235.0), HTML(value='')))"
            ]
          },
          "metadata": {
            "tags": []
          },
          "output_type": "display_data"
        },
        {
          "name": "stdout",
          "output_type": "stream",
          "text": [
            "\n"
          ]
        },
        {
          "data": {
            "application/vnd.jupyter.widget-view+json": {
              "model_id": "882792b4e4724e0dbdd5ef2d788eb75e",
              "version_major": 2,
              "version_minor": 0
            },
            "text/plain": [
              "HBox(children=(FloatProgress(value=0.0, max=235.0), HTML(value='')))"
            ]
          },
          "metadata": {
            "tags": []
          },
          "output_type": "display_data"
        },
        {
          "name": "stdout",
          "output_type": "stream",
          "text": [
            "\n"
          ]
        },
        {
          "data": {
            "application/vnd.jupyter.widget-view+json": {
              "model_id": "a316832fe624409ca2ab9e1cbd8f3971",
              "version_major": 2,
              "version_minor": 0
            },
            "text/plain": [
              "HBox(children=(FloatProgress(value=0.0, max=235.0), HTML(value='')))"
            ]
          },
          "metadata": {
            "tags": []
          },
          "output_type": "display_data"
        },
        {
          "name": "stdout",
          "output_type": "stream",
          "text": [
            "\n"
          ]
        },
        {
          "data": {
            "application/vnd.jupyter.widget-view+json": {
              "model_id": "a48888085fa94f28b2422d56ae80ed6c",
              "version_major": 2,
              "version_minor": 0
            },
            "text/plain": [
              "HBox(children=(FloatProgress(value=0.0, max=235.0), HTML(value='')))"
            ]
          },
          "metadata": {
            "tags": []
          },
          "output_type": "display_data"
        },
        {
          "name": "stdout",
          "output_type": "stream",
          "text": [
            "\n"
          ]
        },
        {
          "data": {
            "application/vnd.jupyter.widget-view+json": {
              "model_id": "0f4dab8ddde34ba1ab36eee36da685c6",
              "version_major": 2,
              "version_minor": 0
            },
            "text/plain": [
              "HBox(children=(FloatProgress(value=0.0, max=235.0), HTML(value='')))"
            ]
          },
          "metadata": {
            "tags": []
          },
          "output_type": "display_data"
        },
        {
          "name": "stdout",
          "output_type": "stream",
          "text": [
            "\n"
          ]
        },
        {
          "data": {
            "application/vnd.jupyter.widget-view+json": {
              "model_id": "0729d0fc296c49ba9e763ce17956322c",
              "version_major": 2,
              "version_minor": 0
            },
            "text/plain": [
              "HBox(children=(FloatProgress(value=0.0, max=235.0), HTML(value='')))"
            ]
          },
          "metadata": {
            "tags": []
          },
          "output_type": "display_data"
        },
        {
          "name": "stdout",
          "output_type": "stream",
          "text": [
            "\n",
            "\n"
          ]
        },
        {
          "data": {
            "application/vnd.jupyter.widget-view+json": {
              "model_id": "56fc2ea8b7ee4887ace41ba579b6f496",
              "version_major": 2,
              "version_minor": 0
            },
            "text/plain": [
              "HBox(children=(FloatProgress(value=0.0, max=8.0), HTML(value='')))"
            ]
          },
          "metadata": {
            "tags": []
          },
          "output_type": "display_data"
        },
        {
          "data": {
            "application/vnd.jupyter.widget-view+json": {
              "model_id": "4f3a7a61bd0d4831846b63ea69a60628",
              "version_major": 2,
              "version_minor": 0
            },
            "text/plain": [
              "HBox(children=(FloatProgress(value=0.0, max=235.0), HTML(value='')))"
            ]
          },
          "metadata": {
            "tags": []
          },
          "output_type": "display_data"
        },
        {
          "name": "stdout",
          "output_type": "stream",
          "text": [
            "\n"
          ]
        },
        {
          "data": {
            "application/vnd.jupyter.widget-view+json": {
              "model_id": "7ae9edaeca684f3581e897c4c8bd7b93",
              "version_major": 2,
              "version_minor": 0
            },
            "text/plain": [
              "HBox(children=(FloatProgress(value=0.0, max=235.0), HTML(value='')))"
            ]
          },
          "metadata": {
            "tags": []
          },
          "output_type": "display_data"
        },
        {
          "name": "stdout",
          "output_type": "stream",
          "text": [
            "\n"
          ]
        },
        {
          "data": {
            "application/vnd.jupyter.widget-view+json": {
              "model_id": "e282d26b77514b63a34e7add73c4b5fa",
              "version_major": 2,
              "version_minor": 0
            },
            "text/plain": [
              "HBox(children=(FloatProgress(value=0.0, max=235.0), HTML(value='')))"
            ]
          },
          "metadata": {
            "tags": []
          },
          "output_type": "display_data"
        },
        {
          "name": "stdout",
          "output_type": "stream",
          "text": [
            "\n"
          ]
        },
        {
          "data": {
            "application/vnd.jupyter.widget-view+json": {
              "model_id": "6aa5c9cd38904e9591e37cb428fa1cf6",
              "version_major": 2,
              "version_minor": 0
            },
            "text/plain": [
              "HBox(children=(FloatProgress(value=0.0, max=235.0), HTML(value='')))"
            ]
          },
          "metadata": {
            "tags": []
          },
          "output_type": "display_data"
        },
        {
          "name": "stdout",
          "output_type": "stream",
          "text": [
            "\n"
          ]
        },
        {
          "data": {
            "application/vnd.jupyter.widget-view+json": {
              "model_id": "b29e9ac1091240f0a281595d22abe305",
              "version_major": 2,
              "version_minor": 0
            },
            "text/plain": [
              "HBox(children=(FloatProgress(value=0.0, max=235.0), HTML(value='')))"
            ]
          },
          "metadata": {
            "tags": []
          },
          "output_type": "display_data"
        },
        {
          "name": "stdout",
          "output_type": "stream",
          "text": [
            "\n"
          ]
        },
        {
          "data": {
            "application/vnd.jupyter.widget-view+json": {
              "model_id": "d4265f260d7848518f580c76a80a73ed",
              "version_major": 2,
              "version_minor": 0
            },
            "text/plain": [
              "HBox(children=(FloatProgress(value=0.0, max=235.0), HTML(value='')))"
            ]
          },
          "metadata": {
            "tags": []
          },
          "output_type": "display_data"
        },
        {
          "name": "stdout",
          "output_type": "stream",
          "text": [
            "\n"
          ]
        },
        {
          "data": {
            "application/vnd.jupyter.widget-view+json": {
              "model_id": "e9be6bb5dd574cb1ab858ad8f488208c",
              "version_major": 2,
              "version_minor": 0
            },
            "text/plain": [
              "HBox(children=(FloatProgress(value=0.0, max=235.0), HTML(value='')))"
            ]
          },
          "metadata": {
            "tags": []
          },
          "output_type": "display_data"
        },
        {
          "name": "stdout",
          "output_type": "stream",
          "text": [
            "\n"
          ]
        },
        {
          "data": {
            "application/vnd.jupyter.widget-view+json": {
              "model_id": "e9d8a280dc854addb6bb641969429d75",
              "version_major": 2,
              "version_minor": 0
            },
            "text/plain": [
              "HBox(children=(FloatProgress(value=0.0, max=235.0), HTML(value='')))"
            ]
          },
          "metadata": {
            "tags": []
          },
          "output_type": "display_data"
        },
        {
          "name": "stdout",
          "output_type": "stream",
          "text": [
            "\n",
            "\n"
          ]
        },
        {
          "data": {
            "application/vnd.jupyter.widget-view+json": {
              "model_id": "a1cbe880695f4f279c070a977011ad68",
              "version_major": 2,
              "version_minor": 0
            },
            "text/plain": [
              "HBox(children=(FloatProgress(value=0.0, max=8.0), HTML(value='')))"
            ]
          },
          "metadata": {
            "tags": []
          },
          "output_type": "display_data"
        },
        {
          "data": {
            "application/vnd.jupyter.widget-view+json": {
              "model_id": "cf7cc668b8ca4397add5eed3f44e8144",
              "version_major": 2,
              "version_minor": 0
            },
            "text/plain": [
              "HBox(children=(FloatProgress(value=0.0, max=235.0), HTML(value='')))"
            ]
          },
          "metadata": {
            "tags": []
          },
          "output_type": "display_data"
        },
        {
          "name": "stdout",
          "output_type": "stream",
          "text": [
            "\n"
          ]
        },
        {
          "data": {
            "application/vnd.jupyter.widget-view+json": {
              "model_id": "53ed15d055da4cc4aa24b8e422d467d1",
              "version_major": 2,
              "version_minor": 0
            },
            "text/plain": [
              "HBox(children=(FloatProgress(value=0.0, max=235.0), HTML(value='')))"
            ]
          },
          "metadata": {
            "tags": []
          },
          "output_type": "display_data"
        },
        {
          "name": "stdout",
          "output_type": "stream",
          "text": [
            "\n"
          ]
        },
        {
          "data": {
            "application/vnd.jupyter.widget-view+json": {
              "model_id": "41c8f1e5c94543838fdad42db40d2394",
              "version_major": 2,
              "version_minor": 0
            },
            "text/plain": [
              "HBox(children=(FloatProgress(value=0.0, max=235.0), HTML(value='')))"
            ]
          },
          "metadata": {
            "tags": []
          },
          "output_type": "display_data"
        },
        {
          "name": "stdout",
          "output_type": "stream",
          "text": [
            "\n"
          ]
        },
        {
          "data": {
            "application/vnd.jupyter.widget-view+json": {
              "model_id": "8072c704f82e4819a2615f3db1856ca1",
              "version_major": 2,
              "version_minor": 0
            },
            "text/plain": [
              "HBox(children=(FloatProgress(value=0.0, max=235.0), HTML(value='')))"
            ]
          },
          "metadata": {
            "tags": []
          },
          "output_type": "display_data"
        },
        {
          "name": "stdout",
          "output_type": "stream",
          "text": [
            "\n"
          ]
        },
        {
          "data": {
            "application/vnd.jupyter.widget-view+json": {
              "model_id": "166da3f3bcc641caa104af0e40295cd7",
              "version_major": 2,
              "version_minor": 0
            },
            "text/plain": [
              "HBox(children=(FloatProgress(value=0.0, max=235.0), HTML(value='')))"
            ]
          },
          "metadata": {
            "tags": []
          },
          "output_type": "display_data"
        },
        {
          "name": "stdout",
          "output_type": "stream",
          "text": [
            "\n"
          ]
        },
        {
          "data": {
            "application/vnd.jupyter.widget-view+json": {
              "model_id": "c9e12470f18b4f5d9a68c3af81d47f37",
              "version_major": 2,
              "version_minor": 0
            },
            "text/plain": [
              "HBox(children=(FloatProgress(value=0.0, max=235.0), HTML(value='')))"
            ]
          },
          "metadata": {
            "tags": []
          },
          "output_type": "display_data"
        },
        {
          "name": "stdout",
          "output_type": "stream",
          "text": [
            "\n"
          ]
        },
        {
          "data": {
            "application/vnd.jupyter.widget-view+json": {
              "model_id": "209d087aee9f49aab45ccd6bc6f385ba",
              "version_major": 2,
              "version_minor": 0
            },
            "text/plain": [
              "HBox(children=(FloatProgress(value=0.0, max=235.0), HTML(value='')))"
            ]
          },
          "metadata": {
            "tags": []
          },
          "output_type": "display_data"
        },
        {
          "name": "stdout",
          "output_type": "stream",
          "text": [
            "\n"
          ]
        },
        {
          "data": {
            "application/vnd.jupyter.widget-view+json": {
              "model_id": "478d79ed55144c3b8f9bc3e7b00a50c3",
              "version_major": 2,
              "version_minor": 0
            },
            "text/plain": [
              "HBox(children=(FloatProgress(value=0.0, max=235.0), HTML(value='')))"
            ]
          },
          "metadata": {
            "tags": []
          },
          "output_type": "display_data"
        },
        {
          "name": "stdout",
          "output_type": "stream",
          "text": [
            "\n",
            "\n"
          ]
        },
        {
          "data": {
            "application/vnd.jupyter.widget-view+json": {
              "model_id": "d5bc5e551962472e8e1dd04b6840fa2b",
              "version_major": 2,
              "version_minor": 0
            },
            "text/plain": [
              "HBox(children=(FloatProgress(value=0.0, max=8.0), HTML(value='')))"
            ]
          },
          "metadata": {
            "tags": []
          },
          "output_type": "display_data"
        },
        {
          "data": {
            "application/vnd.jupyter.widget-view+json": {
              "model_id": "a181d72c82b74eea95244ac8d3479dee",
              "version_major": 2,
              "version_minor": 0
            },
            "text/plain": [
              "HBox(children=(FloatProgress(value=0.0, max=235.0), HTML(value='')))"
            ]
          },
          "metadata": {
            "tags": []
          },
          "output_type": "display_data"
        },
        {
          "name": "stdout",
          "output_type": "stream",
          "text": [
            "\n"
          ]
        },
        {
          "data": {
            "application/vnd.jupyter.widget-view+json": {
              "model_id": "bf851960322b4cca84975383cc186a11",
              "version_major": 2,
              "version_minor": 0
            },
            "text/plain": [
              "HBox(children=(FloatProgress(value=0.0, max=235.0), HTML(value='')))"
            ]
          },
          "metadata": {
            "tags": []
          },
          "output_type": "display_data"
        },
        {
          "name": "stdout",
          "output_type": "stream",
          "text": [
            "\n"
          ]
        },
        {
          "data": {
            "application/vnd.jupyter.widget-view+json": {
              "model_id": "1327fe5cbf704289830fd7ceb8e1fbcf",
              "version_major": 2,
              "version_minor": 0
            },
            "text/plain": [
              "HBox(children=(FloatProgress(value=0.0, max=235.0), HTML(value='')))"
            ]
          },
          "metadata": {
            "tags": []
          },
          "output_type": "display_data"
        },
        {
          "name": "stdout",
          "output_type": "stream",
          "text": [
            "\n"
          ]
        },
        {
          "data": {
            "application/vnd.jupyter.widget-view+json": {
              "model_id": "5a95798e350d42a1b704f176408d3cc0",
              "version_major": 2,
              "version_minor": 0
            },
            "text/plain": [
              "HBox(children=(FloatProgress(value=0.0, max=235.0), HTML(value='')))"
            ]
          },
          "metadata": {
            "tags": []
          },
          "output_type": "display_data"
        },
        {
          "name": "stdout",
          "output_type": "stream",
          "text": [
            "\n"
          ]
        },
        {
          "data": {
            "application/vnd.jupyter.widget-view+json": {
              "model_id": "05afe9c26c0e481da66bc34eb566bcb4",
              "version_major": 2,
              "version_minor": 0
            },
            "text/plain": [
              "HBox(children=(FloatProgress(value=0.0, max=235.0), HTML(value='')))"
            ]
          },
          "metadata": {
            "tags": []
          },
          "output_type": "display_data"
        },
        {
          "name": "stdout",
          "output_type": "stream",
          "text": [
            "\n"
          ]
        },
        {
          "data": {
            "application/vnd.jupyter.widget-view+json": {
              "model_id": "0063e8d57aca42a08e93ab4273c0be5f",
              "version_major": 2,
              "version_minor": 0
            },
            "text/plain": [
              "HBox(children=(FloatProgress(value=0.0, max=235.0), HTML(value='')))"
            ]
          },
          "metadata": {
            "tags": []
          },
          "output_type": "display_data"
        },
        {
          "name": "stdout",
          "output_type": "stream",
          "text": [
            "\n"
          ]
        },
        {
          "data": {
            "application/vnd.jupyter.widget-view+json": {
              "model_id": "b76c1dcaea4b46dfb1347308a2a983f4",
              "version_major": 2,
              "version_minor": 0
            },
            "text/plain": [
              "HBox(children=(FloatProgress(value=0.0, max=235.0), HTML(value='')))"
            ]
          },
          "metadata": {
            "tags": []
          },
          "output_type": "display_data"
        },
        {
          "name": "stdout",
          "output_type": "stream",
          "text": [
            "\n"
          ]
        },
        {
          "data": {
            "application/vnd.jupyter.widget-view+json": {
              "model_id": "0d613836a9fb4e3eb35def0a77c5a517",
              "version_major": 2,
              "version_minor": 0
            },
            "text/plain": [
              "HBox(children=(FloatProgress(value=0.0, max=235.0), HTML(value='')))"
            ]
          },
          "metadata": {
            "tags": []
          },
          "output_type": "display_data"
        },
        {
          "name": "stdout",
          "output_type": "stream",
          "text": [
            "\n",
            "\n"
          ]
        },
        {
          "data": {
            "application/vnd.jupyter.widget-view+json": {
              "model_id": "ddf889ad656f48a4888d8b31f2fc6636",
              "version_major": 2,
              "version_minor": 0
            },
            "text/plain": [
              "HBox(children=(FloatProgress(value=0.0, max=8.0), HTML(value='')))"
            ]
          },
          "metadata": {
            "tags": []
          },
          "output_type": "display_data"
        },
        {
          "data": {
            "application/vnd.jupyter.widget-view+json": {
              "model_id": "92a8a907dd9547ae909adb23f53fce8c",
              "version_major": 2,
              "version_minor": 0
            },
            "text/plain": [
              "HBox(children=(FloatProgress(value=0.0, max=235.0), HTML(value='')))"
            ]
          },
          "metadata": {
            "tags": []
          },
          "output_type": "display_data"
        },
        {
          "name": "stdout",
          "output_type": "stream",
          "text": [
            "\n"
          ]
        },
        {
          "data": {
            "application/vnd.jupyter.widget-view+json": {
              "model_id": "997d1d03224c49c1aa28f23f494b9f3b",
              "version_major": 2,
              "version_minor": 0
            },
            "text/plain": [
              "HBox(children=(FloatProgress(value=0.0, max=235.0), HTML(value='')))"
            ]
          },
          "metadata": {
            "tags": []
          },
          "output_type": "display_data"
        },
        {
          "name": "stdout",
          "output_type": "stream",
          "text": [
            "\n"
          ]
        },
        {
          "data": {
            "application/vnd.jupyter.widget-view+json": {
              "model_id": "9ed1ed20f5444d6bacd6183fb67b7e79",
              "version_major": 2,
              "version_minor": 0
            },
            "text/plain": [
              "HBox(children=(FloatProgress(value=0.0, max=235.0), HTML(value='')))"
            ]
          },
          "metadata": {
            "tags": []
          },
          "output_type": "display_data"
        },
        {
          "name": "stdout",
          "output_type": "stream",
          "text": [
            "\n"
          ]
        },
        {
          "data": {
            "application/vnd.jupyter.widget-view+json": {
              "model_id": "79ac9f8961474a54852b9e566bf8eb43",
              "version_major": 2,
              "version_minor": 0
            },
            "text/plain": [
              "HBox(children=(FloatProgress(value=0.0, max=235.0), HTML(value='')))"
            ]
          },
          "metadata": {
            "tags": []
          },
          "output_type": "display_data"
        },
        {
          "name": "stdout",
          "output_type": "stream",
          "text": [
            "\n"
          ]
        },
        {
          "data": {
            "application/vnd.jupyter.widget-view+json": {
              "model_id": "21c616593bc84bc2b6a659fd561d1abc",
              "version_major": 2,
              "version_minor": 0
            },
            "text/plain": [
              "HBox(children=(FloatProgress(value=0.0, max=235.0), HTML(value='')))"
            ]
          },
          "metadata": {
            "tags": []
          },
          "output_type": "display_data"
        },
        {
          "name": "stdout",
          "output_type": "stream",
          "text": [
            "\n"
          ]
        },
        {
          "data": {
            "application/vnd.jupyter.widget-view+json": {
              "model_id": "247e3774e58549b2ba5fb12a63fd48f5",
              "version_major": 2,
              "version_minor": 0
            },
            "text/plain": [
              "HBox(children=(FloatProgress(value=0.0, max=235.0), HTML(value='')))"
            ]
          },
          "metadata": {
            "tags": []
          },
          "output_type": "display_data"
        },
        {
          "name": "stdout",
          "output_type": "stream",
          "text": [
            "\n"
          ]
        },
        {
          "data": {
            "application/vnd.jupyter.widget-view+json": {
              "model_id": "6ab1e5e6da8249c6a4fdc19489e1d693",
              "version_major": 2,
              "version_minor": 0
            },
            "text/plain": [
              "HBox(children=(FloatProgress(value=0.0, max=235.0), HTML(value='')))"
            ]
          },
          "metadata": {
            "tags": []
          },
          "output_type": "display_data"
        },
        {
          "name": "stdout",
          "output_type": "stream",
          "text": [
            "\n"
          ]
        },
        {
          "data": {
            "application/vnd.jupyter.widget-view+json": {
              "model_id": "94c9157ef91f47e3bcb0eb6a9453e801",
              "version_major": 2,
              "version_minor": 0
            },
            "text/plain": [
              "HBox(children=(FloatProgress(value=0.0, max=235.0), HTML(value='')))"
            ]
          },
          "metadata": {
            "tags": []
          },
          "output_type": "display_data"
        },
        {
          "name": "stdout",
          "output_type": "stream",
          "text": [
            "\n",
            "\n"
          ]
        },
        {
          "data": {
            "application/vnd.jupyter.widget-view+json": {
              "model_id": "3395a776217148f8895e58d544e431c2",
              "version_major": 2,
              "version_minor": 0
            },
            "text/plain": [
              "HBox(children=(FloatProgress(value=0.0, max=8.0), HTML(value='')))"
            ]
          },
          "metadata": {
            "tags": []
          },
          "output_type": "display_data"
        },
        {
          "data": {
            "application/vnd.jupyter.widget-view+json": {
              "model_id": "38c948db9ef340e094ebc26d61d015a0",
              "version_major": 2,
              "version_minor": 0
            },
            "text/plain": [
              "HBox(children=(FloatProgress(value=0.0, max=235.0), HTML(value='')))"
            ]
          },
          "metadata": {
            "tags": []
          },
          "output_type": "display_data"
        },
        {
          "name": "stdout",
          "output_type": "stream",
          "text": [
            "\n"
          ]
        },
        {
          "data": {
            "application/vnd.jupyter.widget-view+json": {
              "model_id": "7081016bc5a6490e99ae7635f1f49079",
              "version_major": 2,
              "version_minor": 0
            },
            "text/plain": [
              "HBox(children=(FloatProgress(value=0.0, max=235.0), HTML(value='')))"
            ]
          },
          "metadata": {
            "tags": []
          },
          "output_type": "display_data"
        },
        {
          "name": "stdout",
          "output_type": "stream",
          "text": [
            "\n"
          ]
        },
        {
          "data": {
            "application/vnd.jupyter.widget-view+json": {
              "model_id": "c0df936e12e04cbabfac907336b49c13",
              "version_major": 2,
              "version_minor": 0
            },
            "text/plain": [
              "HBox(children=(FloatProgress(value=0.0, max=235.0), HTML(value='')))"
            ]
          },
          "metadata": {
            "tags": []
          },
          "output_type": "display_data"
        },
        {
          "name": "stdout",
          "output_type": "stream",
          "text": [
            "\n"
          ]
        },
        {
          "data": {
            "application/vnd.jupyter.widget-view+json": {
              "model_id": "dc2475a2619b4754aace11194ed24335",
              "version_major": 2,
              "version_minor": 0
            },
            "text/plain": [
              "HBox(children=(FloatProgress(value=0.0, max=235.0), HTML(value='')))"
            ]
          },
          "metadata": {
            "tags": []
          },
          "output_type": "display_data"
        },
        {
          "name": "stdout",
          "output_type": "stream",
          "text": [
            "\n"
          ]
        },
        {
          "data": {
            "application/vnd.jupyter.widget-view+json": {
              "model_id": "50a5905f58d3478dbcbc0e034a217efa",
              "version_major": 2,
              "version_minor": 0
            },
            "text/plain": [
              "HBox(children=(FloatProgress(value=0.0, max=235.0), HTML(value='')))"
            ]
          },
          "metadata": {
            "tags": []
          },
          "output_type": "display_data"
        },
        {
          "name": "stdout",
          "output_type": "stream",
          "text": [
            "\n"
          ]
        },
        {
          "data": {
            "application/vnd.jupyter.widget-view+json": {
              "model_id": "a65b029673cc4218ab00cda31628d1a7",
              "version_major": 2,
              "version_minor": 0
            },
            "text/plain": [
              "HBox(children=(FloatProgress(value=0.0, max=235.0), HTML(value='')))"
            ]
          },
          "metadata": {
            "tags": []
          },
          "output_type": "display_data"
        },
        {
          "name": "stdout",
          "output_type": "stream",
          "text": [
            "\n"
          ]
        },
        {
          "data": {
            "application/vnd.jupyter.widget-view+json": {
              "model_id": "902edb97d72f4d24b62c3f6b41714c2d",
              "version_major": 2,
              "version_minor": 0
            },
            "text/plain": [
              "HBox(children=(FloatProgress(value=0.0, max=235.0), HTML(value='')))"
            ]
          },
          "metadata": {
            "tags": []
          },
          "output_type": "display_data"
        },
        {
          "name": "stdout",
          "output_type": "stream",
          "text": [
            "\n"
          ]
        },
        {
          "data": {
            "application/vnd.jupyter.widget-view+json": {
              "model_id": "0e4198f83f5e485c9367db9bda9b1360",
              "version_major": 2,
              "version_minor": 0
            },
            "text/plain": [
              "HBox(children=(FloatProgress(value=0.0, max=235.0), HTML(value='')))"
            ]
          },
          "metadata": {
            "tags": []
          },
          "output_type": "display_data"
        },
        {
          "name": "stdout",
          "output_type": "stream",
          "text": [
            "\n",
            "\n"
          ]
        },
        {
          "data": {
            "application/vnd.jupyter.widget-view+json": {
              "model_id": "2e3441db8fa6425ea9c20929aa73fca9",
              "version_major": 2,
              "version_minor": 0
            },
            "text/plain": [
              "HBox(children=(FloatProgress(value=0.0, max=8.0), HTML(value='')))"
            ]
          },
          "metadata": {
            "tags": []
          },
          "output_type": "display_data"
        },
        {
          "data": {
            "application/vnd.jupyter.widget-view+json": {
              "model_id": "f309ba8aad6e46258bfbd50eae409af2",
              "version_major": 2,
              "version_minor": 0
            },
            "text/plain": [
              "HBox(children=(FloatProgress(value=0.0, max=235.0), HTML(value='')))"
            ]
          },
          "metadata": {
            "tags": []
          },
          "output_type": "display_data"
        },
        {
          "name": "stdout",
          "output_type": "stream",
          "text": [
            "\n"
          ]
        },
        {
          "data": {
            "application/vnd.jupyter.widget-view+json": {
              "model_id": "1c8e6f7af2b5420daa75b388e6eb10ac",
              "version_major": 2,
              "version_minor": 0
            },
            "text/plain": [
              "HBox(children=(FloatProgress(value=0.0, max=235.0), HTML(value='')))"
            ]
          },
          "metadata": {
            "tags": []
          },
          "output_type": "display_data"
        },
        {
          "name": "stdout",
          "output_type": "stream",
          "text": [
            "\n"
          ]
        },
        {
          "data": {
            "application/vnd.jupyter.widget-view+json": {
              "model_id": "5ac488bb8ce54a889d16e6896ed9dd37",
              "version_major": 2,
              "version_minor": 0
            },
            "text/plain": [
              "HBox(children=(FloatProgress(value=0.0, max=235.0), HTML(value='')))"
            ]
          },
          "metadata": {
            "tags": []
          },
          "output_type": "display_data"
        },
        {
          "name": "stdout",
          "output_type": "stream",
          "text": [
            "\n"
          ]
        },
        {
          "data": {
            "application/vnd.jupyter.widget-view+json": {
              "model_id": "e14fc928383641bbb9034e8525ac2a94",
              "version_major": 2,
              "version_minor": 0
            },
            "text/plain": [
              "HBox(children=(FloatProgress(value=0.0, max=235.0), HTML(value='')))"
            ]
          },
          "metadata": {
            "tags": []
          },
          "output_type": "display_data"
        },
        {
          "name": "stdout",
          "output_type": "stream",
          "text": [
            "\n"
          ]
        },
        {
          "data": {
            "application/vnd.jupyter.widget-view+json": {
              "model_id": "9ccf8d98a78741439b0c9a1038f27ead",
              "version_major": 2,
              "version_minor": 0
            },
            "text/plain": [
              "HBox(children=(FloatProgress(value=0.0, max=235.0), HTML(value='')))"
            ]
          },
          "metadata": {
            "tags": []
          },
          "output_type": "display_data"
        },
        {
          "name": "stdout",
          "output_type": "stream",
          "text": [
            "\n"
          ]
        },
        {
          "data": {
            "application/vnd.jupyter.widget-view+json": {
              "model_id": "cb9feb76d65143a19a674de899f91359",
              "version_major": 2,
              "version_minor": 0
            },
            "text/plain": [
              "HBox(children=(FloatProgress(value=0.0, max=235.0), HTML(value='')))"
            ]
          },
          "metadata": {
            "tags": []
          },
          "output_type": "display_data"
        },
        {
          "name": "stdout",
          "output_type": "stream",
          "text": [
            "\n"
          ]
        },
        {
          "data": {
            "application/vnd.jupyter.widget-view+json": {
              "model_id": "143163062dc244e3b90a40b66052f645",
              "version_major": 2,
              "version_minor": 0
            },
            "text/plain": [
              "HBox(children=(FloatProgress(value=0.0, max=235.0), HTML(value='')))"
            ]
          },
          "metadata": {
            "tags": []
          },
          "output_type": "display_data"
        },
        {
          "name": "stdout",
          "output_type": "stream",
          "text": [
            "\n"
          ]
        },
        {
          "data": {
            "application/vnd.jupyter.widget-view+json": {
              "model_id": "29577ba31537476b98d59cb4628275be",
              "version_major": 2,
              "version_minor": 0
            },
            "text/plain": [
              "HBox(children=(FloatProgress(value=0.0, max=235.0), HTML(value='')))"
            ]
          },
          "metadata": {
            "tags": []
          },
          "output_type": "display_data"
        },
        {
          "name": "stdout",
          "output_type": "stream",
          "text": [
            "\n",
            "\n",
            "\n"
          ]
        }
      ]
    },
    {
      "cell_type": "markdown",
      "metadata": {
        "id": "koHPgarWVm8q"
      },
      "source": [
        "# Feature Selection and Data Preprocessing"
      ]
    },
    {
      "cell_type": "code",
      "metadata": {
        "colab": {
          "background_save": true,
          "base_uri": "https://localhost:8080/",
          "height": 657
        },
        "id": "bF8ewMvFQKrG",
        "outputId": "b2d124c4-f92d-400d-8406-3e5f4f186bed"
      },
      "source": [
        "X__extracted_features = pd.read_pickle(\"/content/drive/MyDrive/audio_extracted_features.pkl\")\n",
        "X__extracted_features"
      ],
      "execution_count": null,
      "outputs": [
        {
          "data": {
            "text/html": [
              "<div>\n",
              "<style scoped>\n",
              "    .dataframe tbody tr th:only-of-type {\n",
              "        vertical-align: middle;\n",
              "    }\n",
              "\n",
              "    .dataframe tbody tr th {\n",
              "        vertical-align: top;\n",
              "    }\n",
              "\n",
              "    .dataframe thead th {\n",
              "        text-align: right;\n",
              "    }\n",
              "</style>\n",
              "<table border=\"1\" class=\"dataframe\">\n",
              "  <thead>\n",
              "    <tr style=\"text-align: right;\">\n",
              "      <th></th>\n",
              "      <th></th>\n",
              "      <th></th>\n",
              "      <th>audspec_lengthL1norm_sma_range</th>\n",
              "      <th>audspec_lengthL1norm_sma_maxPos</th>\n",
              "      <th>audspec_lengthL1norm_sma_minPos</th>\n",
              "      <th>audspec_lengthL1norm_sma_quartile1</th>\n",
              "      <th>audspec_lengthL1norm_sma_quartile2</th>\n",
              "      <th>audspec_lengthL1norm_sma_quartile3</th>\n",
              "      <th>audspec_lengthL1norm_sma_iqr1-2</th>\n",
              "      <th>audspec_lengthL1norm_sma_iqr2-3</th>\n",
              "      <th>audspec_lengthL1norm_sma_iqr1-3</th>\n",
              "      <th>audspec_lengthL1norm_sma_percentile1.0</th>\n",
              "      <th>audspec_lengthL1norm_sma_percentile99.0</th>\n",
              "      <th>audspec_lengthL1norm_sma_pctlrange0-1</th>\n",
              "      <th>audspec_lengthL1norm_sma_stddev</th>\n",
              "      <th>audspec_lengthL1norm_sma_skewness</th>\n",
              "      <th>audspec_lengthL1norm_sma_kurtosis</th>\n",
              "      <th>audspec_lengthL1norm_sma_meanSegLen</th>\n",
              "      <th>audspec_lengthL1norm_sma_maxSegLen</th>\n",
              "      <th>audspec_lengthL1norm_sma_minSegLen</th>\n",
              "      <th>audspec_lengthL1norm_sma_segLenStddev</th>\n",
              "      <th>audspec_lengthL1norm_sma_upleveltime25</th>\n",
              "      <th>audspec_lengthL1norm_sma_upleveltime50</th>\n",
              "      <th>audspec_lengthL1norm_sma_upleveltime75</th>\n",
              "      <th>audspec_lengthL1norm_sma_upleveltime90</th>\n",
              "      <th>audspec_lengthL1norm_sma_risetime</th>\n",
              "      <th>audspec_lengthL1norm_sma_leftctime</th>\n",
              "      <th>audspec_lengthL1norm_sma_lpgain</th>\n",
              "      <th>audspec_lengthL1norm_sma_lpc0</th>\n",
              "      <th>audspec_lengthL1norm_sma_lpc1</th>\n",
              "      <th>audspec_lengthL1norm_sma_lpc2</th>\n",
              "      <th>audspec_lengthL1norm_sma_lpc3</th>\n",
              "      <th>audspec_lengthL1norm_sma_lpc4</th>\n",
              "      <th>audspecRasta_lengthL1norm_sma_range</th>\n",
              "      <th>audspecRasta_lengthL1norm_sma_maxPos</th>\n",
              "      <th>audspecRasta_lengthL1norm_sma_minPos</th>\n",
              "      <th>audspecRasta_lengthL1norm_sma_quartile1</th>\n",
              "      <th>audspecRasta_lengthL1norm_sma_quartile2</th>\n",
              "      <th>audspecRasta_lengthL1norm_sma_quartile3</th>\n",
              "      <th>audspecRasta_lengthL1norm_sma_iqr1-2</th>\n",
              "      <th>audspecRasta_lengthL1norm_sma_iqr2-3</th>\n",
              "      <th>audspecRasta_lengthL1norm_sma_iqr1-3</th>\n",
              "      <th>...</th>\n",
              "      <th>mfcc_sma_de[12]_peakRangeRel</th>\n",
              "      <th>mfcc_sma_de[12]_peakMeanAbs</th>\n",
              "      <th>mfcc_sma_de[12]_peakMeanMeanDist</th>\n",
              "      <th>mfcc_sma_de[12]_peakMeanRel</th>\n",
              "      <th>mfcc_sma_de[12]_minRangeRel</th>\n",
              "      <th>mfcc_sma_de[12]_meanRisingSlope</th>\n",
              "      <th>mfcc_sma_de[12]_stddevRisingSlope</th>\n",
              "      <th>mfcc_sma_de[12]_meanFallingSlope</th>\n",
              "      <th>mfcc_sma_de[12]_stddevFallingSlope</th>\n",
              "      <th>mfcc_sma_de[13]_flatness</th>\n",
              "      <th>mfcc_sma_de[13]_posamean</th>\n",
              "      <th>mfcc_sma_de[13]_rqmean</th>\n",
              "      <th>mfcc_sma_de[13]_meanPeakDist</th>\n",
              "      <th>mfcc_sma_de[13]_peakDistStddev</th>\n",
              "      <th>mfcc_sma_de[13]_peakRangeAbs</th>\n",
              "      <th>mfcc_sma_de[13]_peakRangeRel</th>\n",
              "      <th>mfcc_sma_de[13]_peakMeanAbs</th>\n",
              "      <th>mfcc_sma_de[13]_peakMeanMeanDist</th>\n",
              "      <th>mfcc_sma_de[13]_peakMeanRel</th>\n",
              "      <th>mfcc_sma_de[13]_minRangeRel</th>\n",
              "      <th>mfcc_sma_de[13]_meanRisingSlope</th>\n",
              "      <th>mfcc_sma_de[13]_stddevRisingSlope</th>\n",
              "      <th>mfcc_sma_de[13]_meanFallingSlope</th>\n",
              "      <th>mfcc_sma_de[13]_stddevFallingSlope</th>\n",
              "      <th>mfcc_sma_de[14]_flatness</th>\n",
              "      <th>mfcc_sma_de[14]_posamean</th>\n",
              "      <th>mfcc_sma_de[14]_rqmean</th>\n",
              "      <th>mfcc_sma_de[14]_meanPeakDist</th>\n",
              "      <th>mfcc_sma_de[14]_peakDistStddev</th>\n",
              "      <th>mfcc_sma_de[14]_peakRangeAbs</th>\n",
              "      <th>mfcc_sma_de[14]_peakRangeRel</th>\n",
              "      <th>mfcc_sma_de[14]_peakMeanAbs</th>\n",
              "      <th>mfcc_sma_de[14]_peakMeanMeanDist</th>\n",
              "      <th>mfcc_sma_de[14]_peakMeanRel</th>\n",
              "      <th>mfcc_sma_de[14]_minRangeRel</th>\n",
              "      <th>mfcc_sma_de[14]_meanRisingSlope</th>\n",
              "      <th>mfcc_sma_de[14]_stddevRisingSlope</th>\n",
              "      <th>mfcc_sma_de[14]_meanFallingSlope</th>\n",
              "      <th>mfcc_sma_de[14]_stddevFallingSlope</th>\n",
              "      <th>label</th>\n",
              "    </tr>\n",
              "    <tr>\n",
              "      <th>file</th>\n",
              "      <th>start</th>\n",
              "      <th>end</th>\n",
              "      <th></th>\n",
              "      <th></th>\n",
              "      <th></th>\n",
              "      <th></th>\n",
              "      <th></th>\n",
              "      <th></th>\n",
              "      <th></th>\n",
              "      <th></th>\n",
              "      <th></th>\n",
              "      <th></th>\n",
              "      <th></th>\n",
              "      <th></th>\n",
              "      <th></th>\n",
              "      <th></th>\n",
              "      <th></th>\n",
              "      <th></th>\n",
              "      <th></th>\n",
              "      <th></th>\n",
              "      <th></th>\n",
              "      <th></th>\n",
              "      <th></th>\n",
              "      <th></th>\n",
              "      <th></th>\n",
              "      <th></th>\n",
              "      <th></th>\n",
              "      <th></th>\n",
              "      <th></th>\n",
              "      <th></th>\n",
              "      <th></th>\n",
              "      <th></th>\n",
              "      <th></th>\n",
              "      <th></th>\n",
              "      <th></th>\n",
              "      <th></th>\n",
              "      <th></th>\n",
              "      <th></th>\n",
              "      <th></th>\n",
              "      <th></th>\n",
              "      <th></th>\n",
              "      <th></th>\n",
              "      <th></th>\n",
              "      <th></th>\n",
              "      <th></th>\n",
              "      <th></th>\n",
              "      <th></th>\n",
              "      <th></th>\n",
              "      <th></th>\n",
              "      <th></th>\n",
              "      <th></th>\n",
              "      <th></th>\n",
              "      <th></th>\n",
              "      <th></th>\n",
              "      <th></th>\n",
              "      <th></th>\n",
              "      <th></th>\n",
              "      <th></th>\n",
              "      <th></th>\n",
              "      <th></th>\n",
              "      <th></th>\n",
              "      <th></th>\n",
              "      <th></th>\n",
              "      <th></th>\n",
              "      <th></th>\n",
              "      <th></th>\n",
              "      <th></th>\n",
              "      <th></th>\n",
              "      <th></th>\n",
              "      <th></th>\n",
              "      <th></th>\n",
              "      <th></th>\n",
              "      <th></th>\n",
              "      <th></th>\n",
              "      <th></th>\n",
              "      <th></th>\n",
              "      <th></th>\n",
              "      <th></th>\n",
              "      <th></th>\n",
              "      <th></th>\n",
              "      <th></th>\n",
              "      <th></th>\n",
              "      <th></th>\n",
              "    </tr>\n",
              "  </thead>\n",
              "  <tbody>\n",
              "    <tr>\n",
              "      <th>/content/drive/MyDrive/SEMOUR_LD/Scripted_Speech/Actor_1/Anger/1.wav</th>\n",
              "      <th>0 days</th>\n",
              "      <th>0 days 00:00:00.473106576</th>\n",
              "      <td>4.058659</td>\n",
              "      <td>0.625000</td>\n",
              "      <td>0.000000</td>\n",
              "      <td>0.895754</td>\n",
              "      <td>1.618868</td>\n",
              "      <td>2.402907</td>\n",
              "      <td>0.723114</td>\n",
              "      <td>0.784039</td>\n",
              "      <td>1.507153</td>\n",
              "      <td>0.303974</td>\n",
              "      <td>4.281762</td>\n",
              "      <td>3.977788</td>\n",
              "      <td>1.133754</td>\n",
              "      <td>0.563936</td>\n",
              "      <td>2.422741</td>\n",
              "      <td>0.072000</td>\n",
              "      <td>0.11</td>\n",
              "      <td>0.05</td>\n",
              "      <td>0.024000</td>\n",
              "      <td>0.575000</td>\n",
              "      <td>0.300000</td>\n",
              "      <td>0.125000</td>\n",
              "      <td>0.075000</td>\n",
              "      <td>0.512821</td>\n",
              "      <td>0.605263</td>\n",
              "      <td>0.032996</td>\n",
              "      <td>-2.176077</td>\n",
              "      <td>1.642672</td>\n",
              "      <td>-0.349374</td>\n",
              "      <td>-0.253561</td>\n",
              "      <td>0.154114</td>\n",
              "      <td>5.356080</td>\n",
              "      <td>0.250000</td>\n",
              "      <td>0.975000</td>\n",
              "      <td>1.175630</td>\n",
              "      <td>2.059757</td>\n",
              "      <td>3.807502</td>\n",
              "      <td>0.884127</td>\n",
              "      <td>1.747745</td>\n",
              "      <td>2.631872</td>\n",
              "      <td>...</td>\n",
              "      <td>0.301954</td>\n",
              "      <td>2.812235</td>\n",
              "      <td>3.813718</td>\n",
              "      <td>-2.808071</td>\n",
              "      <td>0.567325</td>\n",
              "      <td>154.407944</td>\n",
              "      <td>52.375572</td>\n",
              "      <td>134.955185</td>\n",
              "      <td>80.660126</td>\n",
              "      <td>0.677973</td>\n",
              "      <td>2.246818</td>\n",
              "      <td>2.839386</td>\n",
              "      <td>0.100000</td>\n",
              "      <td>0.035355</td>\n",
              "      <td>2.041983</td>\n",
              "      <td>0.189795</td>\n",
              "      <td>3.946771</td>\n",
              "      <td>4.172409</td>\n",
              "      <td>-13.651417</td>\n",
              "      <td>0.522477</td>\n",
              "      <td>101.425377</td>\n",
              "      <td>20.053261</td>\n",
              "      <td>115.294106</td>\n",
              "      <td>59.027725</td>\n",
              "      <td>0.501098</td>\n",
              "      <td>4.443209</td>\n",
              "      <td>4.070061</td>\n",
              "      <td>0.145000</td>\n",
              "      <td>0.078262</td>\n",
              "      <td>11.857621</td>\n",
              "      <td>0.648775</td>\n",
              "      <td>5.613305</td>\n",
              "      <td>5.370169</td>\n",
              "      <td>15.010111</td>\n",
              "      <td>0.175311</td>\n",
              "      <td>108.085876</td>\n",
              "      <td>41.074566</td>\n",
              "      <td>127.298073</td>\n",
              "      <td>72.606239</td>\n",
              "      <td>0</td>\n",
              "    </tr>\n",
              "    <tr>\n",
              "      <th>/content/drive/MyDrive/SEMOUR_LD/Scripted_Speech/Actor_1/Anger/10.wav</th>\n",
              "      <th>0 days</th>\n",
              "      <th>0 days 00:00:00.841723356</th>\n",
              "      <td>6.842539</td>\n",
              "      <td>0.727273</td>\n",
              "      <td>0.038961</td>\n",
              "      <td>0.052606</td>\n",
              "      <td>0.468090</td>\n",
              "      <td>3.864347</td>\n",
              "      <td>0.415484</td>\n",
              "      <td>3.396257</td>\n",
              "      <td>3.811741</td>\n",
              "      <td>0.049396</td>\n",
              "      <td>6.862217</td>\n",
              "      <td>6.812821</td>\n",
              "      <td>2.192535</td>\n",
              "      <td>0.718242</td>\n",
              "      <td>2.025416</td>\n",
              "      <td>0.118333</td>\n",
              "      <td>0.37</td>\n",
              "      <td>0.03</td>\n",
              "      <td>0.114952</td>\n",
              "      <td>0.441558</td>\n",
              "      <td>0.285714</td>\n",
              "      <td>0.103896</td>\n",
              "      <td>0.025974</td>\n",
              "      <td>0.473684</td>\n",
              "      <td>0.586667</td>\n",
              "      <td>0.055229</td>\n",
              "      <td>-2.218804</td>\n",
              "      <td>1.657001</td>\n",
              "      <td>-0.094908</td>\n",
              "      <td>-0.650779</td>\n",
              "      <td>0.324451</td>\n",
              "      <td>38.313927</td>\n",
              "      <td>0.493506</td>\n",
              "      <td>0.987013</td>\n",
              "      <td>1.001406</td>\n",
              "      <td>1.051384</td>\n",
              "      <td>3.917487</td>\n",
              "      <td>0.049978</td>\n",
              "      <td>2.866103</td>\n",
              "      <td>2.916081</td>\n",
              "      <td>...</td>\n",
              "      <td>0.212417</td>\n",
              "      <td>2.857529</td>\n",
              "      <td>3.038449</td>\n",
              "      <td>-13.107037</td>\n",
              "      <td>0.765460</td>\n",
              "      <td>103.555061</td>\n",
              "      <td>54.037983</td>\n",
              "      <td>164.785690</td>\n",
              "      <td>95.077461</td>\n",
              "      <td>0.745278</td>\n",
              "      <td>1.494891</td>\n",
              "      <td>1.818592</td>\n",
              "      <td>0.078750</td>\n",
              "      <td>0.040946</td>\n",
              "      <td>4.838863</td>\n",
              "      <td>0.541413</td>\n",
              "      <td>1.950762</td>\n",
              "      <td>2.058352</td>\n",
              "      <td>-13.836792</td>\n",
              "      <td>0.532722</td>\n",
              "      <td>82.890808</td>\n",
              "      <td>44.938473</td>\n",
              "      <td>102.386658</td>\n",
              "      <td>41.619652</td>\n",
              "      <td>0.727923</td>\n",
              "      <td>1.826738</td>\n",
              "      <td>2.324693</td>\n",
              "      <td>0.103333</td>\n",
              "      <td>0.055428</td>\n",
              "      <td>4.086049</td>\n",
              "      <td>0.372236</td>\n",
              "      <td>3.154120</td>\n",
              "      <td>3.092644</td>\n",
              "      <td>18.008110</td>\n",
              "      <td>0.356644</td>\n",
              "      <td>120.581856</td>\n",
              "      <td>58.055496</td>\n",
              "      <td>128.368332</td>\n",
              "      <td>53.650639</td>\n",
              "      <td>0</td>\n",
              "    </tr>\n",
              "    <tr>\n",
              "      <th>/content/drive/MyDrive/SEMOUR_LD/Scripted_Speech/Actor_1/Anger/100.wav</th>\n",
              "      <th>0 days</th>\n",
              "      <th>0 days 00:00:01.117460317</th>\n",
              "      <td>7.271195</td>\n",
              "      <td>0.326923</td>\n",
              "      <td>0.153846</td>\n",
              "      <td>0.110021</td>\n",
              "      <td>1.517707</td>\n",
              "      <td>3.076499</td>\n",
              "      <td>1.407686</td>\n",
              "      <td>1.558791</td>\n",
              "      <td>2.966477</td>\n",
              "      <td>0.050822</td>\n",
              "      <td>7.300087</td>\n",
              "      <td>7.249265</td>\n",
              "      <td>2.247547</td>\n",
              "      <td>0.907735</td>\n",
              "      <td>2.549764</td>\n",
              "      <td>0.089000</td>\n",
              "      <td>0.28</td>\n",
              "      <td>0.03</td>\n",
              "      <td>0.071896</td>\n",
              "      <td>0.413462</td>\n",
              "      <td>0.230769</td>\n",
              "      <td>0.173077</td>\n",
              "      <td>0.057692</td>\n",
              "      <td>0.407767</td>\n",
              "      <td>0.539216</td>\n",
              "      <td>0.038003</td>\n",
              "      <td>-2.287844</td>\n",
              "      <td>1.760385</td>\n",
              "      <td>-0.199821</td>\n",
              "      <td>-0.553808</td>\n",
              "      <td>0.297178</td>\n",
              "      <td>34.079018</td>\n",
              "      <td>0.298077</td>\n",
              "      <td>0.971154</td>\n",
              "      <td>0.930169</td>\n",
              "      <td>1.143374</td>\n",
              "      <td>2.880372</td>\n",
              "      <td>0.213205</td>\n",
              "      <td>1.736998</td>\n",
              "      <td>1.950203</td>\n",
              "      <td>...</td>\n",
              "      <td>0.262180</td>\n",
              "      <td>3.601096</td>\n",
              "      <td>3.642794</td>\n",
              "      <td>-19.152752</td>\n",
              "      <td>0.576730</td>\n",
              "      <td>164.384369</td>\n",
              "      <td>73.829170</td>\n",
              "      <td>178.970871</td>\n",
              "      <td>64.865341</td>\n",
              "      <td>0.592859</td>\n",
              "      <td>2.783014</td>\n",
              "      <td>3.383811</td>\n",
              "      <td>0.113750</td>\n",
              "      <td>0.067950</td>\n",
              "      <td>8.442622</td>\n",
              "      <td>0.501569</td>\n",
              "      <td>3.742206</td>\n",
              "      <td>3.771110</td>\n",
              "      <td>-19.636835</td>\n",
              "      <td>0.443116</td>\n",
              "      <td>137.576965</td>\n",
              "      <td>61.448112</td>\n",
              "      <td>147.319153</td>\n",
              "      <td>83.284752</td>\n",
              "      <td>0.548541</td>\n",
              "      <td>2.459152</td>\n",
              "      <td>3.512948</td>\n",
              "      <td>0.151667</td>\n",
              "      <td>0.081257</td>\n",
              "      <td>8.499890</td>\n",
              "      <td>0.501611</td>\n",
              "      <td>4.271226</td>\n",
              "      <td>4.345831</td>\n",
              "      <td>-18.303482</td>\n",
              "      <td>0.379338</td>\n",
              "      <td>119.527779</td>\n",
              "      <td>59.070663</td>\n",
              "      <td>118.809486</td>\n",
              "      <td>79.476341</td>\n",
              "      <td>0</td>\n",
              "    </tr>\n",
              "    <tr>\n",
              "      <th>/content/drive/MyDrive/SEMOUR_LD/Scripted_Speech/Actor_1/Anger/101.wav</th>\n",
              "      <th>0 days</th>\n",
              "      <th>0 days 00:00:01.091337868</th>\n",
              "      <td>7.086123</td>\n",
              "      <td>0.490196</td>\n",
              "      <td>0.088235</td>\n",
              "      <td>0.430381</td>\n",
              "      <td>1.799188</td>\n",
              "      <td>3.449890</td>\n",
              "      <td>1.368806</td>\n",
              "      <td>1.650702</td>\n",
              "      <td>3.019509</td>\n",
              "      <td>0.050785</td>\n",
              "      <td>7.132390</td>\n",
              "      <td>7.081605</td>\n",
              "      <td>2.197207</td>\n",
              "      <td>0.710119</td>\n",
              "      <td>2.306886</td>\n",
              "      <td>0.105556</td>\n",
              "      <td>0.30</td>\n",
              "      <td>0.05</td>\n",
              "      <td>0.072742</td>\n",
              "      <td>0.490196</td>\n",
              "      <td>0.235294</td>\n",
              "      <td>0.156863</td>\n",
              "      <td>0.068627</td>\n",
              "      <td>0.405941</td>\n",
              "      <td>0.570000</td>\n",
              "      <td>0.046830</td>\n",
              "      <td>-2.258608</td>\n",
              "      <td>1.672343</td>\n",
              "      <td>-0.087095</td>\n",
              "      <td>-0.563749</td>\n",
              "      <td>0.248210</td>\n",
              "      <td>13.829789</td>\n",
              "      <td>0.313726</td>\n",
              "      <td>0.754902</td>\n",
              "      <td>0.976734</td>\n",
              "      <td>1.884544</td>\n",
              "      <td>3.873208</td>\n",
              "      <td>0.907810</td>\n",
              "      <td>1.988664</td>\n",
              "      <td>2.896474</td>\n",
              "      <td>...</td>\n",
              "      <td>0.535781</td>\n",
              "      <td>3.826911</td>\n",
              "      <td>4.075626</td>\n",
              "      <td>-12.962840</td>\n",
              "      <td>0.408729</td>\n",
              "      <td>181.815094</td>\n",
              "      <td>77.133202</td>\n",
              "      <td>157.692917</td>\n",
              "      <td>103.237961</td>\n",
              "      <td>0.577468</td>\n",
              "      <td>2.420557</td>\n",
              "      <td>3.327469</td>\n",
              "      <td>0.092000</td>\n",
              "      <td>0.053796</td>\n",
              "      <td>7.838324</td>\n",
              "      <td>0.426556</td>\n",
              "      <td>3.965779</td>\n",
              "      <td>3.905057</td>\n",
              "      <td>18.619295</td>\n",
              "      <td>0.469301</td>\n",
              "      <td>178.163925</td>\n",
              "      <td>100.382149</td>\n",
              "      <td>164.960678</td>\n",
              "      <td>134.347626</td>\n",
              "      <td>0.639364</td>\n",
              "      <td>2.443393</td>\n",
              "      <td>2.751171</td>\n",
              "      <td>0.102857</td>\n",
              "      <td>0.060051</td>\n",
              "      <td>7.117393</td>\n",
              "      <td>0.487392</td>\n",
              "      <td>3.402599</td>\n",
              "      <td>3.446267</td>\n",
              "      <td>-18.977238</td>\n",
              "      <td>0.373529</td>\n",
              "      <td>146.027145</td>\n",
              "      <td>86.264626</td>\n",
              "      <td>123.054359</td>\n",
              "      <td>44.994011</td>\n",
              "      <td>0</td>\n",
              "    </tr>\n",
              "    <tr>\n",
              "      <th>/content/drive/MyDrive/SEMOUR_LD/Scripted_Speech/Actor_1/Anger/102.wav</th>\n",
              "      <th>0 days</th>\n",
              "      <th>0 days 00:00:00.943310658</th>\n",
              "      <td>7.188850</td>\n",
              "      <td>0.586207</td>\n",
              "      <td>0.195402</td>\n",
              "      <td>0.112394</td>\n",
              "      <td>1.702617</td>\n",
              "      <td>3.924783</td>\n",
              "      <td>1.590222</td>\n",
              "      <td>2.222166</td>\n",
              "      <td>3.812388</td>\n",
              "      <td>0.049998</td>\n",
              "      <td>7.118736</td>\n",
              "      <td>7.068738</td>\n",
              "      <td>2.252705</td>\n",
              "      <td>0.515611</td>\n",
              "      <td>1.944916</td>\n",
              "      <td>0.167500</td>\n",
              "      <td>0.27</td>\n",
              "      <td>0.03</td>\n",
              "      <td>0.094967</td>\n",
              "      <td>0.494253</td>\n",
              "      <td>0.333333</td>\n",
              "      <td>0.160920</td>\n",
              "      <td>0.045977</td>\n",
              "      <td>0.406977</td>\n",
              "      <td>0.623529</td>\n",
              "      <td>0.018687</td>\n",
              "      <td>-2.804022</td>\n",
              "      <td>3.308388</td>\n",
              "      <td>-2.147986</td>\n",
              "      <td>0.788755</td>\n",
              "      <td>-0.140209</td>\n",
              "      <td>37.520714</td>\n",
              "      <td>0.287356</td>\n",
              "      <td>0.988506</td>\n",
              "      <td>0.873054</td>\n",
              "      <td>1.587254</td>\n",
              "      <td>3.935838</td>\n",
              "      <td>0.714201</td>\n",
              "      <td>2.348583</td>\n",
              "      <td>3.062784</td>\n",
              "      <td>...</td>\n",
              "      <td>0.336376</td>\n",
              "      <td>3.294936</td>\n",
              "      <td>3.207311</td>\n",
              "      <td>17.011871</td>\n",
              "      <td>0.565651</td>\n",
              "      <td>142.857803</td>\n",
              "      <td>65.443916</td>\n",
              "      <td>148.839203</td>\n",
              "      <td>68.995346</td>\n",
              "      <td>0.527444</td>\n",
              "      <td>2.062586</td>\n",
              "      <td>2.963345</td>\n",
              "      <td>0.105000</td>\n",
              "      <td>0.066270</td>\n",
              "      <td>9.418981</td>\n",
              "      <td>0.539337</td>\n",
              "      <td>3.548515</td>\n",
              "      <td>3.401243</td>\n",
              "      <td>15.205151</td>\n",
              "      <td>0.361929</td>\n",
              "      <td>150.149033</td>\n",
              "      <td>68.248428</td>\n",
              "      <td>122.971611</td>\n",
              "      <td>73.230507</td>\n",
              "      <td>0.720383</td>\n",
              "      <td>1.950086</td>\n",
              "      <td>2.829745</td>\n",
              "      <td>0.122000</td>\n",
              "      <td>0.069628</td>\n",
              "      <td>3.563648</td>\n",
              "      <td>0.245567</td>\n",
              "      <td>3.913645</td>\n",
              "      <td>3.890420</td>\n",
              "      <td>19.810953</td>\n",
              "      <td>0.644018</td>\n",
              "      <td>159.716019</td>\n",
              "      <td>68.903870</td>\n",
              "      <td>117.057602</td>\n",
              "      <td>58.267437</td>\n",
              "      <td>0</td>\n",
              "    </tr>\n",
              "    <tr>\n",
              "      <th>...</th>\n",
              "      <th>...</th>\n",
              "      <th>...</th>\n",
              "      <td>...</td>\n",
              "      <td>...</td>\n",
              "      <td>...</td>\n",
              "      <td>...</td>\n",
              "      <td>...</td>\n",
              "      <td>...</td>\n",
              "      <td>...</td>\n",
              "      <td>...</td>\n",
              "      <td>...</td>\n",
              "      <td>...</td>\n",
              "      <td>...</td>\n",
              "      <td>...</td>\n",
              "      <td>...</td>\n",
              "      <td>...</td>\n",
              "      <td>...</td>\n",
              "      <td>...</td>\n",
              "      <td>...</td>\n",
              "      <td>...</td>\n",
              "      <td>...</td>\n",
              "      <td>...</td>\n",
              "      <td>...</td>\n",
              "      <td>...</td>\n",
              "      <td>...</td>\n",
              "      <td>...</td>\n",
              "      <td>...</td>\n",
              "      <td>...</td>\n",
              "      <td>...</td>\n",
              "      <td>...</td>\n",
              "      <td>...</td>\n",
              "      <td>...</td>\n",
              "      <td>...</td>\n",
              "      <td>...</td>\n",
              "      <td>...</td>\n",
              "      <td>...</td>\n",
              "      <td>...</td>\n",
              "      <td>...</td>\n",
              "      <td>...</td>\n",
              "      <td>...</td>\n",
              "      <td>...</td>\n",
              "      <td>...</td>\n",
              "      <td>...</td>\n",
              "      <td>...</td>\n",
              "      <td>...</td>\n",
              "      <td>...</td>\n",
              "      <td>...</td>\n",
              "      <td>...</td>\n",
              "      <td>...</td>\n",
              "      <td>...</td>\n",
              "      <td>...</td>\n",
              "      <td>...</td>\n",
              "      <td>...</td>\n",
              "      <td>...</td>\n",
              "      <td>...</td>\n",
              "      <td>...</td>\n",
              "      <td>...</td>\n",
              "      <td>...</td>\n",
              "      <td>...</td>\n",
              "      <td>...</td>\n",
              "      <td>...</td>\n",
              "      <td>...</td>\n",
              "      <td>...</td>\n",
              "      <td>...</td>\n",
              "      <td>...</td>\n",
              "      <td>...</td>\n",
              "      <td>...</td>\n",
              "      <td>...</td>\n",
              "      <td>...</td>\n",
              "      <td>...</td>\n",
              "      <td>...</td>\n",
              "      <td>...</td>\n",
              "      <td>...</td>\n",
              "      <td>...</td>\n",
              "      <td>...</td>\n",
              "      <td>...</td>\n",
              "      <td>...</td>\n",
              "      <td>...</td>\n",
              "      <td>...</td>\n",
              "      <td>...</td>\n",
              "      <td>...</td>\n",
              "      <td>...</td>\n",
              "      <td>...</td>\n",
              "    </tr>\n",
              "    <tr>\n",
              "      <th>/content/drive/MyDrive/SEMOUR_LD/Scripted_Speech/Actor_8/Surprise/95.wav</th>\n",
              "      <th>0 days</th>\n",
              "      <th>0 days 00:00:00.957823129</th>\n",
              "      <td>2.818031</td>\n",
              "      <td>0.215909</td>\n",
              "      <td>0.011364</td>\n",
              "      <td>0.428402</td>\n",
              "      <td>0.956839</td>\n",
              "      <td>1.632659</td>\n",
              "      <td>0.528437</td>\n",
              "      <td>0.675820</td>\n",
              "      <td>1.204258</td>\n",
              "      <td>0.051514</td>\n",
              "      <td>2.842976</td>\n",
              "      <td>2.791462</td>\n",
              "      <td>0.775327</td>\n",
              "      <td>0.700899</td>\n",
              "      <td>2.561796</td>\n",
              "      <td>0.101250</td>\n",
              "      <td>0.17</td>\n",
              "      <td>0.04</td>\n",
              "      <td>0.041363</td>\n",
              "      <td>0.625000</td>\n",
              "      <td>0.295455</td>\n",
              "      <td>0.125000</td>\n",
              "      <td>0.090909</td>\n",
              "      <td>0.436782</td>\n",
              "      <td>0.500000</td>\n",
              "      <td>0.007010</td>\n",
              "      <td>-2.337241</td>\n",
              "      <td>1.961578</td>\n",
              "      <td>-0.569662</td>\n",
              "      <td>-0.181907</td>\n",
              "      <td>0.139008</td>\n",
              "      <td>26.745907</td>\n",
              "      <td>0.136364</td>\n",
              "      <td>0.988636</td>\n",
              "      <td>0.879943</td>\n",
              "      <td>1.463308</td>\n",
              "      <td>2.652951</td>\n",
              "      <td>0.583365</td>\n",
              "      <td>1.189643</td>\n",
              "      <td>1.773008</td>\n",
              "      <td>...</td>\n",
              "      <td>0.705336</td>\n",
              "      <td>4.922898</td>\n",
              "      <td>4.630605</td>\n",
              "      <td>13.452864</td>\n",
              "      <td>0.154225</td>\n",
              "      <td>151.084869</td>\n",
              "      <td>69.009476</td>\n",
              "      <td>170.521759</td>\n",
              "      <td>116.822479</td>\n",
              "      <td>0.689399</td>\n",
              "      <td>2.417516</td>\n",
              "      <td>2.801259</td>\n",
              "      <td>0.090000</td>\n",
              "      <td>0.046098</td>\n",
              "      <td>5.686079</td>\n",
              "      <td>0.434380</td>\n",
              "      <td>3.684699</td>\n",
              "      <td>3.418829</td>\n",
              "      <td>12.363128</td>\n",
              "      <td>0.514271</td>\n",
              "      <td>137.323090</td>\n",
              "      <td>45.965298</td>\n",
              "      <td>154.353912</td>\n",
              "      <td>40.227371</td>\n",
              "      <td>0.608510</td>\n",
              "      <td>3.577256</td>\n",
              "      <td>4.401932</td>\n",
              "      <td>0.136000</td>\n",
              "      <td>0.077305</td>\n",
              "      <td>9.957476</td>\n",
              "      <td>0.445960</td>\n",
              "      <td>6.396204</td>\n",
              "      <td>6.186931</td>\n",
              "      <td>16.222940</td>\n",
              "      <td>0.332753</td>\n",
              "      <td>196.003281</td>\n",
              "      <td>91.312714</td>\n",
              "      <td>162.631210</td>\n",
              "      <td>109.904427</td>\n",
              "      <td>5</td>\n",
              "    </tr>\n",
              "    <tr>\n",
              "      <th>/content/drive/MyDrive/SEMOUR_LD/Scripted_Speech/Actor_8/Surprise/96.wav</th>\n",
              "      <th>0 days</th>\n",
              "      <th>0 days 00:00:01.102947846</th>\n",
              "      <td>2.988097</td>\n",
              "      <td>0.524272</td>\n",
              "      <td>0.019417</td>\n",
              "      <td>0.232833</td>\n",
              "      <td>1.037018</td>\n",
              "      <td>1.861442</td>\n",
              "      <td>0.804184</td>\n",
              "      <td>0.824424</td>\n",
              "      <td>1.628608</td>\n",
              "      <td>0.009456</td>\n",
              "      <td>2.975011</td>\n",
              "      <td>2.965554</td>\n",
              "      <td>0.894562</td>\n",
              "      <td>0.549395</td>\n",
              "      <td>2.119925</td>\n",
              "      <td>0.163333</td>\n",
              "      <td>0.31</td>\n",
              "      <td>0.05</td>\n",
              "      <td>0.096206</td>\n",
              "      <td>0.553398</td>\n",
              "      <td>0.320388</td>\n",
              "      <td>0.135922</td>\n",
              "      <td>0.067961</td>\n",
              "      <td>0.549020</td>\n",
              "      <td>0.554455</td>\n",
              "      <td>0.010818</td>\n",
              "      <td>-1.903447</td>\n",
              "      <td>0.942164</td>\n",
              "      <td>0.212119</td>\n",
              "      <td>-0.297401</td>\n",
              "      <td>0.055410</td>\n",
              "      <td>10.437524</td>\n",
              "      <td>0.310680</td>\n",
              "      <td>0.951456</td>\n",
              "      <td>1.009140</td>\n",
              "      <td>2.241860</td>\n",
              "      <td>4.858817</td>\n",
              "      <td>1.232720</td>\n",
              "      <td>2.616957</td>\n",
              "      <td>3.849677</td>\n",
              "      <td>...</td>\n",
              "      <td>0.566570</td>\n",
              "      <td>4.894126</td>\n",
              "      <td>4.911929</td>\n",
              "      <td>-19.956244</td>\n",
              "      <td>0.520243</td>\n",
              "      <td>116.207726</td>\n",
              "      <td>53.430630</td>\n",
              "      <td>126.306747</td>\n",
              "      <td>61.048023</td>\n",
              "      <td>0.616521</td>\n",
              "      <td>2.309538</td>\n",
              "      <td>2.888214</td>\n",
              "      <td>0.106667</td>\n",
              "      <td>0.053072</td>\n",
              "      <td>6.719501</td>\n",
              "      <td>0.543757</td>\n",
              "      <td>4.031058</td>\n",
              "      <td>3.862108</td>\n",
              "      <td>15.160654</td>\n",
              "      <td>0.302112</td>\n",
              "      <td>124.462662</td>\n",
              "      <td>56.793945</td>\n",
              "      <td>157.028061</td>\n",
              "      <td>74.860077</td>\n",
              "      <td>0.568178</td>\n",
              "      <td>2.542259</td>\n",
              "      <td>3.149910</td>\n",
              "      <td>0.126667</td>\n",
              "      <td>0.077280</td>\n",
              "      <td>8.329560</td>\n",
              "      <td>0.537897</td>\n",
              "      <td>4.144519</td>\n",
              "      <td>3.870017</td>\n",
              "      <td>12.857160</td>\n",
              "      <td>0.400575</td>\n",
              "      <td>136.039932</td>\n",
              "      <td>33.498287</td>\n",
              "      <td>128.561569</td>\n",
              "      <td>68.424370</td>\n",
              "      <td>5</td>\n",
              "    </tr>\n",
              "    <tr>\n",
              "      <th>/content/drive/MyDrive/SEMOUR_LD/Scripted_Speech/Actor_8/Surprise/97.wav</th>\n",
              "      <th>0 days</th>\n",
              "      <th>0 days 00:00:01.102947846</th>\n",
              "      <td>3.690798</td>\n",
              "      <td>0.349515</td>\n",
              "      <td>0.000000</td>\n",
              "      <td>0.543271</td>\n",
              "      <td>1.335571</td>\n",
              "      <td>1.772450</td>\n",
              "      <td>0.792299</td>\n",
              "      <td>0.436879</td>\n",
              "      <td>1.229178</td>\n",
              "      <td>0.094569</td>\n",
              "      <td>3.636585</td>\n",
              "      <td>3.542016</td>\n",
              "      <td>0.912447</td>\n",
              "      <td>0.561361</td>\n",
              "      <td>2.736890</td>\n",
              "      <td>0.105556</td>\n",
              "      <td>0.17</td>\n",
              "      <td>0.03</td>\n",
              "      <td>0.043998</td>\n",
              "      <td>0.640777</td>\n",
              "      <td>0.194175</td>\n",
              "      <td>0.087379</td>\n",
              "      <td>0.029126</td>\n",
              "      <td>0.500000</td>\n",
              "      <td>0.534653</td>\n",
              "      <td>0.009811</td>\n",
              "      <td>-2.271022</td>\n",
              "      <td>1.618332</td>\n",
              "      <td>0.020975</td>\n",
              "      <td>-0.609082</td>\n",
              "      <td>0.252691</td>\n",
              "      <td>8.006361</td>\n",
              "      <td>0.126214</td>\n",
              "      <td>0.990291</td>\n",
              "      <td>0.812096</td>\n",
              "      <td>1.241752</td>\n",
              "      <td>2.669316</td>\n",
              "      <td>0.429656</td>\n",
              "      <td>1.427564</td>\n",
              "      <td>1.857220</td>\n",
              "      <td>...</td>\n",
              "      <td>0.444234</td>\n",
              "      <td>3.782439</td>\n",
              "      <td>3.546140</td>\n",
              "      <td>13.179949</td>\n",
              "      <td>0.431707</td>\n",
              "      <td>112.184128</td>\n",
              "      <td>39.481159</td>\n",
              "      <td>129.063644</td>\n",
              "      <td>65.139595</td>\n",
              "      <td>0.658315</td>\n",
              "      <td>2.839056</td>\n",
              "      <td>3.290517</td>\n",
              "      <td>0.122857</td>\n",
              "      <td>0.064079</td>\n",
              "      <td>9.319689</td>\n",
              "      <td>0.579121</td>\n",
              "      <td>4.425304</td>\n",
              "      <td>4.294374</td>\n",
              "      <td>16.617798</td>\n",
              "      <td>0.400446</td>\n",
              "      <td>126.330620</td>\n",
              "      <td>74.198082</td>\n",
              "      <td>143.401154</td>\n",
              "      <td>78.495338</td>\n",
              "      <td>0.616935</td>\n",
              "      <td>2.798158</td>\n",
              "      <td>3.445478</td>\n",
              "      <td>0.110000</td>\n",
              "      <td>0.063696</td>\n",
              "      <td>10.688555</td>\n",
              "      <td>0.552909</td>\n",
              "      <td>3.058026</td>\n",
              "      <td>3.152229</td>\n",
              "      <td>-16.462025</td>\n",
              "      <td>0.436378</td>\n",
              "      <td>115.050034</td>\n",
              "      <td>60.559937</td>\n",
              "      <td>131.168869</td>\n",
              "      <td>74.816856</td>\n",
              "      <td>5</td>\n",
              "    </tr>\n",
              "    <tr>\n",
              "      <th>/content/drive/MyDrive/SEMOUR_LD/Scripted_Speech/Actor_8/Surprise/98.wav</th>\n",
              "      <th>0 days</th>\n",
              "      <th>0 days 00:00:01.088435374</th>\n",
              "      <td>4.115513</td>\n",
              "      <td>0.752475</td>\n",
              "      <td>0.000000</td>\n",
              "      <td>0.433454</td>\n",
              "      <td>1.045256</td>\n",
              "      <td>1.343657</td>\n",
              "      <td>0.611802</td>\n",
              "      <td>0.298401</td>\n",
              "      <td>0.910204</td>\n",
              "      <td>0.013736</td>\n",
              "      <td>4.034022</td>\n",
              "      <td>4.020286</td>\n",
              "      <td>1.061270</td>\n",
              "      <td>1.173305</td>\n",
              "      <td>3.383369</td>\n",
              "      <td>0.138571</td>\n",
              "      <td>0.26</td>\n",
              "      <td>0.07</td>\n",
              "      <td>0.058658</td>\n",
              "      <td>0.504951</td>\n",
              "      <td>0.188119</td>\n",
              "      <td>0.118812</td>\n",
              "      <td>0.029703</td>\n",
              "      <td>0.480000</td>\n",
              "      <td>0.606061</td>\n",
              "      <td>0.008179</td>\n",
              "      <td>-2.202181</td>\n",
              "      <td>1.683404</td>\n",
              "      <td>-0.275305</td>\n",
              "      <td>-0.491172</td>\n",
              "      <td>0.294207</td>\n",
              "      <td>9.788709</td>\n",
              "      <td>0.089109</td>\n",
              "      <td>0.524752</td>\n",
              "      <td>1.316668</td>\n",
              "      <td>2.249450</td>\n",
              "      <td>4.641219</td>\n",
              "      <td>0.932782</td>\n",
              "      <td>2.391768</td>\n",
              "      <td>3.324550</td>\n",
              "      <td>...</td>\n",
              "      <td>0.638840</td>\n",
              "      <td>4.516830</td>\n",
              "      <td>4.775126</td>\n",
              "      <td>-13.650076</td>\n",
              "      <td>0.422860</td>\n",
              "      <td>137.058167</td>\n",
              "      <td>77.108292</td>\n",
              "      <td>164.787811</td>\n",
              "      <td>98.385666</td>\n",
              "      <td>0.570424</td>\n",
              "      <td>2.783741</td>\n",
              "      <td>3.513826</td>\n",
              "      <td>0.192500</td>\n",
              "      <td>0.098900</td>\n",
              "      <td>7.221276</td>\n",
              "      <td>0.428694</td>\n",
              "      <td>5.441346</td>\n",
              "      <td>5.409102</td>\n",
              "      <td>19.811663</td>\n",
              "      <td>0.414507</td>\n",
              "      <td>117.576500</td>\n",
              "      <td>77.074226</td>\n",
              "      <td>104.513557</td>\n",
              "      <td>34.362209</td>\n",
              "      <td>0.551726</td>\n",
              "      <td>2.265160</td>\n",
              "      <td>3.290776</td>\n",
              "      <td>0.089000</td>\n",
              "      <td>0.046829</td>\n",
              "      <td>11.962021</td>\n",
              "      <td>0.680822</td>\n",
              "      <td>3.367609</td>\n",
              "      <td>3.299969</td>\n",
              "      <td>17.921946</td>\n",
              "      <td>0.484656</td>\n",
              "      <td>143.946136</td>\n",
              "      <td>85.914017</td>\n",
              "      <td>137.357864</td>\n",
              "      <td>89.542236</td>\n",
              "      <td>5</td>\n",
              "    </tr>\n",
              "    <tr>\n",
              "      <th>/content/drive/MyDrive/SEMOUR_LD/Scripted_Speech/Actor_8/Surprise/99.wav</th>\n",
              "      <th>0 days</th>\n",
              "      <th>0 days 00:00:01.131972789</th>\n",
              "      <td>2.305213</td>\n",
              "      <td>0.801887</td>\n",
              "      <td>0.028302</td>\n",
              "      <td>0.423500</td>\n",
              "      <td>0.886698</td>\n",
              "      <td>1.207322</td>\n",
              "      <td>0.463199</td>\n",
              "      <td>0.320624</td>\n",
              "      <td>0.783822</td>\n",
              "      <td>0.025575</td>\n",
              "      <td>2.252189</td>\n",
              "      <td>2.226614</td>\n",
              "      <td>0.617326</td>\n",
              "      <td>0.454168</td>\n",
              "      <td>2.393048</td>\n",
              "      <td>0.104000</td>\n",
              "      <td>0.23</td>\n",
              "      <td>0.03</td>\n",
              "      <td>0.069599</td>\n",
              "      <td>0.660377</td>\n",
              "      <td>0.283019</td>\n",
              "      <td>0.141509</td>\n",
              "      <td>0.028302</td>\n",
              "      <td>0.438095</td>\n",
              "      <td>0.528846</td>\n",
              "      <td>0.007435</td>\n",
              "      <td>-2.262064</td>\n",
              "      <td>1.976360</td>\n",
              "      <td>-0.793355</td>\n",
              "      <td>0.020132</td>\n",
              "      <td>0.070874</td>\n",
              "      <td>14.252022</td>\n",
              "      <td>0.216981</td>\n",
              "      <td>0.990566</td>\n",
              "      <td>1.020472</td>\n",
              "      <td>2.066452</td>\n",
              "      <td>3.086140</td>\n",
              "      <td>1.045980</td>\n",
              "      <td>1.019689</td>\n",
              "      <td>2.065668</td>\n",
              "      <td>...</td>\n",
              "      <td>0.707472</td>\n",
              "      <td>3.385416</td>\n",
              "      <td>3.510506</td>\n",
              "      <td>-15.716902</td>\n",
              "      <td>0.698761</td>\n",
              "      <td>131.792542</td>\n",
              "      <td>38.140156</td>\n",
              "      <td>142.143372</td>\n",
              "      <td>74.158211</td>\n",
              "      <td>0.605204</td>\n",
              "      <td>2.912442</td>\n",
              "      <td>3.934516</td>\n",
              "      <td>0.118750</td>\n",
              "      <td>0.072403</td>\n",
              "      <td>8.821026</td>\n",
              "      <td>0.415050</td>\n",
              "      <td>3.579307</td>\n",
              "      <td>3.182678</td>\n",
              "      <td>9.024340</td>\n",
              "      <td>0.540442</td>\n",
              "      <td>135.779968</td>\n",
              "      <td>60.337063</td>\n",
              "      <td>120.186852</td>\n",
              "      <td>99.423157</td>\n",
              "      <td>0.696398</td>\n",
              "      <td>2.525403</td>\n",
              "      <td>3.150286</td>\n",
              "      <td>0.095000</td>\n",
              "      <td>0.052583</td>\n",
              "      <td>9.350245</td>\n",
              "      <td>0.579899</td>\n",
              "      <td>3.182592</td>\n",
              "      <td>2.799472</td>\n",
              "      <td>8.307038</td>\n",
              "      <td>0.654389</td>\n",
              "      <td>122.743156</td>\n",
              "      <td>44.976650</td>\n",
              "      <td>113.660553</td>\n",
              "      <td>54.036266</td>\n",
              "      <td>5</td>\n",
              "    </tr>\n",
              "  </tbody>\n",
              "</table>\n",
              "<p>9400 rows × 6374 columns</p>\n",
              "</div>"
            ],
            "text/plain": [
              "                                                                                     audspec_lengthL1norm_sma_range  ...  label\n",
              "file                                               start  end                                                        ...       \n",
              "/content/drive/MyDrive/SEMOUR_LD/Scripted_Speec... 0 days 0 days 00:00:00.473106576                        4.058659  ...      0\n",
              "/content/drive/MyDrive/SEMOUR_LD/Scripted_Speec... 0 days 0 days 00:00:00.841723356                        6.842539  ...      0\n",
              "/content/drive/MyDrive/SEMOUR_LD/Scripted_Speec... 0 days 0 days 00:00:01.117460317                        7.271195  ...      0\n",
              "/content/drive/MyDrive/SEMOUR_LD/Scripted_Speec... 0 days 0 days 00:00:01.091337868                        7.086123  ...      0\n",
              "/content/drive/MyDrive/SEMOUR_LD/Scripted_Speec... 0 days 0 days 00:00:00.943310658                        7.188850  ...      0\n",
              "...                                                                                                             ...  ...    ...\n",
              "/content/drive/MyDrive/SEMOUR_LD/Scripted_Speec... 0 days 0 days 00:00:00.957823129                        2.818031  ...      5\n",
              "/content/drive/MyDrive/SEMOUR_LD/Scripted_Speec... 0 days 0 days 00:00:01.102947846                        2.988097  ...      5\n",
              "/content/drive/MyDrive/SEMOUR_LD/Scripted_Speec... 0 days 0 days 00:00:01.102947846                        3.690798  ...      5\n",
              "/content/drive/MyDrive/SEMOUR_LD/Scripted_Speec... 0 days 0 days 00:00:01.088435374                        4.115513  ...      5\n",
              "/content/drive/MyDrive/SEMOUR_LD/Scripted_Speec... 0 days 0 days 00:00:01.131972789                        2.305213  ...      5\n",
              "\n",
              "[9400 rows x 6374 columns]"
            ]
          },
          "execution_count": null,
          "metadata": {},
          "output_type": "execute_result"
        }
      ]
    },
    {
      "cell_type": "code",
      "metadata": {
        "colab": {
          "base_uri": "https://localhost:8080/"
        },
        "id": "oxhKZN5EqarT",
        "outputId": "a8e58b6e-78f8-4a9d-c3f8-868e4e1b8cdf"
      },
      "source": [
        "X__extracted_features.shape"
      ],
      "execution_count": null,
      "outputs": [
        {
          "data": {
            "text/plain": [
              "(9400, 6374)"
            ]
          },
          "execution_count": 8,
          "metadata": {
            "tags": []
          },
          "output_type": "execute_result"
        }
      ]
    },
    {
      "cell_type": "code",
      "metadata": {
        "colab": {
          "base_uri": "https://localhost:8080/"
        },
        "id": "c_OWTPgp4F2w",
        "outputId": "b5d68962-95ea-42f4-e9b7-e927e93bbe70"
      },
      "source": [
        "X__extracted_features.isnull().any().sum()"
      ],
      "execution_count": null,
      "outputs": [
        {
          "data": {
            "text/plain": [
              "6373"
            ]
          },
          "execution_count": 9,
          "metadata": {
            "tags": []
          },
          "output_type": "execute_result"
        }
      ]
    },
    {
      "cell_type": "code",
      "metadata": {
        "colab": {
          "base_uri": "https://localhost:8080/"
        },
        "id": "lsgkb5284now",
        "outputId": "bf4bbde7-ae3e-4da7-ea53-32e711ee3ae3"
      },
      "source": [
        "X__extracted_features.isnull().sum().sort_values()"
      ],
      "execution_count": null,
      "outputs": [
        {
          "data": {
            "text/plain": [
              "label                                       0\n",
              "audSpec_Rfilt_sma[1]_peakMeanMeanDist       3\n",
              "audSpec_Rfilt_sma[1]_peakMeanAbs            3\n",
              "audSpec_Rfilt_sma[1]_peakRangeRel           3\n",
              "audSpec_Rfilt_sma[1]_peakRangeAbs           3\n",
              "                                           ..\n",
              "audSpec_Rfilt_sma_de[5]_stddev              3\n",
              "audSpec_Rfilt_sma_de[5]_pctlrange0-1        3\n",
              "audSpec_Rfilt_sma_de[5]_percentile99.0      3\n",
              "audSpec_Rfilt_sma_de[5]_iqr1-3              3\n",
              "pcm_fftMag_psySharpness_sma_de_leftctime    3\n",
              "Length: 6374, dtype: int64"
            ]
          },
          "execution_count": 10,
          "metadata": {
            "tags": []
          },
          "output_type": "execute_result"
        }
      ]
    },
    {
      "cell_type": "code",
      "metadata": {
        "colab": {
          "base_uri": "https://localhost:8080/",
          "height": 363
        },
        "id": "lh9sHQ-A40sW",
        "outputId": "c6ba1308-3155-435d-fefa-e84243ffc6f8"
      },
      "source": [
        "X__extracted_features.describe()"
      ],
      "execution_count": null,
      "outputs": [
        {
          "data": {
            "text/html": [
              "<div>\n",
              "<style scoped>\n",
              "    .dataframe tbody tr th:only-of-type {\n",
              "        vertical-align: middle;\n",
              "    }\n",
              "\n",
              "    .dataframe tbody tr th {\n",
              "        vertical-align: top;\n",
              "    }\n",
              "\n",
              "    .dataframe thead th {\n",
              "        text-align: right;\n",
              "    }\n",
              "</style>\n",
              "<table border=\"1\" class=\"dataframe\">\n",
              "  <thead>\n",
              "    <tr style=\"text-align: right;\">\n",
              "      <th></th>\n",
              "      <th>audspec_lengthL1norm_sma_range</th>\n",
              "      <th>audspec_lengthL1norm_sma_maxPos</th>\n",
              "      <th>audspec_lengthL1norm_sma_minPos</th>\n",
              "      <th>audspec_lengthL1norm_sma_quartile1</th>\n",
              "      <th>audspec_lengthL1norm_sma_quartile2</th>\n",
              "      <th>audspec_lengthL1norm_sma_quartile3</th>\n",
              "      <th>audspec_lengthL1norm_sma_iqr1-2</th>\n",
              "      <th>audspec_lengthL1norm_sma_iqr2-3</th>\n",
              "      <th>audspec_lengthL1norm_sma_iqr1-3</th>\n",
              "      <th>audspec_lengthL1norm_sma_percentile1.0</th>\n",
              "      <th>audspec_lengthL1norm_sma_percentile99.0</th>\n",
              "      <th>audspec_lengthL1norm_sma_pctlrange0-1</th>\n",
              "      <th>audspec_lengthL1norm_sma_stddev</th>\n",
              "      <th>audspec_lengthL1norm_sma_skewness</th>\n",
              "      <th>audspec_lengthL1norm_sma_kurtosis</th>\n",
              "      <th>audspec_lengthL1norm_sma_meanSegLen</th>\n",
              "      <th>audspec_lengthL1norm_sma_maxSegLen</th>\n",
              "      <th>audspec_lengthL1norm_sma_minSegLen</th>\n",
              "      <th>audspec_lengthL1norm_sma_segLenStddev</th>\n",
              "      <th>audspec_lengthL1norm_sma_upleveltime25</th>\n",
              "      <th>audspec_lengthL1norm_sma_upleveltime50</th>\n",
              "      <th>audspec_lengthL1norm_sma_upleveltime75</th>\n",
              "      <th>audspec_lengthL1norm_sma_upleveltime90</th>\n",
              "      <th>audspec_lengthL1norm_sma_risetime</th>\n",
              "      <th>audspec_lengthL1norm_sma_leftctime</th>\n",
              "      <th>audspec_lengthL1norm_sma_lpgain</th>\n",
              "      <th>audspec_lengthL1norm_sma_lpc0</th>\n",
              "      <th>audspec_lengthL1norm_sma_lpc1</th>\n",
              "      <th>audspec_lengthL1norm_sma_lpc2</th>\n",
              "      <th>audspec_lengthL1norm_sma_lpc3</th>\n",
              "      <th>audspec_lengthL1norm_sma_lpc4</th>\n",
              "      <th>audspecRasta_lengthL1norm_sma_range</th>\n",
              "      <th>audspecRasta_lengthL1norm_sma_maxPos</th>\n",
              "      <th>audspecRasta_lengthL1norm_sma_minPos</th>\n",
              "      <th>audspecRasta_lengthL1norm_sma_quartile1</th>\n",
              "      <th>audspecRasta_lengthL1norm_sma_quartile2</th>\n",
              "      <th>audspecRasta_lengthL1norm_sma_quartile3</th>\n",
              "      <th>audspecRasta_lengthL1norm_sma_iqr1-2</th>\n",
              "      <th>audspecRasta_lengthL1norm_sma_iqr2-3</th>\n",
              "      <th>audspecRasta_lengthL1norm_sma_iqr1-3</th>\n",
              "      <th>...</th>\n",
              "      <th>mfcc_sma_de[12]_peakRangeRel</th>\n",
              "      <th>mfcc_sma_de[12]_peakMeanAbs</th>\n",
              "      <th>mfcc_sma_de[12]_peakMeanMeanDist</th>\n",
              "      <th>mfcc_sma_de[12]_peakMeanRel</th>\n",
              "      <th>mfcc_sma_de[12]_minRangeRel</th>\n",
              "      <th>mfcc_sma_de[12]_meanRisingSlope</th>\n",
              "      <th>mfcc_sma_de[12]_stddevRisingSlope</th>\n",
              "      <th>mfcc_sma_de[12]_meanFallingSlope</th>\n",
              "      <th>mfcc_sma_de[12]_stddevFallingSlope</th>\n",
              "      <th>mfcc_sma_de[13]_flatness</th>\n",
              "      <th>mfcc_sma_de[13]_posamean</th>\n",
              "      <th>mfcc_sma_de[13]_rqmean</th>\n",
              "      <th>mfcc_sma_de[13]_meanPeakDist</th>\n",
              "      <th>mfcc_sma_de[13]_peakDistStddev</th>\n",
              "      <th>mfcc_sma_de[13]_peakRangeAbs</th>\n",
              "      <th>mfcc_sma_de[13]_peakRangeRel</th>\n",
              "      <th>mfcc_sma_de[13]_peakMeanAbs</th>\n",
              "      <th>mfcc_sma_de[13]_peakMeanMeanDist</th>\n",
              "      <th>mfcc_sma_de[13]_peakMeanRel</th>\n",
              "      <th>mfcc_sma_de[13]_minRangeRel</th>\n",
              "      <th>mfcc_sma_de[13]_meanRisingSlope</th>\n",
              "      <th>mfcc_sma_de[13]_stddevRisingSlope</th>\n",
              "      <th>mfcc_sma_de[13]_meanFallingSlope</th>\n",
              "      <th>mfcc_sma_de[13]_stddevFallingSlope</th>\n",
              "      <th>mfcc_sma_de[14]_flatness</th>\n",
              "      <th>mfcc_sma_de[14]_posamean</th>\n",
              "      <th>mfcc_sma_de[14]_rqmean</th>\n",
              "      <th>mfcc_sma_de[14]_meanPeakDist</th>\n",
              "      <th>mfcc_sma_de[14]_peakDistStddev</th>\n",
              "      <th>mfcc_sma_de[14]_peakRangeAbs</th>\n",
              "      <th>mfcc_sma_de[14]_peakRangeRel</th>\n",
              "      <th>mfcc_sma_de[14]_peakMeanAbs</th>\n",
              "      <th>mfcc_sma_de[14]_peakMeanMeanDist</th>\n",
              "      <th>mfcc_sma_de[14]_peakMeanRel</th>\n",
              "      <th>mfcc_sma_de[14]_minRangeRel</th>\n",
              "      <th>mfcc_sma_de[14]_meanRisingSlope</th>\n",
              "      <th>mfcc_sma_de[14]_stddevRisingSlope</th>\n",
              "      <th>mfcc_sma_de[14]_meanFallingSlope</th>\n",
              "      <th>mfcc_sma_de[14]_stddevFallingSlope</th>\n",
              "      <th>label</th>\n",
              "    </tr>\n",
              "  </thead>\n",
              "  <tbody>\n",
              "    <tr>\n",
              "      <th>count</th>\n",
              "      <td>9397.000000</td>\n",
              "      <td>9397.000000</td>\n",
              "      <td>9397.000000</td>\n",
              "      <td>9397.000000</td>\n",
              "      <td>9397.000000</td>\n",
              "      <td>9397.000000</td>\n",
              "      <td>9397.000000</td>\n",
              "      <td>9397.000000</td>\n",
              "      <td>9397.000000</td>\n",
              "      <td>9397.000000</td>\n",
              "      <td>9397.000000</td>\n",
              "      <td>9397.000000</td>\n",
              "      <td>9397.000000</td>\n",
              "      <td>9397.000000</td>\n",
              "      <td>9397.000000</td>\n",
              "      <td>9397.000000</td>\n",
              "      <td>9397.000000</td>\n",
              "      <td>9397.000000</td>\n",
              "      <td>9397.000000</td>\n",
              "      <td>9397.000000</td>\n",
              "      <td>9397.000000</td>\n",
              "      <td>9397.000000</td>\n",
              "      <td>9397.000000</td>\n",
              "      <td>9397.000000</td>\n",
              "      <td>9397.000000</td>\n",
              "      <td>9397.000000</td>\n",
              "      <td>9397.000000</td>\n",
              "      <td>9397.000000</td>\n",
              "      <td>9397.000000</td>\n",
              "      <td>9397.000000</td>\n",
              "      <td>9397.000000</td>\n",
              "      <td>9397.000000</td>\n",
              "      <td>9397.000000</td>\n",
              "      <td>9397.000000</td>\n",
              "      <td>9397.000000</td>\n",
              "      <td>9397.000000</td>\n",
              "      <td>9397.000000</td>\n",
              "      <td>9397.000000</td>\n",
              "      <td>9397.000000</td>\n",
              "      <td>9397.000000</td>\n",
              "      <td>...</td>\n",
              "      <td>9397.000000</td>\n",
              "      <td>9397.000000</td>\n",
              "      <td>9397.000000</td>\n",
              "      <td>9397.000000</td>\n",
              "      <td>9397.000000</td>\n",
              "      <td>9397.000000</td>\n",
              "      <td>9397.000000</td>\n",
              "      <td>9397.000000</td>\n",
              "      <td>9397.000000</td>\n",
              "      <td>9397.000000</td>\n",
              "      <td>9397.000000</td>\n",
              "      <td>9397.000000</td>\n",
              "      <td>9397.000000</td>\n",
              "      <td>9397.000000</td>\n",
              "      <td>9397.000000</td>\n",
              "      <td>9397.000000</td>\n",
              "      <td>9397.000000</td>\n",
              "      <td>9397.000000</td>\n",
              "      <td>9397.000000</td>\n",
              "      <td>9397.000000</td>\n",
              "      <td>9397.000000</td>\n",
              "      <td>9397.000000</td>\n",
              "      <td>9397.000000</td>\n",
              "      <td>9397.000000</td>\n",
              "      <td>9397.000000</td>\n",
              "      <td>9397.000000</td>\n",
              "      <td>9397.000000</td>\n",
              "      <td>9397.000000</td>\n",
              "      <td>9397.000000</td>\n",
              "      <td>9397.000000</td>\n",
              "      <td>9397.000000</td>\n",
              "      <td>9397.000000</td>\n",
              "      <td>9397.000000</td>\n",
              "      <td>9397.000000</td>\n",
              "      <td>9397.000000</td>\n",
              "      <td>9397.000000</td>\n",
              "      <td>9397.000000</td>\n",
              "      <td>9397.000000</td>\n",
              "      <td>9397.000000</td>\n",
              "      <td>9400.000000</td>\n",
              "    </tr>\n",
              "    <tr>\n",
              "      <th>mean</th>\n",
              "      <td>3.899627</td>\n",
              "      <td>0.464397</td>\n",
              "      <td>0.156052</td>\n",
              "      <td>0.494890</td>\n",
              "      <td>1.313349</td>\n",
              "      <td>2.332168</td>\n",
              "      <td>0.818460</td>\n",
              "      <td>1.018820</td>\n",
              "      <td>1.837278</td>\n",
              "      <td>0.068243</td>\n",
              "      <td>3.869764</td>\n",
              "      <td>3.801513</td>\n",
              "      <td>1.124478</td>\n",
              "      <td>0.484728</td>\n",
              "      <td>2.355287</td>\n",
              "      <td>0.118003</td>\n",
              "      <td>0.301691</td>\n",
              "      <td>0.037694</td>\n",
              "      <td>0.079620</td>\n",
              "      <td>0.573088</td>\n",
              "      <td>0.333216</td>\n",
              "      <td>0.150262</td>\n",
              "      <td>0.062844</td>\n",
              "      <td>0.443756</td>\n",
              "      <td>0.534992</td>\n",
              "      <td>0.017056</td>\n",
              "      <td>-2.268811</td>\n",
              "      <td>1.772364</td>\n",
              "      <td>-0.350742</td>\n",
              "      <td>-0.295960</td>\n",
              "      <td>0.153600</td>\n",
              "      <td>17.599545</td>\n",
              "      <td>0.207513</td>\n",
              "      <td>0.813666</td>\n",
              "      <td>0.847415</td>\n",
              "      <td>1.370981</td>\n",
              "      <td>2.688648</td>\n",
              "      <td>0.523560</td>\n",
              "      <td>1.317666</td>\n",
              "      <td>1.841234</td>\n",
              "      <td>...</td>\n",
              "      <td>0.494200</td>\n",
              "      <td>3.511577</td>\n",
              "      <td>3.536045</td>\n",
              "      <td>-3.188952</td>\n",
              "      <td>0.512428</td>\n",
              "      <td>141.970215</td>\n",
              "      <td>70.584366</td>\n",
              "      <td>136.225174</td>\n",
              "      <td>75.102325</td>\n",
              "      <td>0.637391</td>\n",
              "      <td>2.176482</td>\n",
              "      <td>2.821132</td>\n",
              "      <td>0.108050</td>\n",
              "      <td>0.060614</td>\n",
              "      <td>7.650105</td>\n",
              "      <td>0.498435</td>\n",
              "      <td>3.229183</td>\n",
              "      <td>3.242136</td>\n",
              "      <td>-1.973539</td>\n",
              "      <td>0.501962</td>\n",
              "      <td>131.430634</td>\n",
              "      <td>66.040527</td>\n",
              "      <td>126.111641</td>\n",
              "      <td>69.463020</td>\n",
              "      <td>0.637007</td>\n",
              "      <td>2.009587</td>\n",
              "      <td>2.630419</td>\n",
              "      <td>0.108790</td>\n",
              "      <td>0.061287</td>\n",
              "      <td>6.990461</td>\n",
              "      <td>0.491211</td>\n",
              "      <td>2.977185</td>\n",
              "      <td>2.998712</td>\n",
              "      <td>-3.363110</td>\n",
              "      <td>0.513580</td>\n",
              "      <td>121.490181</td>\n",
              "      <td>60.755421</td>\n",
              "      <td>114.940895</td>\n",
              "      <td>63.093529</td>\n",
              "      <td>2.800000</td>\n",
              "    </tr>\n",
              "    <tr>\n",
              "      <th>std</th>\n",
              "      <td>1.782484</td>\n",
              "      <td>0.204720</td>\n",
              "      <td>0.283226</td>\n",
              "      <td>0.348002</td>\n",
              "      <td>0.727538</td>\n",
              "      <td>1.169676</td>\n",
              "      <td>0.538060</td>\n",
              "      <td>0.690955</td>\n",
              "      <td>1.046187</td>\n",
              "      <td>0.059953</td>\n",
              "      <td>1.737685</td>\n",
              "      <td>1.737911</td>\n",
              "      <td>0.552234</td>\n",
              "      <td>0.439258</td>\n",
              "      <td>0.794165</td>\n",
              "      <td>0.036198</td>\n",
              "      <td>0.113889</td>\n",
              "      <td>0.016158</td>\n",
              "      <td>0.034400</td>\n",
              "      <td>0.121831</td>\n",
              "      <td>0.121538</td>\n",
              "      <td>0.088125</td>\n",
              "      <td>0.046483</td>\n",
              "      <td>0.056066</td>\n",
              "      <td>0.038906</td>\n",
              "      <td>0.020515</td>\n",
              "      <td>0.249392</td>\n",
              "      <td>0.584363</td>\n",
              "      <td>0.571211</td>\n",
              "      <td>0.350171</td>\n",
              "      <td>0.116881</td>\n",
              "      <td>16.829639</td>\n",
              "      <td>0.129391</td>\n",
              "      <td>0.223674</td>\n",
              "      <td>0.149038</td>\n",
              "      <td>0.335683</td>\n",
              "      <td>1.253191</td>\n",
              "      <td>0.297212</td>\n",
              "      <td>1.072817</td>\n",
              "      <td>1.229138</td>\n",
              "      <td>...</td>\n",
              "      <td>0.115892</td>\n",
              "      <td>0.920811</td>\n",
              "      <td>0.905145</td>\n",
              "      <td>17.150990</td>\n",
              "      <td>0.116080</td>\n",
              "      <td>32.527596</td>\n",
              "      <td>23.610903</td>\n",
              "      <td>35.737907</td>\n",
              "      <td>25.560015</td>\n",
              "      <td>0.048069</td>\n",
              "      <td>0.569082</td>\n",
              "      <td>0.694952</td>\n",
              "      <td>0.017793</td>\n",
              "      <td>0.011804</td>\n",
              "      <td>2.823103</td>\n",
              "      <td>0.111990</td>\n",
              "      <td>0.909080</td>\n",
              "      <td>0.900500</td>\n",
              "      <td>17.487478</td>\n",
              "      <td>0.112303</td>\n",
              "      <td>31.831646</td>\n",
              "      <td>22.816589</td>\n",
              "      <td>33.916328</td>\n",
              "      <td>24.274139</td>\n",
              "      <td>0.048348</td>\n",
              "      <td>0.563661</td>\n",
              "      <td>0.691391</td>\n",
              "      <td>0.017746</td>\n",
              "      <td>0.011988</td>\n",
              "      <td>2.627718</td>\n",
              "      <td>0.110698</td>\n",
              "      <td>0.894400</td>\n",
              "      <td>0.889439</td>\n",
              "      <td>17.206768</td>\n",
              "      <td>0.113658</td>\n",
              "      <td>29.972099</td>\n",
              "      <td>21.250082</td>\n",
              "      <td>32.438580</td>\n",
              "      <td>23.151136</td>\n",
              "      <td>1.720557</td>\n",
              "    </tr>\n",
              "    <tr>\n",
              "      <th>min</th>\n",
              "      <td>0.775133</td>\n",
              "      <td>0.023891</td>\n",
              "      <td>0.000000</td>\n",
              "      <td>0.008061</td>\n",
              "      <td>0.009479</td>\n",
              "      <td>0.415149</td>\n",
              "      <td>0.001389</td>\n",
              "      <td>0.053286</td>\n",
              "      <td>0.174362</td>\n",
              "      <td>0.001034</td>\n",
              "      <td>0.848430</td>\n",
              "      <td>0.760816</td>\n",
              "      <td>0.180833</td>\n",
              "      <td>-1.585693</td>\n",
              "      <td>1.137538</td>\n",
              "      <td>0.048667</td>\n",
              "      <td>0.080000</td>\n",
              "      <td>0.030000</td>\n",
              "      <td>0.004000</td>\n",
              "      <td>0.136364</td>\n",
              "      <td>0.039106</td>\n",
              "      <td>0.010152</td>\n",
              "      <td>0.004425</td>\n",
              "      <td>0.202703</td>\n",
              "      <td>0.348485</td>\n",
              "      <td>0.000250</td>\n",
              "      <td>-3.010503</td>\n",
              "      <td>0.035906</td>\n",
              "      <td>-2.868493</td>\n",
              "      <td>-1.392779</td>\n",
              "      <td>-0.326787</td>\n",
              "      <td>0.748592</td>\n",
              "      <td>0.020964</td>\n",
              "      <td>0.000000</td>\n",
              "      <td>0.196672</td>\n",
              "      <td>0.537812</td>\n",
              "      <td>0.991179</td>\n",
              "      <td>0.024598</td>\n",
              "      <td>0.136529</td>\n",
              "      <td>0.265182</td>\n",
              "      <td>...</td>\n",
              "      <td>0.054618</td>\n",
              "      <td>0.404597</td>\n",
              "      <td>1.017163</td>\n",
              "      <td>-20.000000</td>\n",
              "      <td>0.045742</td>\n",
              "      <td>33.550301</td>\n",
              "      <td>3.333611</td>\n",
              "      <td>-40.881176</td>\n",
              "      <td>16.369448</td>\n",
              "      <td>0.397693</td>\n",
              "      <td>0.683276</td>\n",
              "      <td>1.065490</td>\n",
              "      <td>0.061667</td>\n",
              "      <td>0.030000</td>\n",
              "      <td>0.394625</td>\n",
              "      <td>0.045133</td>\n",
              "      <td>0.556103</td>\n",
              "      <td>0.491690</td>\n",
              "      <td>-20.000000</td>\n",
              "      <td>0.000000</td>\n",
              "      <td>39.714069</td>\n",
              "      <td>9.106800</td>\n",
              "      <td>-52.644302</td>\n",
              "      <td>1.975820</td>\n",
              "      <td>0.421052</td>\n",
              "      <td>0.503833</td>\n",
              "      <td>0.805060</td>\n",
              "      <td>0.063333</td>\n",
              "      <td>0.030185</td>\n",
              "      <td>0.722407</td>\n",
              "      <td>0.068178</td>\n",
              "      <td>0.584296</td>\n",
              "      <td>0.674171</td>\n",
              "      <td>-20.000000</td>\n",
              "      <td>0.083341</td>\n",
              "      <td>36.492649</td>\n",
              "      <td>8.464656</td>\n",
              "      <td>-3.444745</td>\n",
              "      <td>7.720177</td>\n",
              "      <td>0.000000</td>\n",
              "    </tr>\n",
              "    <tr>\n",
              "      <th>25%</th>\n",
              "      <td>2.566137</td>\n",
              "      <td>0.304348</td>\n",
              "      <td>0.012987</td>\n",
              "      <td>0.244972</td>\n",
              "      <td>0.767589</td>\n",
              "      <td>1.417723</td>\n",
              "      <td>0.438443</td>\n",
              "      <td>0.519454</td>\n",
              "      <td>1.059915</td>\n",
              "      <td>0.021130</td>\n",
              "      <td>2.553658</td>\n",
              "      <td>2.492642</td>\n",
              "      <td>0.708304</td>\n",
              "      <td>0.202663</td>\n",
              "      <td>1.831156</td>\n",
              "      <td>0.093333</td>\n",
              "      <td>0.220000</td>\n",
              "      <td>0.030000</td>\n",
              "      <td>0.055597</td>\n",
              "      <td>0.491429</td>\n",
              "      <td>0.244275</td>\n",
              "      <td>0.087432</td>\n",
              "      <td>0.031818</td>\n",
              "      <td>0.408602</td>\n",
              "      <td>0.509934</td>\n",
              "      <td>0.004955</td>\n",
              "      <td>-2.439015</td>\n",
              "      <td>1.381912</td>\n",
              "      <td>-0.712237</td>\n",
              "      <td>-0.526927</td>\n",
              "      <td>0.079122</td>\n",
              "      <td>6.717360</td>\n",
              "      <td>0.114943</td>\n",
              "      <td>0.659898</td>\n",
              "      <td>0.752920</td>\n",
              "      <td>1.173993</td>\n",
              "      <td>1.979866</td>\n",
              "      <td>0.348804</td>\n",
              "      <td>0.717790</td>\n",
              "      <td>1.145361</td>\n",
              "      <td>...</td>\n",
              "      <td>0.416478</td>\n",
              "      <td>2.880030</td>\n",
              "      <td>2.906252</td>\n",
              "      <td>-18.510311</td>\n",
              "      <td>0.436572</td>\n",
              "      <td>119.025581</td>\n",
              "      <td>54.405331</td>\n",
              "      <td>112.407913</td>\n",
              "      <td>57.606331</td>\n",
              "      <td>0.607419</td>\n",
              "      <td>1.768244</td>\n",
              "      <td>2.321612</td>\n",
              "      <td>0.096000</td>\n",
              "      <td>0.052625</td>\n",
              "      <td>5.685879</td>\n",
              "      <td>0.424520</td>\n",
              "      <td>2.596700</td>\n",
              "      <td>2.617264</td>\n",
              "      <td>-18.499882</td>\n",
              "      <td>0.426784</td>\n",
              "      <td>109.287689</td>\n",
              "      <td>50.168736</td>\n",
              "      <td>103.521523</td>\n",
              "      <td>52.772987</td>\n",
              "      <td>0.607544</td>\n",
              "      <td>1.597330</td>\n",
              "      <td>2.107442</td>\n",
              "      <td>0.096667</td>\n",
              "      <td>0.053242</td>\n",
              "      <td>5.074042</td>\n",
              "      <td>0.418659</td>\n",
              "      <td>2.339276</td>\n",
              "      <td>2.364202</td>\n",
              "      <td>-18.558977</td>\n",
              "      <td>0.438362</td>\n",
              "      <td>100.195633</td>\n",
              "      <td>45.816593</td>\n",
              "      <td>92.133018</td>\n",
              "      <td>47.015873</td>\n",
              "      <td>2.000000</td>\n",
              "    </tr>\n",
              "    <tr>\n",
              "      <th>50%</th>\n",
              "      <td>3.646801</td>\n",
              "      <td>0.461538</td>\n",
              "      <td>0.046154</td>\n",
              "      <td>0.417073</td>\n",
              "      <td>1.154239</td>\n",
              "      <td>2.080295</td>\n",
              "      <td>0.687885</td>\n",
              "      <td>0.845357</td>\n",
              "      <td>1.602520</td>\n",
              "      <td>0.062909</td>\n",
              "      <td>3.609511</td>\n",
              "      <td>3.534082</td>\n",
              "      <td>1.018472</td>\n",
              "      <td>0.468769</td>\n",
              "      <td>2.164805</td>\n",
              "      <td>0.110769</td>\n",
              "      <td>0.280000</td>\n",
              "      <td>0.030000</td>\n",
              "      <td>0.073201</td>\n",
              "      <td>0.577181</td>\n",
              "      <td>0.324444</td>\n",
              "      <td>0.131086</td>\n",
              "      <td>0.050000</td>\n",
              "      <td>0.443396</td>\n",
              "      <td>0.535714</td>\n",
              "      <td>0.010030</td>\n",
              "      <td>-2.297229</td>\n",
              "      <td>1.780197</td>\n",
              "      <td>-0.257367</td>\n",
              "      <td>-0.323366</td>\n",
              "      <td>0.157687</td>\n",
              "      <td>11.553778</td>\n",
              "      <td>0.176056</td>\n",
              "      <td>0.940476</td>\n",
              "      <td>0.854518</td>\n",
              "      <td>1.300597</td>\n",
              "      <td>2.345711</td>\n",
              "      <td>0.469491</td>\n",
              "      <td>1.016867</td>\n",
              "      <td>1.514158</td>\n",
              "      <td>...</td>\n",
              "      <td>0.493697</td>\n",
              "      <td>3.413917</td>\n",
              "      <td>3.441465</td>\n",
              "      <td>-14.044647</td>\n",
              "      <td>0.512999</td>\n",
              "      <td>139.200089</td>\n",
              "      <td>67.910683</td>\n",
              "      <td>133.885284</td>\n",
              "      <td>71.303032</td>\n",
              "      <td>0.638295</td>\n",
              "      <td>2.090863</td>\n",
              "      <td>2.715633</td>\n",
              "      <td>0.105625</td>\n",
              "      <td>0.059082</td>\n",
              "      <td>7.298243</td>\n",
              "      <td>0.497408</td>\n",
              "      <td>3.104885</td>\n",
              "      <td>3.113752</td>\n",
              "      <td>-13.447277</td>\n",
              "      <td>0.499655</td>\n",
              "      <td>127.822075</td>\n",
              "      <td>62.956108</td>\n",
              "      <td>123.328888</td>\n",
              "      <td>65.711472</td>\n",
              "      <td>0.638477</td>\n",
              "      <td>1.928032</td>\n",
              "      <td>2.539822</td>\n",
              "      <td>0.106667</td>\n",
              "      <td>0.059808</td>\n",
              "      <td>6.623805</td>\n",
              "      <td>0.490130</td>\n",
              "      <td>2.850239</td>\n",
              "      <td>2.870874</td>\n",
              "      <td>-14.432212</td>\n",
              "      <td>0.513477</td>\n",
              "      <td>118.082726</td>\n",
              "      <td>57.672047</td>\n",
              "      <td>111.471054</td>\n",
              "      <td>59.388966</td>\n",
              "      <td>3.000000</td>\n",
              "    </tr>\n",
              "    <tr>\n",
              "      <th>75%</th>\n",
              "      <td>5.038510</td>\n",
              "      <td>0.622549</td>\n",
              "      <td>0.115702</td>\n",
              "      <td>0.667266</td>\n",
              "      <td>1.683661</td>\n",
              "      <td>3.035246</td>\n",
              "      <td>1.050523</td>\n",
              "      <td>1.319359</td>\n",
              "      <td>2.394163</td>\n",
              "      <td>0.093469</td>\n",
              "      <td>4.984904</td>\n",
              "      <td>4.911427</td>\n",
              "      <td>1.458589</td>\n",
              "      <td>0.755175</td>\n",
              "      <td>2.649159</td>\n",
              "      <td>0.135000</td>\n",
              "      <td>0.360000</td>\n",
              "      <td>0.040000</td>\n",
              "      <td>0.096722</td>\n",
              "      <td>0.659722</td>\n",
              "      <td>0.411765</td>\n",
              "      <td>0.191710</td>\n",
              "      <td>0.078818</td>\n",
              "      <td>0.479167</td>\n",
              "      <td>0.560440</td>\n",
              "      <td>0.020578</td>\n",
              "      <td>-2.132975</td>\n",
              "      <td>2.175340</td>\n",
              "      <td>0.095100</td>\n",
              "      <td>-0.096643</td>\n",
              "      <td>0.232903</td>\n",
              "      <td>21.866606</td>\n",
              "      <td>0.265487</td>\n",
              "      <td>0.988439</td>\n",
              "      <td>0.956953</td>\n",
              "      <td>1.474215</td>\n",
              "      <td>2.945881</td>\n",
              "      <td>0.623589</td>\n",
              "      <td>1.530805</td>\n",
              "      <td>2.116091</td>\n",
              "      <td>...</td>\n",
              "      <td>0.569106</td>\n",
              "      <td>4.042270</td>\n",
              "      <td>4.062736</td>\n",
              "      <td>17.650234</td>\n",
              "      <td>0.587656</td>\n",
              "      <td>161.827652</td>\n",
              "      <td>83.573029</td>\n",
              "      <td>157.748352</td>\n",
              "      <td>88.749725</td>\n",
              "      <td>0.668955</td>\n",
              "      <td>2.509806</td>\n",
              "      <td>3.250383</td>\n",
              "      <td>0.117778</td>\n",
              "      <td>0.066622</td>\n",
              "      <td>9.236157</td>\n",
              "      <td>0.571272</td>\n",
              "      <td>3.719496</td>\n",
              "      <td>3.733868</td>\n",
              "      <td>18.083549</td>\n",
              "      <td>0.575890</td>\n",
              "      <td>150.276779</td>\n",
              "      <td>78.709976</td>\n",
              "      <td>145.796295</td>\n",
              "      <td>82.261627</td>\n",
              "      <td>0.668477</td>\n",
              "      <td>2.337091</td>\n",
              "      <td>3.079477</td>\n",
              "      <td>0.118182</td>\n",
              "      <td>0.067518</td>\n",
              "      <td>8.577413</td>\n",
              "      <td>0.563306</td>\n",
              "      <td>3.488951</td>\n",
              "      <td>3.505695</td>\n",
              "      <td>17.594522</td>\n",
              "      <td>0.588320</td>\n",
              "      <td>139.487625</td>\n",
              "      <td>72.700111</td>\n",
              "      <td>134.700806</td>\n",
              "      <td>75.118782</td>\n",
              "      <td>4.000000</td>\n",
              "    </tr>\n",
              "    <tr>\n",
              "      <th>max</th>\n",
              "      <td>11.906780</td>\n",
              "      <td>0.965517</td>\n",
              "      <td>0.997368</td>\n",
              "      <td>3.161308</td>\n",
              "      <td>5.577572</td>\n",
              "      <td>9.359116</td>\n",
              "      <td>4.732601</td>\n",
              "      <td>7.096084</td>\n",
              "      <td>8.987806</td>\n",
              "      <td>0.889262</td>\n",
              "      <td>11.485008</td>\n",
              "      <td>11.416028</td>\n",
              "      <td>4.252405</td>\n",
              "      <td>2.268183</td>\n",
              "      <td>8.305938</td>\n",
              "      <td>0.370000</td>\n",
              "      <td>0.990000</td>\n",
              "      <td>0.230000</td>\n",
              "      <td>0.295827</td>\n",
              "      <td>0.954545</td>\n",
              "      <td>0.868852</td>\n",
              "      <td>0.720000</td>\n",
              "      <td>0.460000</td>\n",
              "      <td>0.846154</td>\n",
              "      <td>0.701754</td>\n",
              "      <td>0.411590</td>\n",
              "      <td>-1.085713</td>\n",
              "      <td>3.882892</td>\n",
              "      <td>1.163757</td>\n",
              "      <td>1.405079</td>\n",
              "      <td>0.589359</td>\n",
              "      <td>182.548035</td>\n",
              "      <td>0.937107</td>\n",
              "      <td>0.997602</td>\n",
              "      <td>2.480323</td>\n",
              "      <td>8.267945</td>\n",
              "      <td>20.733809</td>\n",
              "      <td>6.052917</td>\n",
              "      <td>16.302746</td>\n",
              "      <td>19.539850</td>\n",
              "      <td>...</td>\n",
              "      <td>0.887018</td>\n",
              "      <td>9.856323</td>\n",
              "      <td>10.285943</td>\n",
              "      <td>20.000000</td>\n",
              "      <td>0.889917</td>\n",
              "      <td>324.227112</td>\n",
              "      <td>209.083954</td>\n",
              "      <td>328.860748</td>\n",
              "      <td>269.416168</td>\n",
              "      <td>0.822125</td>\n",
              "      <td>5.774835</td>\n",
              "      <td>6.988060</td>\n",
              "      <td>0.290000</td>\n",
              "      <td>0.140801</td>\n",
              "      <td>24.560152</td>\n",
              "      <td>0.883026</td>\n",
              "      <td>9.056670</td>\n",
              "      <td>8.620489</td>\n",
              "      <td>20.000000</td>\n",
              "      <td>0.884834</td>\n",
              "      <td>324.820282</td>\n",
              "      <td>207.737152</td>\n",
              "      <td>326.911285</td>\n",
              "      <td>249.259689</td>\n",
              "      <td>0.823500</td>\n",
              "      <td>5.372939</td>\n",
              "      <td>6.793297</td>\n",
              "      <td>0.253333</td>\n",
              "      <td>0.160000</td>\n",
              "      <td>19.251801</td>\n",
              "      <td>0.881311</td>\n",
              "      <td>8.460547</td>\n",
              "      <td>8.493108</td>\n",
              "      <td>20.000000</td>\n",
              "      <td>0.892031</td>\n",
              "      <td>290.427429</td>\n",
              "      <td>196.369034</td>\n",
              "      <td>274.823639</td>\n",
              "      <td>241.640945</td>\n",
              "      <td>5.000000</td>\n",
              "    </tr>\n",
              "  </tbody>\n",
              "</table>\n",
              "<p>8 rows × 6374 columns</p>\n",
              "</div>"
            ],
            "text/plain": [
              "       audspec_lengthL1norm_sma_range  ...        label\n",
              "count                     9397.000000  ...  9400.000000\n",
              "mean                         3.899627  ...     2.800000\n",
              "std                          1.782484  ...     1.720557\n",
              "min                          0.775133  ...     0.000000\n",
              "25%                          2.566137  ...     2.000000\n",
              "50%                          3.646801  ...     3.000000\n",
              "75%                          5.038510  ...     4.000000\n",
              "max                         11.906780  ...     5.000000\n",
              "\n",
              "[8 rows x 6374 columns]"
            ]
          },
          "execution_count": 10,
          "metadata": {
            "tags": []
          },
          "output_type": "execute_result"
        }
      ]
    },
    {
      "cell_type": "code",
      "metadata": {
        "id": "uYehrZxX5rnM"
      },
      "source": [
        "null_data = X__extracted_features[X__extracted_features.isnull().any(axis=1)]"
      ],
      "execution_count": null,
      "outputs": []
    },
    {
      "cell_type": "code",
      "metadata": {
        "colab": {
          "base_uri": "https://localhost:8080/",
          "height": 290
        },
        "id": "wKTtqo0V5wyR",
        "outputId": "b42310d3-0078-4929-d06f-42b7fcd985e7"
      },
      "source": [
        "null_data"
      ],
      "execution_count": null,
      "outputs": [
        {
          "data": {
            "text/html": [
              "<div>\n",
              "<style scoped>\n",
              "    .dataframe tbody tr th:only-of-type {\n",
              "        vertical-align: middle;\n",
              "    }\n",
              "\n",
              "    .dataframe tbody tr th {\n",
              "        vertical-align: top;\n",
              "    }\n",
              "\n",
              "    .dataframe thead th {\n",
              "        text-align: right;\n",
              "    }\n",
              "</style>\n",
              "<table border=\"1\" class=\"dataframe\">\n",
              "  <thead>\n",
              "    <tr style=\"text-align: right;\">\n",
              "      <th></th>\n",
              "      <th></th>\n",
              "      <th></th>\n",
              "      <th>audspec_lengthL1norm_sma_range</th>\n",
              "      <th>audspec_lengthL1norm_sma_maxPos</th>\n",
              "      <th>audspec_lengthL1norm_sma_minPos</th>\n",
              "      <th>audspec_lengthL1norm_sma_quartile1</th>\n",
              "      <th>audspec_lengthL1norm_sma_quartile2</th>\n",
              "      <th>audspec_lengthL1norm_sma_quartile3</th>\n",
              "      <th>audspec_lengthL1norm_sma_iqr1-2</th>\n",
              "      <th>audspec_lengthL1norm_sma_iqr2-3</th>\n",
              "      <th>audspec_lengthL1norm_sma_iqr1-3</th>\n",
              "      <th>audspec_lengthL1norm_sma_percentile1.0</th>\n",
              "      <th>audspec_lengthL1norm_sma_percentile99.0</th>\n",
              "      <th>audspec_lengthL1norm_sma_pctlrange0-1</th>\n",
              "      <th>audspec_lengthL1norm_sma_stddev</th>\n",
              "      <th>audspec_lengthL1norm_sma_skewness</th>\n",
              "      <th>audspec_lengthL1norm_sma_kurtosis</th>\n",
              "      <th>audspec_lengthL1norm_sma_meanSegLen</th>\n",
              "      <th>audspec_lengthL1norm_sma_maxSegLen</th>\n",
              "      <th>audspec_lengthL1norm_sma_minSegLen</th>\n",
              "      <th>audspec_lengthL1norm_sma_segLenStddev</th>\n",
              "      <th>audspec_lengthL1norm_sma_upleveltime25</th>\n",
              "      <th>audspec_lengthL1norm_sma_upleveltime50</th>\n",
              "      <th>audspec_lengthL1norm_sma_upleveltime75</th>\n",
              "      <th>audspec_lengthL1norm_sma_upleveltime90</th>\n",
              "      <th>audspec_lengthL1norm_sma_risetime</th>\n",
              "      <th>audspec_lengthL1norm_sma_leftctime</th>\n",
              "      <th>audspec_lengthL1norm_sma_lpgain</th>\n",
              "      <th>audspec_lengthL1norm_sma_lpc0</th>\n",
              "      <th>audspec_lengthL1norm_sma_lpc1</th>\n",
              "      <th>audspec_lengthL1norm_sma_lpc2</th>\n",
              "      <th>audspec_lengthL1norm_sma_lpc3</th>\n",
              "      <th>audspec_lengthL1norm_sma_lpc4</th>\n",
              "      <th>audspecRasta_lengthL1norm_sma_range</th>\n",
              "      <th>audspecRasta_lengthL1norm_sma_maxPos</th>\n",
              "      <th>audspecRasta_lengthL1norm_sma_minPos</th>\n",
              "      <th>audspecRasta_lengthL1norm_sma_quartile1</th>\n",
              "      <th>audspecRasta_lengthL1norm_sma_quartile2</th>\n",
              "      <th>audspecRasta_lengthL1norm_sma_quartile3</th>\n",
              "      <th>audspecRasta_lengthL1norm_sma_iqr1-2</th>\n",
              "      <th>audspecRasta_lengthL1norm_sma_iqr2-3</th>\n",
              "      <th>audspecRasta_lengthL1norm_sma_iqr1-3</th>\n",
              "      <th>...</th>\n",
              "      <th>mfcc_sma_de[12]_peakRangeRel</th>\n",
              "      <th>mfcc_sma_de[12]_peakMeanAbs</th>\n",
              "      <th>mfcc_sma_de[12]_peakMeanMeanDist</th>\n",
              "      <th>mfcc_sma_de[12]_peakMeanRel</th>\n",
              "      <th>mfcc_sma_de[12]_minRangeRel</th>\n",
              "      <th>mfcc_sma_de[12]_meanRisingSlope</th>\n",
              "      <th>mfcc_sma_de[12]_stddevRisingSlope</th>\n",
              "      <th>mfcc_sma_de[12]_meanFallingSlope</th>\n",
              "      <th>mfcc_sma_de[12]_stddevFallingSlope</th>\n",
              "      <th>mfcc_sma_de[13]_flatness</th>\n",
              "      <th>mfcc_sma_de[13]_posamean</th>\n",
              "      <th>mfcc_sma_de[13]_rqmean</th>\n",
              "      <th>mfcc_sma_de[13]_meanPeakDist</th>\n",
              "      <th>mfcc_sma_de[13]_peakDistStddev</th>\n",
              "      <th>mfcc_sma_de[13]_peakRangeAbs</th>\n",
              "      <th>mfcc_sma_de[13]_peakRangeRel</th>\n",
              "      <th>mfcc_sma_de[13]_peakMeanAbs</th>\n",
              "      <th>mfcc_sma_de[13]_peakMeanMeanDist</th>\n",
              "      <th>mfcc_sma_de[13]_peakMeanRel</th>\n",
              "      <th>mfcc_sma_de[13]_minRangeRel</th>\n",
              "      <th>mfcc_sma_de[13]_meanRisingSlope</th>\n",
              "      <th>mfcc_sma_de[13]_stddevRisingSlope</th>\n",
              "      <th>mfcc_sma_de[13]_meanFallingSlope</th>\n",
              "      <th>mfcc_sma_de[13]_stddevFallingSlope</th>\n",
              "      <th>mfcc_sma_de[14]_flatness</th>\n",
              "      <th>mfcc_sma_de[14]_posamean</th>\n",
              "      <th>mfcc_sma_de[14]_rqmean</th>\n",
              "      <th>mfcc_sma_de[14]_meanPeakDist</th>\n",
              "      <th>mfcc_sma_de[14]_peakDistStddev</th>\n",
              "      <th>mfcc_sma_de[14]_peakRangeAbs</th>\n",
              "      <th>mfcc_sma_de[14]_peakRangeRel</th>\n",
              "      <th>mfcc_sma_de[14]_peakMeanAbs</th>\n",
              "      <th>mfcc_sma_de[14]_peakMeanMeanDist</th>\n",
              "      <th>mfcc_sma_de[14]_peakMeanRel</th>\n",
              "      <th>mfcc_sma_de[14]_minRangeRel</th>\n",
              "      <th>mfcc_sma_de[14]_meanRisingSlope</th>\n",
              "      <th>mfcc_sma_de[14]_stddevRisingSlope</th>\n",
              "      <th>mfcc_sma_de[14]_meanFallingSlope</th>\n",
              "      <th>mfcc_sma_de[14]_stddevFallingSlope</th>\n",
              "      <th>label</th>\n",
              "    </tr>\n",
              "    <tr>\n",
              "      <th>file</th>\n",
              "      <th>start</th>\n",
              "      <th>end</th>\n",
              "      <th></th>\n",
              "      <th></th>\n",
              "      <th></th>\n",
              "      <th></th>\n",
              "      <th></th>\n",
              "      <th></th>\n",
              "      <th></th>\n",
              "      <th></th>\n",
              "      <th></th>\n",
              "      <th></th>\n",
              "      <th></th>\n",
              "      <th></th>\n",
              "      <th></th>\n",
              "      <th></th>\n",
              "      <th></th>\n",
              "      <th></th>\n",
              "      <th></th>\n",
              "      <th></th>\n",
              "      <th></th>\n",
              "      <th></th>\n",
              "      <th></th>\n",
              "      <th></th>\n",
              "      <th></th>\n",
              "      <th></th>\n",
              "      <th></th>\n",
              "      <th></th>\n",
              "      <th></th>\n",
              "      <th></th>\n",
              "      <th></th>\n",
              "      <th></th>\n",
              "      <th></th>\n",
              "      <th></th>\n",
              "      <th></th>\n",
              "      <th></th>\n",
              "      <th></th>\n",
              "      <th></th>\n",
              "      <th></th>\n",
              "      <th></th>\n",
              "      <th></th>\n",
              "      <th></th>\n",
              "      <th></th>\n",
              "      <th></th>\n",
              "      <th></th>\n",
              "      <th></th>\n",
              "      <th></th>\n",
              "      <th></th>\n",
              "      <th></th>\n",
              "      <th></th>\n",
              "      <th></th>\n",
              "      <th></th>\n",
              "      <th></th>\n",
              "      <th></th>\n",
              "      <th></th>\n",
              "      <th></th>\n",
              "      <th></th>\n",
              "      <th></th>\n",
              "      <th></th>\n",
              "      <th></th>\n",
              "      <th></th>\n",
              "      <th></th>\n",
              "      <th></th>\n",
              "      <th></th>\n",
              "      <th></th>\n",
              "      <th></th>\n",
              "      <th></th>\n",
              "      <th></th>\n",
              "      <th></th>\n",
              "      <th></th>\n",
              "      <th></th>\n",
              "      <th></th>\n",
              "      <th></th>\n",
              "      <th></th>\n",
              "      <th></th>\n",
              "      <th></th>\n",
              "      <th></th>\n",
              "      <th></th>\n",
              "      <th></th>\n",
              "      <th></th>\n",
              "      <th></th>\n",
              "      <th></th>\n",
              "      <th></th>\n",
              "    </tr>\n",
              "  </thead>\n",
              "  <tbody>\n",
              "    <tr>\n",
              "      <th>/content/drive/MyDrive/SEMOUR_LD/Scripted_Speech/Actor_2/Anger/73.wav</th>\n",
              "      <th>0 days</th>\n",
              "      <th>0 days 00:00:00.051043084</th>\n",
              "      <td>NaN</td>\n",
              "      <td>NaN</td>\n",
              "      <td>NaN</td>\n",
              "      <td>NaN</td>\n",
              "      <td>NaN</td>\n",
              "      <td>NaN</td>\n",
              "      <td>NaN</td>\n",
              "      <td>NaN</td>\n",
              "      <td>NaN</td>\n",
              "      <td>NaN</td>\n",
              "      <td>NaN</td>\n",
              "      <td>NaN</td>\n",
              "      <td>NaN</td>\n",
              "      <td>NaN</td>\n",
              "      <td>NaN</td>\n",
              "      <td>NaN</td>\n",
              "      <td>NaN</td>\n",
              "      <td>NaN</td>\n",
              "      <td>NaN</td>\n",
              "      <td>NaN</td>\n",
              "      <td>NaN</td>\n",
              "      <td>NaN</td>\n",
              "      <td>NaN</td>\n",
              "      <td>NaN</td>\n",
              "      <td>NaN</td>\n",
              "      <td>NaN</td>\n",
              "      <td>NaN</td>\n",
              "      <td>NaN</td>\n",
              "      <td>NaN</td>\n",
              "      <td>NaN</td>\n",
              "      <td>NaN</td>\n",
              "      <td>NaN</td>\n",
              "      <td>NaN</td>\n",
              "      <td>NaN</td>\n",
              "      <td>NaN</td>\n",
              "      <td>NaN</td>\n",
              "      <td>NaN</td>\n",
              "      <td>NaN</td>\n",
              "      <td>NaN</td>\n",
              "      <td>NaN</td>\n",
              "      <td>...</td>\n",
              "      <td>NaN</td>\n",
              "      <td>NaN</td>\n",
              "      <td>NaN</td>\n",
              "      <td>NaN</td>\n",
              "      <td>NaN</td>\n",
              "      <td>NaN</td>\n",
              "      <td>NaN</td>\n",
              "      <td>NaN</td>\n",
              "      <td>NaN</td>\n",
              "      <td>NaN</td>\n",
              "      <td>NaN</td>\n",
              "      <td>NaN</td>\n",
              "      <td>NaN</td>\n",
              "      <td>NaN</td>\n",
              "      <td>NaN</td>\n",
              "      <td>NaN</td>\n",
              "      <td>NaN</td>\n",
              "      <td>NaN</td>\n",
              "      <td>NaN</td>\n",
              "      <td>NaN</td>\n",
              "      <td>NaN</td>\n",
              "      <td>NaN</td>\n",
              "      <td>NaN</td>\n",
              "      <td>NaN</td>\n",
              "      <td>NaN</td>\n",
              "      <td>NaN</td>\n",
              "      <td>NaN</td>\n",
              "      <td>NaN</td>\n",
              "      <td>NaN</td>\n",
              "      <td>NaN</td>\n",
              "      <td>NaN</td>\n",
              "      <td>NaN</td>\n",
              "      <td>NaN</td>\n",
              "      <td>NaN</td>\n",
              "      <td>NaN</td>\n",
              "      <td>NaN</td>\n",
              "      <td>NaN</td>\n",
              "      <td>NaN</td>\n",
              "      <td>NaN</td>\n",
              "      <td>0</td>\n",
              "    </tr>\n",
              "    <tr>\n",
              "      <th>/content/drive/MyDrive/SEMOUR_LD/Scripted_Speech/Actor_5/Neutral/3.wav</th>\n",
              "      <th>0 days</th>\n",
              "      <th>0 days 00:00:00.018027211</th>\n",
              "      <td>NaN</td>\n",
              "      <td>NaN</td>\n",
              "      <td>NaN</td>\n",
              "      <td>NaN</td>\n",
              "      <td>NaN</td>\n",
              "      <td>NaN</td>\n",
              "      <td>NaN</td>\n",
              "      <td>NaN</td>\n",
              "      <td>NaN</td>\n",
              "      <td>NaN</td>\n",
              "      <td>NaN</td>\n",
              "      <td>NaN</td>\n",
              "      <td>NaN</td>\n",
              "      <td>NaN</td>\n",
              "      <td>NaN</td>\n",
              "      <td>NaN</td>\n",
              "      <td>NaN</td>\n",
              "      <td>NaN</td>\n",
              "      <td>NaN</td>\n",
              "      <td>NaN</td>\n",
              "      <td>NaN</td>\n",
              "      <td>NaN</td>\n",
              "      <td>NaN</td>\n",
              "      <td>NaN</td>\n",
              "      <td>NaN</td>\n",
              "      <td>NaN</td>\n",
              "      <td>NaN</td>\n",
              "      <td>NaN</td>\n",
              "      <td>NaN</td>\n",
              "      <td>NaN</td>\n",
              "      <td>NaN</td>\n",
              "      <td>NaN</td>\n",
              "      <td>NaN</td>\n",
              "      <td>NaN</td>\n",
              "      <td>NaN</td>\n",
              "      <td>NaN</td>\n",
              "      <td>NaN</td>\n",
              "      <td>NaN</td>\n",
              "      <td>NaN</td>\n",
              "      <td>NaN</td>\n",
              "      <td>...</td>\n",
              "      <td>NaN</td>\n",
              "      <td>NaN</td>\n",
              "      <td>NaN</td>\n",
              "      <td>NaN</td>\n",
              "      <td>NaN</td>\n",
              "      <td>NaN</td>\n",
              "      <td>NaN</td>\n",
              "      <td>NaN</td>\n",
              "      <td>NaN</td>\n",
              "      <td>NaN</td>\n",
              "      <td>NaN</td>\n",
              "      <td>NaN</td>\n",
              "      <td>NaN</td>\n",
              "      <td>NaN</td>\n",
              "      <td>NaN</td>\n",
              "      <td>NaN</td>\n",
              "      <td>NaN</td>\n",
              "      <td>NaN</td>\n",
              "      <td>NaN</td>\n",
              "      <td>NaN</td>\n",
              "      <td>NaN</td>\n",
              "      <td>NaN</td>\n",
              "      <td>NaN</td>\n",
              "      <td>NaN</td>\n",
              "      <td>NaN</td>\n",
              "      <td>NaN</td>\n",
              "      <td>NaN</td>\n",
              "      <td>NaN</td>\n",
              "      <td>NaN</td>\n",
              "      <td>NaN</td>\n",
              "      <td>NaN</td>\n",
              "      <td>NaN</td>\n",
              "      <td>NaN</td>\n",
              "      <td>NaN</td>\n",
              "      <td>NaN</td>\n",
              "      <td>NaN</td>\n",
              "      <td>NaN</td>\n",
              "      <td>NaN</td>\n",
              "      <td>NaN</td>\n",
              "      <td>4</td>\n",
              "    </tr>\n",
              "    <tr>\n",
              "      <th>/content/drive/MyDrive/SEMOUR_LD/Scripted_Speech/Actor_5/Neutral/4.wav</th>\n",
              "      <th>0 days</th>\n",
              "      <th>0 days 00:00:00.045034014</th>\n",
              "      <td>NaN</td>\n",
              "      <td>NaN</td>\n",
              "      <td>NaN</td>\n",
              "      <td>NaN</td>\n",
              "      <td>NaN</td>\n",
              "      <td>NaN</td>\n",
              "      <td>NaN</td>\n",
              "      <td>NaN</td>\n",
              "      <td>NaN</td>\n",
              "      <td>NaN</td>\n",
              "      <td>NaN</td>\n",
              "      <td>NaN</td>\n",
              "      <td>NaN</td>\n",
              "      <td>NaN</td>\n",
              "      <td>NaN</td>\n",
              "      <td>NaN</td>\n",
              "      <td>NaN</td>\n",
              "      <td>NaN</td>\n",
              "      <td>NaN</td>\n",
              "      <td>NaN</td>\n",
              "      <td>NaN</td>\n",
              "      <td>NaN</td>\n",
              "      <td>NaN</td>\n",
              "      <td>NaN</td>\n",
              "      <td>NaN</td>\n",
              "      <td>NaN</td>\n",
              "      <td>NaN</td>\n",
              "      <td>NaN</td>\n",
              "      <td>NaN</td>\n",
              "      <td>NaN</td>\n",
              "      <td>NaN</td>\n",
              "      <td>NaN</td>\n",
              "      <td>NaN</td>\n",
              "      <td>NaN</td>\n",
              "      <td>NaN</td>\n",
              "      <td>NaN</td>\n",
              "      <td>NaN</td>\n",
              "      <td>NaN</td>\n",
              "      <td>NaN</td>\n",
              "      <td>NaN</td>\n",
              "      <td>...</td>\n",
              "      <td>NaN</td>\n",
              "      <td>NaN</td>\n",
              "      <td>NaN</td>\n",
              "      <td>NaN</td>\n",
              "      <td>NaN</td>\n",
              "      <td>NaN</td>\n",
              "      <td>NaN</td>\n",
              "      <td>NaN</td>\n",
              "      <td>NaN</td>\n",
              "      <td>NaN</td>\n",
              "      <td>NaN</td>\n",
              "      <td>NaN</td>\n",
              "      <td>NaN</td>\n",
              "      <td>NaN</td>\n",
              "      <td>NaN</td>\n",
              "      <td>NaN</td>\n",
              "      <td>NaN</td>\n",
              "      <td>NaN</td>\n",
              "      <td>NaN</td>\n",
              "      <td>NaN</td>\n",
              "      <td>NaN</td>\n",
              "      <td>NaN</td>\n",
              "      <td>NaN</td>\n",
              "      <td>NaN</td>\n",
              "      <td>NaN</td>\n",
              "      <td>NaN</td>\n",
              "      <td>NaN</td>\n",
              "      <td>NaN</td>\n",
              "      <td>NaN</td>\n",
              "      <td>NaN</td>\n",
              "      <td>NaN</td>\n",
              "      <td>NaN</td>\n",
              "      <td>NaN</td>\n",
              "      <td>NaN</td>\n",
              "      <td>NaN</td>\n",
              "      <td>NaN</td>\n",
              "      <td>NaN</td>\n",
              "      <td>NaN</td>\n",
              "      <td>NaN</td>\n",
              "      <td>4</td>\n",
              "    </tr>\n",
              "  </tbody>\n",
              "</table>\n",
              "<p>3 rows × 6374 columns</p>\n",
              "</div>"
            ],
            "text/plain": [
              "                                                                                     audspec_lengthL1norm_sma_range  ...  label\n",
              "file                                               start  end                                                        ...       \n",
              "/content/drive/MyDrive/SEMOUR_LD/Scripted_Speec... 0 days 0 days 00:00:00.051043084                             NaN  ...      0\n",
              "/content/drive/MyDrive/SEMOUR_LD/Scripted_Speec... 0 days 0 days 00:00:00.018027211                             NaN  ...      4\n",
              "/content/drive/MyDrive/SEMOUR_LD/Scripted_Speec... 0 days 0 days 00:00:00.045034014                             NaN  ...      4\n",
              "\n",
              "[3 rows x 6374 columns]"
            ]
          },
          "execution_count": 8,
          "metadata": {
            "tags": []
          },
          "output_type": "execute_result"
        }
      ]
    },
    {
      "cell_type": "code",
      "metadata": {
        "colab": {
          "base_uri": "https://localhost:8080/"
        },
        "id": "etUdJiNl5fnl",
        "outputId": "928630d8-75fe-4eaa-8b04-da51aa8c7290"
      },
      "source": [
        "X__extracted_features = X__extracted_features.dropna()\n",
        "X__extracted_features.shape "
      ],
      "execution_count": null,
      "outputs": [
        {
          "data": {
            "text/plain": [
              "(9397, 6374)"
            ]
          },
          "execution_count": 6,
          "metadata": {
            "tags": []
          },
          "output_type": "execute_result"
        }
      ]
    },
    {
      "cell_type": "code",
      "metadata": {
        "colab": {
          "base_uri": "https://localhost:8080/",
          "height": 363
        },
        "id": "BNKlXhkh7C8_",
        "outputId": "eb7ce215-8bb6-47e2-cc70-3220ea94f5d5"
      },
      "source": [
        "X__extracted_features.describe()"
      ],
      "execution_count": null,
      "outputs": [
        {
          "data": {
            "text/html": [
              "<div>\n",
              "<style scoped>\n",
              "    .dataframe tbody tr th:only-of-type {\n",
              "        vertical-align: middle;\n",
              "    }\n",
              "\n",
              "    .dataframe tbody tr th {\n",
              "        vertical-align: top;\n",
              "    }\n",
              "\n",
              "    .dataframe thead th {\n",
              "        text-align: right;\n",
              "    }\n",
              "</style>\n",
              "<table border=\"1\" class=\"dataframe\">\n",
              "  <thead>\n",
              "    <tr style=\"text-align: right;\">\n",
              "      <th></th>\n",
              "      <th>audspec_lengthL1norm_sma_range</th>\n",
              "      <th>audspec_lengthL1norm_sma_maxPos</th>\n",
              "      <th>audspec_lengthL1norm_sma_minPos</th>\n",
              "      <th>audspec_lengthL1norm_sma_quartile1</th>\n",
              "      <th>audspec_lengthL1norm_sma_quartile2</th>\n",
              "      <th>audspec_lengthL1norm_sma_quartile3</th>\n",
              "      <th>audspec_lengthL1norm_sma_iqr1-2</th>\n",
              "      <th>audspec_lengthL1norm_sma_iqr2-3</th>\n",
              "      <th>audspec_lengthL1norm_sma_iqr1-3</th>\n",
              "      <th>audspec_lengthL1norm_sma_percentile1.0</th>\n",
              "      <th>audspec_lengthL1norm_sma_percentile99.0</th>\n",
              "      <th>audspec_lengthL1norm_sma_pctlrange0-1</th>\n",
              "      <th>audspec_lengthL1norm_sma_stddev</th>\n",
              "      <th>audspec_lengthL1norm_sma_skewness</th>\n",
              "      <th>audspec_lengthL1norm_sma_kurtosis</th>\n",
              "      <th>audspec_lengthL1norm_sma_meanSegLen</th>\n",
              "      <th>audspec_lengthL1norm_sma_maxSegLen</th>\n",
              "      <th>audspec_lengthL1norm_sma_minSegLen</th>\n",
              "      <th>audspec_lengthL1norm_sma_segLenStddev</th>\n",
              "      <th>audspec_lengthL1norm_sma_upleveltime25</th>\n",
              "      <th>audspec_lengthL1norm_sma_upleveltime50</th>\n",
              "      <th>audspec_lengthL1norm_sma_upleveltime75</th>\n",
              "      <th>audspec_lengthL1norm_sma_upleveltime90</th>\n",
              "      <th>audspec_lengthL1norm_sma_risetime</th>\n",
              "      <th>audspec_lengthL1norm_sma_leftctime</th>\n",
              "      <th>audspec_lengthL1norm_sma_lpgain</th>\n",
              "      <th>audspec_lengthL1norm_sma_lpc0</th>\n",
              "      <th>audspec_lengthL1norm_sma_lpc1</th>\n",
              "      <th>audspec_lengthL1norm_sma_lpc2</th>\n",
              "      <th>audspec_lengthL1norm_sma_lpc3</th>\n",
              "      <th>audspec_lengthL1norm_sma_lpc4</th>\n",
              "      <th>audspecRasta_lengthL1norm_sma_range</th>\n",
              "      <th>audspecRasta_lengthL1norm_sma_maxPos</th>\n",
              "      <th>audspecRasta_lengthL1norm_sma_minPos</th>\n",
              "      <th>audspecRasta_lengthL1norm_sma_quartile1</th>\n",
              "      <th>audspecRasta_lengthL1norm_sma_quartile2</th>\n",
              "      <th>audspecRasta_lengthL1norm_sma_quartile3</th>\n",
              "      <th>audspecRasta_lengthL1norm_sma_iqr1-2</th>\n",
              "      <th>audspecRasta_lengthL1norm_sma_iqr2-3</th>\n",
              "      <th>audspecRasta_lengthL1norm_sma_iqr1-3</th>\n",
              "      <th>...</th>\n",
              "      <th>mfcc_sma_de[12]_peakRangeRel</th>\n",
              "      <th>mfcc_sma_de[12]_peakMeanAbs</th>\n",
              "      <th>mfcc_sma_de[12]_peakMeanMeanDist</th>\n",
              "      <th>mfcc_sma_de[12]_peakMeanRel</th>\n",
              "      <th>mfcc_sma_de[12]_minRangeRel</th>\n",
              "      <th>mfcc_sma_de[12]_meanRisingSlope</th>\n",
              "      <th>mfcc_sma_de[12]_stddevRisingSlope</th>\n",
              "      <th>mfcc_sma_de[12]_meanFallingSlope</th>\n",
              "      <th>mfcc_sma_de[12]_stddevFallingSlope</th>\n",
              "      <th>mfcc_sma_de[13]_flatness</th>\n",
              "      <th>mfcc_sma_de[13]_posamean</th>\n",
              "      <th>mfcc_sma_de[13]_rqmean</th>\n",
              "      <th>mfcc_sma_de[13]_meanPeakDist</th>\n",
              "      <th>mfcc_sma_de[13]_peakDistStddev</th>\n",
              "      <th>mfcc_sma_de[13]_peakRangeAbs</th>\n",
              "      <th>mfcc_sma_de[13]_peakRangeRel</th>\n",
              "      <th>mfcc_sma_de[13]_peakMeanAbs</th>\n",
              "      <th>mfcc_sma_de[13]_peakMeanMeanDist</th>\n",
              "      <th>mfcc_sma_de[13]_peakMeanRel</th>\n",
              "      <th>mfcc_sma_de[13]_minRangeRel</th>\n",
              "      <th>mfcc_sma_de[13]_meanRisingSlope</th>\n",
              "      <th>mfcc_sma_de[13]_stddevRisingSlope</th>\n",
              "      <th>mfcc_sma_de[13]_meanFallingSlope</th>\n",
              "      <th>mfcc_sma_de[13]_stddevFallingSlope</th>\n",
              "      <th>mfcc_sma_de[14]_flatness</th>\n",
              "      <th>mfcc_sma_de[14]_posamean</th>\n",
              "      <th>mfcc_sma_de[14]_rqmean</th>\n",
              "      <th>mfcc_sma_de[14]_meanPeakDist</th>\n",
              "      <th>mfcc_sma_de[14]_peakDistStddev</th>\n",
              "      <th>mfcc_sma_de[14]_peakRangeAbs</th>\n",
              "      <th>mfcc_sma_de[14]_peakRangeRel</th>\n",
              "      <th>mfcc_sma_de[14]_peakMeanAbs</th>\n",
              "      <th>mfcc_sma_de[14]_peakMeanMeanDist</th>\n",
              "      <th>mfcc_sma_de[14]_peakMeanRel</th>\n",
              "      <th>mfcc_sma_de[14]_minRangeRel</th>\n",
              "      <th>mfcc_sma_de[14]_meanRisingSlope</th>\n",
              "      <th>mfcc_sma_de[14]_stddevRisingSlope</th>\n",
              "      <th>mfcc_sma_de[14]_meanFallingSlope</th>\n",
              "      <th>mfcc_sma_de[14]_stddevFallingSlope</th>\n",
              "      <th>label</th>\n",
              "    </tr>\n",
              "  </thead>\n",
              "  <tbody>\n",
              "    <tr>\n",
              "      <th>count</th>\n",
              "      <td>9397.000000</td>\n",
              "      <td>9397.000000</td>\n",
              "      <td>9397.000000</td>\n",
              "      <td>9397.000000</td>\n",
              "      <td>9397.000000</td>\n",
              "      <td>9397.000000</td>\n",
              "      <td>9397.000000</td>\n",
              "      <td>9397.000000</td>\n",
              "      <td>9397.000000</td>\n",
              "      <td>9397.000000</td>\n",
              "      <td>9397.000000</td>\n",
              "      <td>9397.000000</td>\n",
              "      <td>9397.000000</td>\n",
              "      <td>9397.000000</td>\n",
              "      <td>9397.000000</td>\n",
              "      <td>9397.000000</td>\n",
              "      <td>9397.000000</td>\n",
              "      <td>9397.000000</td>\n",
              "      <td>9397.000000</td>\n",
              "      <td>9397.000000</td>\n",
              "      <td>9397.000000</td>\n",
              "      <td>9397.000000</td>\n",
              "      <td>9397.000000</td>\n",
              "      <td>9397.000000</td>\n",
              "      <td>9397.000000</td>\n",
              "      <td>9397.000000</td>\n",
              "      <td>9397.000000</td>\n",
              "      <td>9397.000000</td>\n",
              "      <td>9397.000000</td>\n",
              "      <td>9397.000000</td>\n",
              "      <td>9397.000000</td>\n",
              "      <td>9397.000000</td>\n",
              "      <td>9397.000000</td>\n",
              "      <td>9397.000000</td>\n",
              "      <td>9397.000000</td>\n",
              "      <td>9397.000000</td>\n",
              "      <td>9397.000000</td>\n",
              "      <td>9397.000000</td>\n",
              "      <td>9397.000000</td>\n",
              "      <td>9397.000000</td>\n",
              "      <td>...</td>\n",
              "      <td>9397.000000</td>\n",
              "      <td>9397.000000</td>\n",
              "      <td>9397.000000</td>\n",
              "      <td>9397.000000</td>\n",
              "      <td>9397.000000</td>\n",
              "      <td>9397.000000</td>\n",
              "      <td>9397.000000</td>\n",
              "      <td>9397.000000</td>\n",
              "      <td>9397.000000</td>\n",
              "      <td>9397.000000</td>\n",
              "      <td>9397.000000</td>\n",
              "      <td>9397.000000</td>\n",
              "      <td>9397.000000</td>\n",
              "      <td>9397.000000</td>\n",
              "      <td>9397.000000</td>\n",
              "      <td>9397.000000</td>\n",
              "      <td>9397.000000</td>\n",
              "      <td>9397.000000</td>\n",
              "      <td>9397.000000</td>\n",
              "      <td>9397.000000</td>\n",
              "      <td>9397.000000</td>\n",
              "      <td>9397.000000</td>\n",
              "      <td>9397.000000</td>\n",
              "      <td>9397.000000</td>\n",
              "      <td>9397.000000</td>\n",
              "      <td>9397.000000</td>\n",
              "      <td>9397.000000</td>\n",
              "      <td>9397.000000</td>\n",
              "      <td>9397.000000</td>\n",
              "      <td>9397.000000</td>\n",
              "      <td>9397.000000</td>\n",
              "      <td>9397.000000</td>\n",
              "      <td>9397.000000</td>\n",
              "      <td>9397.000000</td>\n",
              "      <td>9397.000000</td>\n",
              "      <td>9397.000000</td>\n",
              "      <td>9397.000000</td>\n",
              "      <td>9397.000000</td>\n",
              "      <td>9397.000000</td>\n",
              "      <td>9397.000000</td>\n",
              "    </tr>\n",
              "    <tr>\n",
              "      <th>mean</th>\n",
              "      <td>3.899627</td>\n",
              "      <td>0.464397</td>\n",
              "      <td>0.156052</td>\n",
              "      <td>0.494890</td>\n",
              "      <td>1.313349</td>\n",
              "      <td>2.332168</td>\n",
              "      <td>0.818460</td>\n",
              "      <td>1.018820</td>\n",
              "      <td>1.837278</td>\n",
              "      <td>0.068243</td>\n",
              "      <td>3.869764</td>\n",
              "      <td>3.801513</td>\n",
              "      <td>1.124478</td>\n",
              "      <td>0.484728</td>\n",
              "      <td>2.355287</td>\n",
              "      <td>0.118003</td>\n",
              "      <td>0.301691</td>\n",
              "      <td>0.037694</td>\n",
              "      <td>0.079620</td>\n",
              "      <td>0.573088</td>\n",
              "      <td>0.333216</td>\n",
              "      <td>0.150262</td>\n",
              "      <td>0.062844</td>\n",
              "      <td>0.443756</td>\n",
              "      <td>0.534992</td>\n",
              "      <td>0.017056</td>\n",
              "      <td>-2.268811</td>\n",
              "      <td>1.772364</td>\n",
              "      <td>-0.350742</td>\n",
              "      <td>-0.295960</td>\n",
              "      <td>0.153600</td>\n",
              "      <td>17.599545</td>\n",
              "      <td>0.207513</td>\n",
              "      <td>0.813666</td>\n",
              "      <td>0.847415</td>\n",
              "      <td>1.370981</td>\n",
              "      <td>2.688648</td>\n",
              "      <td>0.523560</td>\n",
              "      <td>1.317666</td>\n",
              "      <td>1.841234</td>\n",
              "      <td>...</td>\n",
              "      <td>0.494200</td>\n",
              "      <td>3.511577</td>\n",
              "      <td>3.536045</td>\n",
              "      <td>-3.188952</td>\n",
              "      <td>0.512428</td>\n",
              "      <td>141.970215</td>\n",
              "      <td>70.584366</td>\n",
              "      <td>136.225174</td>\n",
              "      <td>75.102325</td>\n",
              "      <td>0.637391</td>\n",
              "      <td>2.176482</td>\n",
              "      <td>2.821132</td>\n",
              "      <td>0.108050</td>\n",
              "      <td>0.060614</td>\n",
              "      <td>7.650105</td>\n",
              "      <td>0.498435</td>\n",
              "      <td>3.229183</td>\n",
              "      <td>3.242136</td>\n",
              "      <td>-1.973539</td>\n",
              "      <td>0.501962</td>\n",
              "      <td>131.430634</td>\n",
              "      <td>66.040527</td>\n",
              "      <td>126.111641</td>\n",
              "      <td>69.463020</td>\n",
              "      <td>0.637007</td>\n",
              "      <td>2.009587</td>\n",
              "      <td>2.630419</td>\n",
              "      <td>0.108790</td>\n",
              "      <td>0.061287</td>\n",
              "      <td>6.990461</td>\n",
              "      <td>0.491211</td>\n",
              "      <td>2.977185</td>\n",
              "      <td>2.998712</td>\n",
              "      <td>-3.363110</td>\n",
              "      <td>0.513580</td>\n",
              "      <td>121.490181</td>\n",
              "      <td>60.755421</td>\n",
              "      <td>114.940895</td>\n",
              "      <td>63.093529</td>\n",
              "      <td>2.800043</td>\n",
              "    </tr>\n",
              "    <tr>\n",
              "      <th>std</th>\n",
              "      <td>1.782484</td>\n",
              "      <td>0.204720</td>\n",
              "      <td>0.283226</td>\n",
              "      <td>0.348002</td>\n",
              "      <td>0.727538</td>\n",
              "      <td>1.169676</td>\n",
              "      <td>0.538060</td>\n",
              "      <td>0.690955</td>\n",
              "      <td>1.046187</td>\n",
              "      <td>0.059953</td>\n",
              "      <td>1.737685</td>\n",
              "      <td>1.737911</td>\n",
              "      <td>0.552234</td>\n",
              "      <td>0.439258</td>\n",
              "      <td>0.794165</td>\n",
              "      <td>0.036198</td>\n",
              "      <td>0.113889</td>\n",
              "      <td>0.016158</td>\n",
              "      <td>0.034400</td>\n",
              "      <td>0.121831</td>\n",
              "      <td>0.121538</td>\n",
              "      <td>0.088125</td>\n",
              "      <td>0.046483</td>\n",
              "      <td>0.056066</td>\n",
              "      <td>0.038906</td>\n",
              "      <td>0.020515</td>\n",
              "      <td>0.249392</td>\n",
              "      <td>0.584363</td>\n",
              "      <td>0.571211</td>\n",
              "      <td>0.350171</td>\n",
              "      <td>0.116881</td>\n",
              "      <td>16.829639</td>\n",
              "      <td>0.129391</td>\n",
              "      <td>0.223674</td>\n",
              "      <td>0.149038</td>\n",
              "      <td>0.335683</td>\n",
              "      <td>1.253191</td>\n",
              "      <td>0.297212</td>\n",
              "      <td>1.072817</td>\n",
              "      <td>1.229138</td>\n",
              "      <td>...</td>\n",
              "      <td>0.115892</td>\n",
              "      <td>0.920811</td>\n",
              "      <td>0.905145</td>\n",
              "      <td>17.150990</td>\n",
              "      <td>0.116080</td>\n",
              "      <td>32.527596</td>\n",
              "      <td>23.610903</td>\n",
              "      <td>35.737907</td>\n",
              "      <td>25.560015</td>\n",
              "      <td>0.048069</td>\n",
              "      <td>0.569082</td>\n",
              "      <td>0.694952</td>\n",
              "      <td>0.017793</td>\n",
              "      <td>0.011804</td>\n",
              "      <td>2.823103</td>\n",
              "      <td>0.111990</td>\n",
              "      <td>0.909080</td>\n",
              "      <td>0.900500</td>\n",
              "      <td>17.487478</td>\n",
              "      <td>0.112303</td>\n",
              "      <td>31.831646</td>\n",
              "      <td>22.816589</td>\n",
              "      <td>33.916328</td>\n",
              "      <td>24.274139</td>\n",
              "      <td>0.048348</td>\n",
              "      <td>0.563661</td>\n",
              "      <td>0.691391</td>\n",
              "      <td>0.017746</td>\n",
              "      <td>0.011988</td>\n",
              "      <td>2.627718</td>\n",
              "      <td>0.110698</td>\n",
              "      <td>0.894400</td>\n",
              "      <td>0.889439</td>\n",
              "      <td>17.206768</td>\n",
              "      <td>0.113658</td>\n",
              "      <td>29.972099</td>\n",
              "      <td>21.250082</td>\n",
              "      <td>32.438580</td>\n",
              "      <td>23.151136</td>\n",
              "      <td>1.720500</td>\n",
              "    </tr>\n",
              "    <tr>\n",
              "      <th>min</th>\n",
              "      <td>0.775133</td>\n",
              "      <td>0.023891</td>\n",
              "      <td>0.000000</td>\n",
              "      <td>0.008061</td>\n",
              "      <td>0.009479</td>\n",
              "      <td>0.415149</td>\n",
              "      <td>0.001389</td>\n",
              "      <td>0.053286</td>\n",
              "      <td>0.174362</td>\n",
              "      <td>0.001034</td>\n",
              "      <td>0.848430</td>\n",
              "      <td>0.760816</td>\n",
              "      <td>0.180833</td>\n",
              "      <td>-1.585693</td>\n",
              "      <td>1.137538</td>\n",
              "      <td>0.048667</td>\n",
              "      <td>0.080000</td>\n",
              "      <td>0.030000</td>\n",
              "      <td>0.004000</td>\n",
              "      <td>0.136364</td>\n",
              "      <td>0.039106</td>\n",
              "      <td>0.010152</td>\n",
              "      <td>0.004425</td>\n",
              "      <td>0.202703</td>\n",
              "      <td>0.348485</td>\n",
              "      <td>0.000250</td>\n",
              "      <td>-3.010503</td>\n",
              "      <td>0.035906</td>\n",
              "      <td>-2.868493</td>\n",
              "      <td>-1.392779</td>\n",
              "      <td>-0.326787</td>\n",
              "      <td>0.748592</td>\n",
              "      <td>0.020964</td>\n",
              "      <td>0.000000</td>\n",
              "      <td>0.196672</td>\n",
              "      <td>0.537812</td>\n",
              "      <td>0.991179</td>\n",
              "      <td>0.024598</td>\n",
              "      <td>0.136529</td>\n",
              "      <td>0.265182</td>\n",
              "      <td>...</td>\n",
              "      <td>0.054618</td>\n",
              "      <td>0.404597</td>\n",
              "      <td>1.017163</td>\n",
              "      <td>-20.000000</td>\n",
              "      <td>0.045742</td>\n",
              "      <td>33.550301</td>\n",
              "      <td>3.333611</td>\n",
              "      <td>-40.881176</td>\n",
              "      <td>16.369448</td>\n",
              "      <td>0.397693</td>\n",
              "      <td>0.683276</td>\n",
              "      <td>1.065490</td>\n",
              "      <td>0.061667</td>\n",
              "      <td>0.030000</td>\n",
              "      <td>0.394625</td>\n",
              "      <td>0.045133</td>\n",
              "      <td>0.556103</td>\n",
              "      <td>0.491690</td>\n",
              "      <td>-20.000000</td>\n",
              "      <td>0.000000</td>\n",
              "      <td>39.714069</td>\n",
              "      <td>9.106800</td>\n",
              "      <td>-52.644302</td>\n",
              "      <td>1.975820</td>\n",
              "      <td>0.421052</td>\n",
              "      <td>0.503833</td>\n",
              "      <td>0.805060</td>\n",
              "      <td>0.063333</td>\n",
              "      <td>0.030185</td>\n",
              "      <td>0.722407</td>\n",
              "      <td>0.068178</td>\n",
              "      <td>0.584296</td>\n",
              "      <td>0.674171</td>\n",
              "      <td>-20.000000</td>\n",
              "      <td>0.083341</td>\n",
              "      <td>36.492649</td>\n",
              "      <td>8.464656</td>\n",
              "      <td>-3.444745</td>\n",
              "      <td>7.720177</td>\n",
              "      <td>0.000000</td>\n",
              "    </tr>\n",
              "    <tr>\n",
              "      <th>25%</th>\n",
              "      <td>2.566137</td>\n",
              "      <td>0.304348</td>\n",
              "      <td>0.012987</td>\n",
              "      <td>0.244972</td>\n",
              "      <td>0.767589</td>\n",
              "      <td>1.417723</td>\n",
              "      <td>0.438443</td>\n",
              "      <td>0.519454</td>\n",
              "      <td>1.059915</td>\n",
              "      <td>0.021130</td>\n",
              "      <td>2.553658</td>\n",
              "      <td>2.492642</td>\n",
              "      <td>0.708304</td>\n",
              "      <td>0.202663</td>\n",
              "      <td>1.831156</td>\n",
              "      <td>0.093333</td>\n",
              "      <td>0.220000</td>\n",
              "      <td>0.030000</td>\n",
              "      <td>0.055597</td>\n",
              "      <td>0.491429</td>\n",
              "      <td>0.244275</td>\n",
              "      <td>0.087432</td>\n",
              "      <td>0.031818</td>\n",
              "      <td>0.408602</td>\n",
              "      <td>0.509934</td>\n",
              "      <td>0.004955</td>\n",
              "      <td>-2.439015</td>\n",
              "      <td>1.381912</td>\n",
              "      <td>-0.712237</td>\n",
              "      <td>-0.526927</td>\n",
              "      <td>0.079122</td>\n",
              "      <td>6.717360</td>\n",
              "      <td>0.114943</td>\n",
              "      <td>0.659898</td>\n",
              "      <td>0.752920</td>\n",
              "      <td>1.173993</td>\n",
              "      <td>1.979866</td>\n",
              "      <td>0.348804</td>\n",
              "      <td>0.717790</td>\n",
              "      <td>1.145361</td>\n",
              "      <td>...</td>\n",
              "      <td>0.416478</td>\n",
              "      <td>2.880030</td>\n",
              "      <td>2.906252</td>\n",
              "      <td>-18.510311</td>\n",
              "      <td>0.436572</td>\n",
              "      <td>119.025581</td>\n",
              "      <td>54.405331</td>\n",
              "      <td>112.407913</td>\n",
              "      <td>57.606331</td>\n",
              "      <td>0.607419</td>\n",
              "      <td>1.768244</td>\n",
              "      <td>2.321612</td>\n",
              "      <td>0.096000</td>\n",
              "      <td>0.052625</td>\n",
              "      <td>5.685879</td>\n",
              "      <td>0.424520</td>\n",
              "      <td>2.596700</td>\n",
              "      <td>2.617264</td>\n",
              "      <td>-18.499882</td>\n",
              "      <td>0.426784</td>\n",
              "      <td>109.287689</td>\n",
              "      <td>50.168736</td>\n",
              "      <td>103.521523</td>\n",
              "      <td>52.772987</td>\n",
              "      <td>0.607544</td>\n",
              "      <td>1.597330</td>\n",
              "      <td>2.107442</td>\n",
              "      <td>0.096667</td>\n",
              "      <td>0.053242</td>\n",
              "      <td>5.074042</td>\n",
              "      <td>0.418659</td>\n",
              "      <td>2.339276</td>\n",
              "      <td>2.364202</td>\n",
              "      <td>-18.558977</td>\n",
              "      <td>0.438362</td>\n",
              "      <td>100.195633</td>\n",
              "      <td>45.816593</td>\n",
              "      <td>92.133018</td>\n",
              "      <td>47.015873</td>\n",
              "      <td>2.000000</td>\n",
              "    </tr>\n",
              "    <tr>\n",
              "      <th>50%</th>\n",
              "      <td>3.646801</td>\n",
              "      <td>0.461538</td>\n",
              "      <td>0.046154</td>\n",
              "      <td>0.417073</td>\n",
              "      <td>1.154239</td>\n",
              "      <td>2.080295</td>\n",
              "      <td>0.687885</td>\n",
              "      <td>0.845357</td>\n",
              "      <td>1.602520</td>\n",
              "      <td>0.062909</td>\n",
              "      <td>3.609511</td>\n",
              "      <td>3.534082</td>\n",
              "      <td>1.018472</td>\n",
              "      <td>0.468769</td>\n",
              "      <td>2.164805</td>\n",
              "      <td>0.110769</td>\n",
              "      <td>0.280000</td>\n",
              "      <td>0.030000</td>\n",
              "      <td>0.073201</td>\n",
              "      <td>0.577181</td>\n",
              "      <td>0.324444</td>\n",
              "      <td>0.131086</td>\n",
              "      <td>0.050000</td>\n",
              "      <td>0.443396</td>\n",
              "      <td>0.535714</td>\n",
              "      <td>0.010030</td>\n",
              "      <td>-2.297229</td>\n",
              "      <td>1.780197</td>\n",
              "      <td>-0.257367</td>\n",
              "      <td>-0.323366</td>\n",
              "      <td>0.157687</td>\n",
              "      <td>11.553778</td>\n",
              "      <td>0.176056</td>\n",
              "      <td>0.940476</td>\n",
              "      <td>0.854518</td>\n",
              "      <td>1.300597</td>\n",
              "      <td>2.345711</td>\n",
              "      <td>0.469491</td>\n",
              "      <td>1.016867</td>\n",
              "      <td>1.514158</td>\n",
              "      <td>...</td>\n",
              "      <td>0.493697</td>\n",
              "      <td>3.413917</td>\n",
              "      <td>3.441465</td>\n",
              "      <td>-14.044647</td>\n",
              "      <td>0.512999</td>\n",
              "      <td>139.200089</td>\n",
              "      <td>67.910683</td>\n",
              "      <td>133.885284</td>\n",
              "      <td>71.303032</td>\n",
              "      <td>0.638295</td>\n",
              "      <td>2.090863</td>\n",
              "      <td>2.715633</td>\n",
              "      <td>0.105625</td>\n",
              "      <td>0.059082</td>\n",
              "      <td>7.298243</td>\n",
              "      <td>0.497408</td>\n",
              "      <td>3.104885</td>\n",
              "      <td>3.113752</td>\n",
              "      <td>-13.447277</td>\n",
              "      <td>0.499655</td>\n",
              "      <td>127.822075</td>\n",
              "      <td>62.956108</td>\n",
              "      <td>123.328888</td>\n",
              "      <td>65.711472</td>\n",
              "      <td>0.638477</td>\n",
              "      <td>1.928032</td>\n",
              "      <td>2.539822</td>\n",
              "      <td>0.106667</td>\n",
              "      <td>0.059808</td>\n",
              "      <td>6.623805</td>\n",
              "      <td>0.490130</td>\n",
              "      <td>2.850239</td>\n",
              "      <td>2.870874</td>\n",
              "      <td>-14.432212</td>\n",
              "      <td>0.513477</td>\n",
              "      <td>118.082726</td>\n",
              "      <td>57.672047</td>\n",
              "      <td>111.471054</td>\n",
              "      <td>59.388966</td>\n",
              "      <td>3.000000</td>\n",
              "    </tr>\n",
              "    <tr>\n",
              "      <th>75%</th>\n",
              "      <td>5.038510</td>\n",
              "      <td>0.622549</td>\n",
              "      <td>0.115702</td>\n",
              "      <td>0.667266</td>\n",
              "      <td>1.683661</td>\n",
              "      <td>3.035246</td>\n",
              "      <td>1.050523</td>\n",
              "      <td>1.319359</td>\n",
              "      <td>2.394163</td>\n",
              "      <td>0.093469</td>\n",
              "      <td>4.984904</td>\n",
              "      <td>4.911427</td>\n",
              "      <td>1.458589</td>\n",
              "      <td>0.755175</td>\n",
              "      <td>2.649159</td>\n",
              "      <td>0.135000</td>\n",
              "      <td>0.360000</td>\n",
              "      <td>0.040000</td>\n",
              "      <td>0.096722</td>\n",
              "      <td>0.659722</td>\n",
              "      <td>0.411765</td>\n",
              "      <td>0.191710</td>\n",
              "      <td>0.078818</td>\n",
              "      <td>0.479167</td>\n",
              "      <td>0.560440</td>\n",
              "      <td>0.020578</td>\n",
              "      <td>-2.132975</td>\n",
              "      <td>2.175340</td>\n",
              "      <td>0.095100</td>\n",
              "      <td>-0.096643</td>\n",
              "      <td>0.232903</td>\n",
              "      <td>21.866606</td>\n",
              "      <td>0.265487</td>\n",
              "      <td>0.988439</td>\n",
              "      <td>0.956953</td>\n",
              "      <td>1.474215</td>\n",
              "      <td>2.945881</td>\n",
              "      <td>0.623589</td>\n",
              "      <td>1.530805</td>\n",
              "      <td>2.116091</td>\n",
              "      <td>...</td>\n",
              "      <td>0.569106</td>\n",
              "      <td>4.042270</td>\n",
              "      <td>4.062736</td>\n",
              "      <td>17.650234</td>\n",
              "      <td>0.587656</td>\n",
              "      <td>161.827652</td>\n",
              "      <td>83.573029</td>\n",
              "      <td>157.748352</td>\n",
              "      <td>88.749725</td>\n",
              "      <td>0.668955</td>\n",
              "      <td>2.509806</td>\n",
              "      <td>3.250383</td>\n",
              "      <td>0.117778</td>\n",
              "      <td>0.066622</td>\n",
              "      <td>9.236157</td>\n",
              "      <td>0.571272</td>\n",
              "      <td>3.719496</td>\n",
              "      <td>3.733868</td>\n",
              "      <td>18.083549</td>\n",
              "      <td>0.575890</td>\n",
              "      <td>150.276779</td>\n",
              "      <td>78.709976</td>\n",
              "      <td>145.796295</td>\n",
              "      <td>82.261627</td>\n",
              "      <td>0.668477</td>\n",
              "      <td>2.337091</td>\n",
              "      <td>3.079477</td>\n",
              "      <td>0.118182</td>\n",
              "      <td>0.067518</td>\n",
              "      <td>8.577413</td>\n",
              "      <td>0.563306</td>\n",
              "      <td>3.488951</td>\n",
              "      <td>3.505695</td>\n",
              "      <td>17.594522</td>\n",
              "      <td>0.588320</td>\n",
              "      <td>139.487625</td>\n",
              "      <td>72.700111</td>\n",
              "      <td>134.700806</td>\n",
              "      <td>75.118782</td>\n",
              "      <td>4.000000</td>\n",
              "    </tr>\n",
              "    <tr>\n",
              "      <th>max</th>\n",
              "      <td>11.906780</td>\n",
              "      <td>0.965517</td>\n",
              "      <td>0.997368</td>\n",
              "      <td>3.161308</td>\n",
              "      <td>5.577572</td>\n",
              "      <td>9.359116</td>\n",
              "      <td>4.732601</td>\n",
              "      <td>7.096084</td>\n",
              "      <td>8.987806</td>\n",
              "      <td>0.889262</td>\n",
              "      <td>11.485008</td>\n",
              "      <td>11.416028</td>\n",
              "      <td>4.252405</td>\n",
              "      <td>2.268183</td>\n",
              "      <td>8.305938</td>\n",
              "      <td>0.370000</td>\n",
              "      <td>0.990000</td>\n",
              "      <td>0.230000</td>\n",
              "      <td>0.295827</td>\n",
              "      <td>0.954545</td>\n",
              "      <td>0.868852</td>\n",
              "      <td>0.720000</td>\n",
              "      <td>0.460000</td>\n",
              "      <td>0.846154</td>\n",
              "      <td>0.701754</td>\n",
              "      <td>0.411590</td>\n",
              "      <td>-1.085713</td>\n",
              "      <td>3.882892</td>\n",
              "      <td>1.163757</td>\n",
              "      <td>1.405079</td>\n",
              "      <td>0.589359</td>\n",
              "      <td>182.548035</td>\n",
              "      <td>0.937107</td>\n",
              "      <td>0.997602</td>\n",
              "      <td>2.480323</td>\n",
              "      <td>8.267945</td>\n",
              "      <td>20.733809</td>\n",
              "      <td>6.052917</td>\n",
              "      <td>16.302746</td>\n",
              "      <td>19.539850</td>\n",
              "      <td>...</td>\n",
              "      <td>0.887018</td>\n",
              "      <td>9.856323</td>\n",
              "      <td>10.285943</td>\n",
              "      <td>20.000000</td>\n",
              "      <td>0.889917</td>\n",
              "      <td>324.227112</td>\n",
              "      <td>209.083954</td>\n",
              "      <td>328.860748</td>\n",
              "      <td>269.416168</td>\n",
              "      <td>0.822125</td>\n",
              "      <td>5.774835</td>\n",
              "      <td>6.988060</td>\n",
              "      <td>0.290000</td>\n",
              "      <td>0.140801</td>\n",
              "      <td>24.560152</td>\n",
              "      <td>0.883026</td>\n",
              "      <td>9.056670</td>\n",
              "      <td>8.620489</td>\n",
              "      <td>20.000000</td>\n",
              "      <td>0.884834</td>\n",
              "      <td>324.820282</td>\n",
              "      <td>207.737152</td>\n",
              "      <td>326.911285</td>\n",
              "      <td>249.259689</td>\n",
              "      <td>0.823500</td>\n",
              "      <td>5.372939</td>\n",
              "      <td>6.793297</td>\n",
              "      <td>0.253333</td>\n",
              "      <td>0.160000</td>\n",
              "      <td>19.251801</td>\n",
              "      <td>0.881311</td>\n",
              "      <td>8.460547</td>\n",
              "      <td>8.493108</td>\n",
              "      <td>20.000000</td>\n",
              "      <td>0.892031</td>\n",
              "      <td>290.427429</td>\n",
              "      <td>196.369034</td>\n",
              "      <td>274.823639</td>\n",
              "      <td>241.640945</td>\n",
              "      <td>5.000000</td>\n",
              "    </tr>\n",
              "  </tbody>\n",
              "</table>\n",
              "<p>8 rows × 6374 columns</p>\n",
              "</div>"
            ],
            "text/plain": [
              "       audspec_lengthL1norm_sma_range  ...        label\n",
              "count                     9397.000000  ...  9397.000000\n",
              "mean                         3.899627  ...     2.800043\n",
              "std                          1.782484  ...     1.720500\n",
              "min                          0.775133  ...     0.000000\n",
              "25%                          2.566137  ...     2.000000\n",
              "50%                          3.646801  ...     3.000000\n",
              "75%                          5.038510  ...     4.000000\n",
              "max                         11.906780  ...     5.000000\n",
              "\n",
              "[8 rows x 6374 columns]"
            ]
          },
          "execution_count": 87,
          "metadata": {
            "tags": []
          },
          "output_type": "execute_result"
        }
      ]
    },
    {
      "cell_type": "code",
      "metadata": {
        "id": "MdWy1-gqrTfl"
      },
      "source": [
        "X__extracted_features_final = X__extracted_features.drop(['label'], axis=1)\n",
        "Y__extracted_features_final = X__extracted_features['label']"
      ],
      "execution_count": null,
      "outputs": []
    },
    {
      "cell_type": "code",
      "metadata": {
        "colab": {
          "base_uri": "https://localhost:8080/"
        },
        "id": "m6uoLSXvsSb0",
        "outputId": "3b7d9bc3-2b31-4491-801d-336dc4d33d67"
      },
      "source": [
        "X__extracted_features_final.shape"
      ],
      "execution_count": null,
      "outputs": [
        {
          "data": {
            "text/plain": [
              "(9397, 6373)"
            ]
          },
          "execution_count": 16,
          "metadata": {
            "tags": []
          },
          "output_type": "execute_result"
        }
      ]
    },
    {
      "cell_type": "code",
      "metadata": {
        "colab": {
          "base_uri": "https://localhost:8080/"
        },
        "id": "eF-C_bVqsUiF",
        "outputId": "509dc7b9-c668-47ed-d212-4a3ef8154506"
      },
      "source": [
        "Y__extracted_features_final.shape"
      ],
      "execution_count": null,
      "outputs": [
        {
          "data": {
            "text/plain": [
              "(9397,)"
            ]
          },
          "execution_count": 17,
          "metadata": {
            "tags": []
          },
          "output_type": "execute_result"
        }
      ]
    },
    {
      "cell_type": "code",
      "metadata": {
        "id": "3e5xnyUPtE6O"
      },
      "source": [
        "# train test split\n",
        "X_train, X_test, y_train, y_test = train_test_split(X__extracted_features_final, Y__extracted_features_final, test_size = 0.2, random_state = 42)"
      ],
      "execution_count": null,
      "outputs": []
    },
    {
      "cell_type": "code",
      "metadata": {
        "colab": {
          "base_uri": "https://localhost:8080/"
        },
        "id": "h_01b_Opt7Gh",
        "outputId": "188e86ff-6de6-4d0a-e8f5-2539560da6c1"
      },
      "source": [
        "X_train.shape, X_test.shape, y_train.shape, y_test.shape"
      ],
      "execution_count": null,
      "outputs": [
        {
          "data": {
            "text/plain": [
              "((7517, 6373), (1880, 6373), (7517,), (1880,))"
            ]
          },
          "execution_count": 9,
          "metadata": {
            "tags": []
          },
          "output_type": "execute_result"
        }
      ]
    },
    {
      "cell_type": "code",
      "metadata": {
        "id": "z-nv7nmt7Q7g"
      },
      "source": [
        "#remove constant and quasi constant features\n",
        "\n",
        "constant_filter = VarianceThreshold(threshold=0.01)\n",
        "constant_filter.fit(X_train)\n",
        "X_train_filter = constant_filter.transform(X_train)\n",
        "X_test_filter = constant_filter.transform(X_test)"
      ],
      "execution_count": null,
      "outputs": []
    },
    {
      "cell_type": "code",
      "metadata": {
        "colab": {
          "base_uri": "https://localhost:8080/"
        },
        "id": "AKWrsSkQ7WUw",
        "outputId": "c8997d9c-0133-45c5-9538-04387f27cb0c"
      },
      "source": [
        "X_train_filter.shape, X_test_filter.shape"
      ],
      "execution_count": null,
      "outputs": [
        {
          "data": {
            "text/plain": [
              "((7517, 4645), (1880, 4645))"
            ]
          },
          "execution_count": 24,
          "metadata": {
            "tags": []
          },
          "output_type": "execute_result"
        }
      ]
    },
    {
      "cell_type": "code",
      "metadata": {
        "id": "mQNZha_17aOm"
      },
      "source": [
        "#remove duplicate features\n",
        "\n",
        "X_train_T = X_train_filter.T\n",
        "X_test_T = X_test_filter.T"
      ],
      "execution_count": null,
      "outputs": []
    },
    {
      "cell_type": "code",
      "metadata": {
        "id": "M27dfWVr7eN-"
      },
      "source": [
        "X_train_T = pd.DataFrame(X_train_T)\n",
        "X_test_T = pd.DataFrame(X_test_T)"
      ],
      "execution_count": null,
      "outputs": []
    },
    {
      "cell_type": "code",
      "metadata": {
        "colab": {
          "base_uri": "https://localhost:8080/"
        },
        "id": "U9OttAh_7hqc",
        "outputId": "2fd120b8-4f1a-41c4-f9f0-82a5125cbff7"
      },
      "source": [
        "X_train_T.duplicated().sum()"
      ],
      "execution_count": null,
      "outputs": [
        {
          "data": {
            "text/plain": [
              "1"
            ]
          },
          "execution_count": 27,
          "metadata": {
            "tags": []
          },
          "output_type": "execute_result"
        }
      ]
    },
    {
      "cell_type": "code",
      "metadata": {
        "id": "nW5CsH-R7l0n"
      },
      "source": [
        "duplicated_features = X_train_T.duplicated() "
      ],
      "execution_count": null,
      "outputs": []
    },
    {
      "cell_type": "code",
      "metadata": {
        "colab": {
          "base_uri": "https://localhost:8080/"
        },
        "id": "tjvnQiFA7tHI",
        "outputId": "0f9d6a71-0dd6-443b-84c6-a484522f8aaf"
      },
      "source": [
        "duplicated_features"
      ],
      "execution_count": null,
      "outputs": [
        {
          "data": {
            "text/plain": [
              "0       False\n",
              "1       False\n",
              "2       False\n",
              "3       False\n",
              "4       False\n",
              "        ...  \n",
              "4640    False\n",
              "4641    False\n",
              "4642    False\n",
              "4643    False\n",
              "4644    False\n",
              "Length: 4645, dtype: bool"
            ]
          },
          "execution_count": 99,
          "metadata": {
            "tags": []
          },
          "output_type": "execute_result"
        }
      ]
    },
    {
      "cell_type": "code",
      "metadata": {
        "id": "gRAKfUt67r5G"
      },
      "source": [
        "features_to_keep = [not index for index in duplicated_features]\n",
        "\n",
        "X_train_unique = X_train_T[features_to_keep].T\n",
        "X_test_unique = X_test_T[features_to_keep].T"
      ],
      "execution_count": null,
      "outputs": []
    },
    {
      "cell_type": "code",
      "metadata": {
        "id": "DXj7TNWBuLCn"
      },
      "source": [
        "# data scaling\n",
        "scaler = StandardScaler().fit(X_train_unique)\n",
        "X_train_unique = scaler.transform(X_train_unique)\n",
        "X_test_unique = scaler.transform(X_test_unique)"
      ],
      "execution_count": null,
      "outputs": []
    },
    {
      "cell_type": "code",
      "metadata": {
        "id": "wJVPqjjQuxzH"
      },
      "source": [
        "X_train_unique = pd.DataFrame(X_train_unique)\n",
        "X_test_unique = pd.DataFrame(X_test_unique)"
      ],
      "execution_count": null,
      "outputs": []
    },
    {
      "cell_type": "code",
      "metadata": {
        "colab": {
          "base_uri": "https://localhost:8080/"
        },
        "id": "dA8wUUln775P",
        "outputId": "12f4b5f9-7c4f-42d6-d892-63d7012de378"
      },
      "source": [
        "X_train_unique.shape, X_test_unique.shape"
      ],
      "execution_count": null,
      "outputs": [
        {
          "data": {
            "text/plain": [
              "((7517, 4644), (1880, 4644))"
            ]
          },
          "execution_count": 33,
          "metadata": {
            "tags": []
          },
          "output_type": "execute_result"
        }
      ]
    },
    {
      "cell_type": "code",
      "metadata": {
        "id": "ze5ZK0Rp8Erc"
      },
      "source": [
        "# Removal of correlated Feature\n",
        "\n",
        "# corrmat = X_train_unique.corr()"
      ],
      "execution_count": null,
      "outputs": []
    },
    {
      "cell_type": "code",
      "metadata": {
        "colab": {
          "base_uri": "https://localhost:8080/"
        },
        "id": "SmtHcqPi8KRb",
        "outputId": "bf9940e7-6866-432d-bad4-0c359e8b209c"
      },
      "source": [
        "#find correlated features\n",
        "def get_correlation(data, threshold):\n",
        "    corr_col = set()\n",
        "    corrmat = data.corr()\n",
        "    for i in range(len(corrmat.columns)):\n",
        "        for j in range(i):\n",
        "            if abs(corrmat.iloc[i, j]) > threshold:\n",
        "                colname = corrmat.columns[i]\n",
        "                corr_col.add(colname)\n",
        "    return corr_col\n",
        "\n",
        "corr_features = get_correlation(X_train_unique, 0.70)\n",
        "print('correlated features: ', len(set(corr_features)) )"
      ],
      "execution_count": null,
      "outputs": [
        {
          "name": "stdout",
          "output_type": "stream",
          "text": [
            "correlated features:  3380\n"
          ]
        }
      ]
    },
    {
      "cell_type": "code",
      "metadata": {
        "id": "Pzr1Dd2Q8iJy"
      },
      "source": [
        "X_train_uncorr = X_train_unique.drop(labels = corr_features, axis = 1)\n",
        "X_test_uncorr = X_test_unique.drop(labels = corr_features, axis = 1)"
      ],
      "execution_count": null,
      "outputs": []
    },
    {
      "cell_type": "code",
      "metadata": {
        "colab": {
          "base_uri": "https://localhost:8080/"
        },
        "id": "cbWTsSbb8kxi",
        "outputId": "2bce4c33-34ae-4610-98db-b579b3e4370e"
      },
      "source": [
        "X_train_uncorr.shape, X_test_uncorr.shape"
      ],
      "execution_count": null,
      "outputs": [
        {
          "data": {
            "text/plain": [
              "((7517, 1264), (1880, 1264))"
            ]
          },
          "execution_count": 36,
          "metadata": {
            "tags": []
          },
          "output_type": "execute_result"
        }
      ]
    },
    {
      "cell_type": "code",
      "metadata": {
        "id": "e6ZtnVUfVFkj"
      },
      "source": [
        "# X_train_uncorr.to_pickle(\"/content/drive/MyDrive/X_train_uncorr.pkl\")\n",
        "# X_test_uncorr.to_pickle(\"/content/drive/MyDrive/X_test_uncorr.pkl\")"
      ],
      "execution_count": null,
      "outputs": []
    },
    {
      "cell_type": "code",
      "metadata": {
        "id": "mh7JktVx8l9F"
      },
      "source": [
        ""
      ],
      "execution_count": null,
      "outputs": []
    },
    {
      "cell_type": "code",
      "metadata": {
        "id": "1N40Iens8leg"
      },
      "source": [
        ""
      ],
      "execution_count": null,
      "outputs": []
    },
    {
      "cell_type": "code",
      "metadata": {
        "id": "vEWTipAO8laI"
      },
      "source": [
        ""
      ],
      "execution_count": null,
      "outputs": []
    },
    {
      "cell_type": "markdown",
      "metadata": {
        "id": "dBIyoQJiVvT5"
      },
      "source": [
        "# Classification"
      ]
    },
    {
      "cell_type": "code",
      "metadata": {
        "colab": {
          "base_uri": "https://localhost:8080/"
        },
        "id": "0aAUKIoaz6Yz",
        "outputId": "853dbf19-d844-4549-bf78-4b7e256fd9e7"
      },
      "source": [
        "from sklearn.decomposition import PCA\n",
        "\n",
        "pca = PCA(n_components=2, random_state=42)\n",
        "pca.fit(X_train_uncorr)\n",
        "\n",
        "X_train_pca = pca.transform(X_train_uncorr)\n",
        "X_test_pca = pca.transform(X_test_uncorr)\n",
        "X_train_pca.shape, X_test_pca.shape"
      ],
      "execution_count": null,
      "outputs": [
        {
          "data": {
            "text/plain": [
              "((7517, 2), (1880, 2))"
            ]
          },
          "execution_count": 110,
          "metadata": {
            "tags": []
          },
          "output_type": "execute_result"
        }
      ]
    },
    {
      "cell_type": "markdown",
      "metadata": {
        "id": "Us8-6w6VMThw"
      },
      "source": [
        "Random forest"
      ]
    },
    {
      "cell_type": "code",
      "metadata": {
        "id": "pXTxZnNzD4AU"
      },
      "source": [
        "from sklearn.ensemble import RandomForestClassifier\n",
        "\n",
        "def run_randomForest(X_train, X_test, y_train, y_test):\n",
        "    clf = RandomForestClassifier(n_estimators=100, random_state=0, n_jobs=-1)\n",
        "    clf.fit(X_train, y_train)\n",
        "    y_pred = clf.predict(X_test)\n",
        "    print('Accuracy on test set: ')\n",
        "    print(accuracy_score(y_test, y_pred))"
      ],
      "execution_count": null,
      "outputs": []
    },
    {
      "cell_type": "code",
      "metadata": {
        "id": "DmqEBp0UEMNG"
      },
      "source": [
        "from sklearn.metrics import accuracy_score, roc_auc_score"
      ],
      "execution_count": null,
      "outputs": []
    },
    {
      "cell_type": "code",
      "metadata": {
        "colab": {
          "base_uri": "https://localhost:8080/"
        },
        "id": "b8kezJ_IECOW",
        "outputId": "bc3cd16a-f2c3-4ccf-ecc8-7d797ee5d125"
      },
      "source": [
        "run_randomForest(X_train_uncorr, X_test_uncorr, y_train, y_test)"
      ],
      "execution_count": null,
      "outputs": [
        {
          "name": "stdout",
          "output_type": "stream",
          "text": [
            "Accuracy on test set: \n",
            "0.8973404255319148\n"
          ]
        }
      ]
    },
    {
      "cell_type": "code",
      "metadata": {
        "colab": {
          "base_uri": "https://localhost:8080/"
        },
        "id": "Kms_1kchEr8F",
        "outputId": "960f6ead-804c-44bd-ab75-9a250e933e92"
      },
      "source": [
        "run_randomForest(X_train_pca, X_test_pca, y_train, y_test)"
      ],
      "execution_count": null,
      "outputs": [
        {
          "name": "stdout",
          "output_type": "stream",
          "text": [
            "Accuracy on test set: \n",
            "0.32180851063829785\n"
          ]
        }
      ]
    },
    {
      "cell_type": "markdown",
      "metadata": {
        "id": "n3zMiWhnMWKL"
      },
      "source": [
        "SVM"
      ]
    },
    {
      "cell_type": "code",
      "metadata": {
        "id": "mPe2skfwu7nE"
      },
      "source": [
        "# Model \n",
        "from sklearn.svm import SVC\n",
        "clf = SVC(gamma = 'auto')\n",
        "\n",
        "#Train the model using the training sets\n",
        "clf.fit(X_train_uncorr, y_train)\n",
        "\n",
        "#Predict the response for test dataset\n",
        "y_pred = clf.predict(X_test_uncorr)\n"
      ],
      "execution_count": null,
      "outputs": []
    },
    {
      "cell_type": "code",
      "metadata": {
        "colab": {
          "base_uri": "https://localhost:8080/"
        },
        "id": "VmHYTPdtwXVa",
        "outputId": "5f6319b5-4464-4289-ec21-bfc77707b912"
      },
      "source": [
        "from sklearn import metrics\n",
        "\n",
        "# Model Accuracy: how often is the classifier correct?\n",
        "print(\"Accuracy:\",metrics.accuracy_score(y_test, y_pred))"
      ],
      "execution_count": null,
      "outputs": [
        {
          "name": "stdout",
          "output_type": "stream",
          "text": [
            "Accuracy: 0.9398936170212766\n"
          ]
        }
      ]
    },
    {
      "cell_type": "code",
      "metadata": {
        "id": "LpIj1BdH0dgm"
      },
      "source": [
        "# Model \n",
        "from sklearn.svm import SVC\n",
        "\n",
        "clf_optimized = SVC(C=10, break_ties=False, cache_size=200, class_weight=None, coef0=0.0,\n",
        "    decision_function_shape='ovr', degree=3, gamma=0.001, kernel='rbf',\n",
        "    max_iter=-1, probability=False, random_state=None, shrinking=True,\n",
        "    tol=0.001, verbose=False)\n",
        "\n",
        "#Train the model using the training sets\n",
        "clf_optimized.fit(X_train, y_train)\n"
      ],
      "execution_count": null,
      "outputs": []
    },
    {
      "cell_type": "code",
      "metadata": {
        "id": "LkhypO1dZm2x"
      },
      "source": [
        "#Predict the response for test dataset\n",
        "y_pred = clf_optimized.predict(X_test)"
      ],
      "execution_count": null,
      "outputs": []
    },
    {
      "cell_type": "code",
      "metadata": {
        "colab": {
          "base_uri": "https://localhost:8080/"
        },
        "id": "ZF2t-p6c0zQL",
        "outputId": "9f0179d2-0053-4393-9353-1ce611ab589c"
      },
      "source": [
        "from sklearn import metrics\n",
        "\n",
        "# Model Accuracy: how often is the classifier correct?\n",
        "print(\"Accuracy:\",metrics.accuracy_score(y_test, y_pred))"
      ],
      "execution_count": null,
      "outputs": [
        {
          "name": "stdout",
          "output_type": "stream",
          "text": [
            "Accuracy: 0.9430851063829787\n"
          ]
        }
      ]
    },
    {
      "cell_type": "code",
      "metadata": {
        "colab": {
          "base_uri": "https://localhost:8080/"
        },
        "id": "iwAxLTc6ZSmz",
        "outputId": "5c5dacf6-044b-4df5-991a-0d46d6631673"
      },
      "source": [
        "#Predict the response for train dataset\n",
        "y_pred_train = clf_optimized.predict(X_train)\n",
        "print(\"Accuracy:\",metrics.accuracy_score(y_train, y_pred_train))"
      ],
      "execution_count": null,
      "outputs": [
        {
          "name": "stdout",
          "output_type": "stream",
          "text": [
            "Accuracy: 1.0\n"
          ]
        }
      ]
    },
    {
      "cell_type": "code",
      "metadata": {
        "colab": {
          "base_uri": "https://localhost:8080/"
        },
        "id": "wMhls9AkakAo",
        "outputId": "498424a0-1266-4977-da49-c1b5e280694c"
      },
      "source": [
        "from sklearn.model_selection import cross_val_score\n",
        "clf_optimized = SVC(C=10, break_ties=False, cache_size=200, class_weight=None, coef0=0.0,\n",
        "                    decision_function_shape='ovr', degree=3, gamma=0.001, kernel='rbf',\n",
        "                    max_iter=-1, probability=False, random_state=None, shrinking=True,\n",
        "                    tol=0.001, verbose=False)\n",
        "scores = cross_val_score(clf_optimized, X_train, y_train, cv=5)\n",
        "scores"
      ],
      "execution_count": null,
      "outputs": [
        {
          "data": {
            "text/plain": [
              "array([0.93550532, 0.92021277, 0.93213573, 0.92947438, 0.93745842])"
            ]
          },
          "execution_count": 19,
          "metadata": {
            "tags": []
          },
          "output_type": "execute_result"
        }
      ]
    },
    {
      "cell_type": "code",
      "metadata": {
        "colab": {
          "base_uri": "https://localhost:8080/"
        },
        "id": "ZFipdFGXcQp-",
        "outputId": "6bd2d3ef-5547-44e1-fb85-30c19394e230"
      },
      "source": [
        "print(\"%0.2f accuracy with a standard deviation of %0.2f\" % (scores.mean(), scores.std()))"
      ],
      "execution_count": null,
      "outputs": [
        {
          "name": "stdout",
          "output_type": "stream",
          "text": [
            "0.93 accuracy with a standard deviation of 0.01\n"
          ]
        }
      ]
    },
    {
      "cell_type": "code",
      "metadata": {
        "id": "ZwzHeXNyNNCT"
      },
      "source": [
        "from sklearn.metrics import classification_report"
      ],
      "execution_count": null,
      "outputs": []
    },
    {
      "cell_type": "code",
      "metadata": {
        "id": "AjQ-EZk6NphM"
      },
      "source": [
        "target_names = ['Anger', 'Sadness', 'Hapiness', 'Neutral', 'Surprise']"
      ],
      "execution_count": null,
      "outputs": []
    },
    {
      "cell_type": "code",
      "metadata": {
        "colab": {
          "base_uri": "https://localhost:8080/"
        },
        "id": "IbLABC5GNYxl",
        "outputId": "7e8c319d-212c-46f0-bdd2-f2f165b1f848"
      },
      "source": [
        "print(classification_report(y_test, y_pred, target_names=target_names))"
      ],
      "execution_count": null,
      "outputs": [
        {
          "name": "stdout",
          "output_type": "stream",
          "text": [
            "              precision    recall  f1-score   support\n",
            "\n",
            "       Anger       0.94      0.96      0.95       392\n",
            "     Sadness       0.94      0.95      0.94       361\n",
            "    Hapiness       0.95      0.89      0.92       366\n",
            "     Neutral       0.96      0.97      0.96       385\n",
            "    Surprise       0.93      0.94      0.93       376\n",
            "\n",
            "    accuracy                           0.94      1880\n",
            "   macro avg       0.94      0.94      0.94      1880\n",
            "weighted avg       0.94      0.94      0.94      1880\n",
            "\n"
          ]
        }
      ]
    },
    {
      "cell_type": "code",
      "metadata": {
        "colab": {
          "base_uri": "https://localhost:8080/"
        },
        "id": "yDWAj6x11iWu",
        "outputId": "137185f1-5a59-4e6b-a4ce-21ad160206aa"
      },
      "source": [
        "from sklearn.metrics import confusion_matrix\n",
        "confusion_matrix(y_test, y_pred)"
      ],
      "execution_count": null,
      "outputs": [
        {
          "data": {
            "text/plain": [
              "array([[378,   0,   3,   1,  10],\n",
              "       [  5, 343,   8,   3,   2],\n",
              "       [  3,  14, 325,  11,  13],\n",
              "       [  1,   6,   2, 374,   2],\n",
              "       [ 14,   2,   5,   2, 353]])"
            ]
          },
          "execution_count": 57,
          "metadata": {
            "tags": []
          },
          "output_type": "execute_result"
        }
      ]
    },
    {
      "cell_type": "code",
      "metadata": {
        "colab": {
          "base_uri": "https://localhost:8080/",
          "height": 279
        },
        "id": "H9NU91vq17dJ",
        "outputId": "8c804fc3-4141-4338-8e2c-f86b7564d257"
      },
      "source": [
        "from sklearn.metrics import plot_confusion_matrix\n",
        "plot_confusion_matrix(clf_optimized, X_test_uncorr, y_test )  \n",
        "plt.show()  "
      ],
      "execution_count": null,
      "outputs": [
        {
          "data": {
            "image/png": "[encoded data removed]",
            "text/plain": [
              "<Figure size 432x288 with 2 Axes>"
            ]
          },
          "metadata": {
            "tags": []
          },
          "output_type": "display_data"
        }
      ]
    },
    {
      "cell_type": "code",
      "metadata": {
        "id": "u3bHJOIKWCMP"
      },
      "source": [
        "import pickle\n",
        "model_path = '/content/drive/MyDrive/S_E_svm94.pkl'\n",
        "pickle.dump(clf, open(model_path, 'wb'))"
      ],
      "execution_count": null,
      "outputs": []
    },
    {
      "cell_type": "code",
      "metadata": {
        "id": "SLnbtdT5OTpp"
      },
      "source": [
        "from sklearn.model_selection import GridSearchCV\n",
        "param_grid = {'C': [0.1,1, 10, 100], 'gamma': [1,0.1,0.01,0.001],'kernel': ['rbf']}\n",
        "grid = GridSearchCV(SVC(),param_grid,refit=True,verbose=2)\n",
        "grid.fit(X_train_uncorr,y_train)"
      ],
      "execution_count": null,
      "outputs": []
    },
    {
      "cell_type": "code",
      "metadata": {
        "colab": {
          "base_uri": "https://localhost:8080/"
        },
        "id": "1eds7I-bOgj7",
        "outputId": "a8823e83-3298-4344-c082-ccdd19f5b082"
      },
      "source": [
        "print(grid.best_estimator_)"
      ],
      "execution_count": null,
      "outputs": [
        {
          "name": "stdout",
          "output_type": "stream",
          "text": [
            "SVC(C=10, break_ties=False, cache_size=200, class_weight=None, coef0=0.0,\n",
            "    decision_function_shape='ovr', degree=3, gamma=0.001, kernel='rbf',\n",
            "    max_iter=-1, probability=False, random_state=None, shrinking=True,\n",
            "    tol=0.001, verbose=False)\n"
          ]
        }
      ]
    },
    {
      "cell_type": "markdown",
      "metadata": {
        "id": "WqXVuVffL_eL"
      },
      "source": [
        "# VLogistic regression"
      ]
    },
    {
      "cell_type": "code",
      "metadata": {
        "id": "hAxx56W2LV_D"
      },
      "source": [
        "X_train = pd.read_pickle(\"/content/drive/MyDrive/X_train_uncorr.pkl\")\n",
        "X_test = pd.read_pickle(\"/content/drive/MyDrive/X_test_uncorr.pkl\")"
      ],
      "execution_count": null,
      "outputs": []
    },
    {
      "cell_type": "code",
      "metadata": {
        "colab": {
          "base_uri": "https://localhost:8080/"
        },
        "id": "Qm7E7fkhhurs",
        "outputId": "ea50356a-fa54-4f55-cd1a-a271478b0938"
      },
      "source": [
        "from sklearn.linear_model import LogisticRegression\n",
        "lr = LogisticRegression(C=0.01, class_weight=None, dual=False, fit_intercept=True,\n",
        "                   intercept_scaling=1, l1_ratio=None, max_iter=100,\n",
        "                   multi_class='auto', n_jobs=None, penalty='l2',\n",
        "                   random_state=None, solver='lbfgs', tol=0.0001, verbose=0,\n",
        "                   warm_start=False)\n",
        "\n",
        "#Train the model using the training sets\n",
        "lr.fit(X_train, y_train)\n",
        "\n",
        "#Predict the response for test dataset\n",
        "y_pred = lr.predict(X_test)"
      ],
      "execution_count": null,
      "outputs": [
        {
          "name": "stderr",
          "output_type": "stream",
          "text": [
            "/usr/local/lib/python3.7/dist-packages/sklearn/linear_model/_logistic.py:940: ConvergenceWarning: lbfgs failed to converge (status=1):\n",
            "STOP: TOTAL NO. of ITERATIONS REACHED LIMIT.\n",
            "\n",
            "Increase the number of iterations (max_iter) or scale the data as shown in:\n",
            "    https://scikit-learn.org/stable/modules/preprocessing.html\n",
            "Please also refer to the documentation for alternative solver options:\n",
            "    https://scikit-learn.org/stable/modules/linear_model.html#logistic-regression\n",
            "  extra_warning_msg=_LOGISTIC_SOLVER_CONVERGENCE_MSG)\n"
          ]
        }
      ]
    },
    {
      "cell_type": "code",
      "metadata": {
        "colab": {
          "base_uri": "https://localhost:8080/"
        },
        "id": "JrvoyLdgm8ta",
        "outputId": "022ba631-dca0-4bb1-ebbc-8140cac9b598"
      },
      "source": [
        "from sklearn import metrics\n",
        "\n",
        "# Model Accuracy: how often is the classifier correct?\n",
        "print(\"Accuracy:\",metrics.accuracy_score(y_test, y_pred))"
      ],
      "execution_count": null,
      "outputs": [
        {
          "name": "stdout",
          "output_type": "stream",
          "text": [
            "Accuracy: 0.9207446808510639\n"
          ]
        }
      ]
    },
    {
      "cell_type": "code",
      "metadata": {
        "colab": {
          "base_uri": "https://localhost:8080/"
        },
        "id": "9oGNDf0xnONB",
        "outputId": "945f10dc-997d-41ec-a504-489beafe39d1"
      },
      "source": [
        "print(classification_report(y_test, y_pred, target_names=target_names))"
      ],
      "execution_count": null,
      "outputs": [
        {
          "name": "stdout",
          "output_type": "stream",
          "text": [
            "              precision    recall  f1-score   support\n",
            "\n",
            "       Anger       0.97      0.94      0.95       392\n",
            "     Sadness       0.91      0.91      0.91       361\n",
            "    Hapiness       0.88      0.88      0.88       366\n",
            "     Neutral       0.96      0.96      0.96       385\n",
            "    Surprise       0.89      0.93      0.91       376\n",
            "\n",
            "    accuracy                           0.92      1880\n",
            "   macro avg       0.92      0.92      0.92      1880\n",
            "weighted avg       0.92      0.92      0.92      1880\n",
            "\n"
          ]
        }
      ]
    },
    {
      "cell_type": "code",
      "metadata": {
        "id": "1H9DVhhunxEy"
      },
      "source": [
        "from sklearn.model_selection import GridSearchCV\n",
        "grid={\"C\":np.logspace(-3,3,7), \"penalty\":[\"l1\",\"l2\"]}# l1 lasso l2 ridge\n",
        "logreg=LogisticRegression()\n",
        "logreg_cv=GridSearchCV(logreg,grid,cv=10)\n",
        "logreg_cv.fit(X_train,y_train)"
      ],
      "execution_count": null,
      "outputs": []
    },
    {
      "cell_type": "code",
      "metadata": {
        "colab": {
          "base_uri": "https://localhost:8080/"
        },
        "id": "O1vFwRQRq2Ct",
        "outputId": "3befcc0d-f471-41bd-a6f4-736b3b010513"
      },
      "source": [
        "print(logreg_cv.best_estimator_)"
      ],
      "execution_count": null,
      "outputs": [
        {
          "name": "stdout",
          "output_type": "stream",
          "text": [
            "LogisticRegression(C=0.01, class_weight=None, dual=False, fit_intercept=True,\n",
            "                   intercept_scaling=1, l1_ratio=None, max_iter=100,\n",
            "                   multi_class='auto', n_jobs=None, penalty='l2',\n",
            "                   random_state=None, solver='lbfgs', tol=0.0001, verbose=0,\n",
            "                   warm_start=False)\n"
          ]
        }
      ]
    },
    {
      "cell_type": "markdown",
      "metadata": {
        "id": "oaCzT1_XM05t"
      },
      "source": [
        "# XGBoost"
      ]
    },
    {
      "cell_type": "code",
      "metadata": {
        "id": "KImmomklOS3i"
      },
      "source": [
        "import xgboost as xgb"
      ],
      "execution_count": null,
      "outputs": []
    },
    {
      "cell_type": "code",
      "metadata": {
        "id": "acLrEgiiOXsi"
      },
      "source": [
        "clf = xgb.XGBClassifier()"
      ],
      "execution_count": null,
      "outputs": []
    },
    {
      "cell_type": "code",
      "metadata": {
        "colab": {
          "base_uri": "https://localhost:8080/"
        },
        "id": "OcoXhE1yS1Xg",
        "outputId": "5671cad7-a390-492f-8118-ca81376307bb"
      },
      "source": [
        "clf.fit(X_train, y_train)"
      ],
      "execution_count": null,
      "outputs": [
        {
          "data": {
            "text/plain": [
              "XGBClassifier(base_score=0.5, booster='gbtree', colsample_bylevel=1,\n",
              "              colsample_bynode=1, colsample_bytree=1, eval_metric='mlogloss',\n",
              "              gamma=0, learning_rate=0.1, max_delta_step=0, max_depth=3,\n",
              "              min_child_weight=1, missing=None, n_estimators=100, n_jobs=1,\n",
              "              nthread=None, objective='multi:softprob', random_state=0,\n",
              "              reg_alpha=0, reg_lambda=1, scale_pos_weight=1, seed=None,\n",
              "              silent=None, subsample=1, use_label_encoder=False, verbosity=1)"
            ]
          },
          "execution_count": 34,
          "metadata": {
            "tags": []
          },
          "output_type": "execute_result"
        }
      ]
    },
    {
      "cell_type": "code",
      "metadata": {
        "id": "zozjsP1BS5Ot"
      },
      "source": [
        "y_pred = clf.predict(X_test)"
      ],
      "execution_count": null,
      "outputs": []
    },
    {
      "cell_type": "code",
      "metadata": {
        "colab": {
          "base_uri": "https://localhost:8080/"
        },
        "id": "ds0jb6tHUwkh",
        "outputId": "42beacaa-8e5f-4de3-f807-19d456286eee"
      },
      "source": [
        "y_pred"
      ],
      "execution_count": null,
      "outputs": [
        {
          "data": {
            "text/plain": [
              "array([3, 2, 3, ..., 5, 0, 3])"
            ]
          },
          "execution_count": 36,
          "metadata": {
            "tags": []
          },
          "output_type": "execute_result"
        }
      ]
    },
    {
      "cell_type": "code",
      "metadata": {
        "colab": {
          "base_uri": "https://localhost:8080/"
        },
        "id": "L4Ju_he_TI-D",
        "outputId": "45452d3d-a1d3-4a20-ac0a-26e6ca899c0c"
      },
      "source": [
        "from sklearn.metrics import accuracy_score\n",
        "\n",
        "# Model Accuracy: how often is the classifier correct?\n",
        "print(\"Accuracy:\",accuracy_score(y_test, y_pred))"
      ],
      "execution_count": null,
      "outputs": [
        {
          "name": "stdout",
          "output_type": "stream",
          "text": [
            "Accuracy: 0.926595744680851\n"
          ]
        }
      ]
    },
    {
      "cell_type": "markdown",
      "metadata": {
        "id": "HXYINzU7bCrK"
      },
      "source": [
        "# NBSVM"
      ]
    },
    {
      "cell_type": "code",
      "metadata": {
        "colab": {
          "base_uri": "https://localhost:8080/"
        },
        "id": "zCWMAH-ccGrU",
        "outputId": "aef3e7af-add5-411c-e2cc-736735063eab"
      },
      "source": [
        "from sklearn.ensemble import AdaBoostClassifier\n",
        "\n",
        "clf = AdaBoostClassifier(n_estimators=100)\n",
        "scores = cross_val_score(clf, X_train, y_train, cv=5)\n",
        "scores.mean()"
      ],
      "execution_count": null,
      "outputs": [
        {
          "data": {
            "text/plain": [
              "0.7017388096148129"
            ]
          },
          "execution_count": 13,
          "metadata": {
            "tags": []
          },
          "output_type": "execute_result"
        }
      ]
    },
    {
      "cell_type": "code",
      "metadata": {
        "id": "GA-f1sLevHjy"
      },
      "source": [
        ""
      ],
      "execution_count": null,
      "outputs": []
    },
    {
      "cell_type": "markdown",
      "metadata": {
        "id": "lcary4y1h7wS"
      },
      "source": [
        "# Hybrid NN"
      ]
    },
    {
      "cell_type": "code",
      "metadata": {
        "id": "hGztZthQn330"
      },
      "source": [
        "import matplotlib.pyplot as plt\n",
        "plt.style.use('ggplot')\n",
        "\n",
        "def plot_history(history):\n",
        "    acc = history.history['accuracy']\n",
        "    #val_acc = history.history['val_accuracy']\n",
        "    loss = history.history['loss']\n",
        "    #val_loss = history.history['val_loss']\n",
        "    x = range(1, len(acc) + 1)\n",
        "\n",
        "    plt.figure(figsize=(12, 5))\n",
        "    plt.subplot(1, 2, 1)\n",
        "    plt.plot(x, acc, 'b', label='Training acc')\n",
        "    #plt.plot(x, val_acc, 'r', label='Validation acc')\n",
        "    plt.title('Training and validation accuracy')\n",
        "    plt.legend()\n",
        "    plt.subplot(1, 2, 2)\n",
        "    plt.plot(x, loss, 'b', label='Training loss')\n",
        "    #plt.plot(x, val_loss, 'r', label='Validation loss')\n",
        "    plt.title('Training and validation loss')\n",
        "    plt.legend()"
      ],
      "execution_count": null,
      "outputs": []
    },
    {
      "cell_type": "code",
      "metadata": {
        "id": "Tk2W8bcQh9gN"
      },
      "source": [
        "from tensorflow.keras.layers import Layer\n",
        "from tensorflow.keras import backend as K\n",
        "\n",
        "class Attention(Layer):\n",
        "    \n",
        "    def __init__(self, return_sequences=True):\n",
        "        self.return_sequences = return_sequences\n",
        "        super(Attention,self).__init__()\n",
        "        \n",
        "    def build(self, input_shape):\n",
        "        \n",
        "        self.W=self.add_weight(name=\"att_weight\", shape=(input_shape[-1],1),\n",
        "                               initializer=\"normal\")\n",
        "        self.b=self.add_weight(name=\"att_bias\", shape=(input_shape[1],1),\n",
        "                               initializer=\"zeros\")\n",
        "        \n",
        "        super(Attention,self).build(input_shape)\n",
        "        \n",
        "    def call(self, x):\n",
        "        \n",
        "        e = K.tanh(K.dot(x,self.W)+self.b)\n",
        "        a = K.softmax(e, axis=1)\n",
        "        output = x*a\n",
        "        \n",
        "        if self.return_sequences:\n",
        "            return output\n",
        "        \n",
        "        return K.sum(output, axis=1)"
      ],
      "execution_count": null,
      "outputs": []
    },
    {
      "cell_type": "code",
      "metadata": {
        "colab": {
          "base_uri": "https://localhost:8080/"
        },
        "id": "kvRf9ioYiJ9p",
        "outputId": "e5bc68b9-e469-488b-8d38-7ce7ea72cae5"
      },
      "source": [
        "from tensorflow.keras.models import Sequential\n",
        "from tensorflow.keras.layers import GRU, Dense, Dropout, Embedding, Masking,Flatten,GlobalAvgPool1D,GlobalMaxPool1D,Conv1D,LSTM,Bidirectional\n",
        "model=Sequential()\n",
        "model.add(\n",
        "    Embedding(\n",
        "        input_dim=1264,\n",
        "        input_length=1264,\n",
        "        output_dim=32\n",
        "    )\n",
        ")\n",
        "model.add(GlobalMaxPool1D())\n",
        "model.add(Dense(5, activation='softmax'))\n",
        "\n",
        "model.compile(optimizer='adam', loss='sparse_categorical_crossentropy', metrics=['accuracy'])\n",
        "\n",
        "model.summary()"
      ],
      "execution_count": null,
      "outputs": [
        {
          "name": "stdout",
          "output_type": "stream",
          "text": [
            "Model: \"sequential_8\"\n",
            "_________________________________________________________________\n",
            "Layer (type)                 Output Shape              Param #   \n",
            "=================================================================\n",
            "embedding_8 (Embedding)      (None, 1264, 32)          40448     \n",
            "_________________________________________________________________\n",
            "global_max_pooling1d_8 (Glob (None, 32)                0         \n",
            "_________________________________________________________________\n",
            "dense_8 (Dense)              (None, 5)                 165       \n",
            "=================================================================\n",
            "Total params: 40,613\n",
            "Trainable params: 40,613\n",
            "Non-trainable params: 0\n",
            "_________________________________________________________________\n"
          ]
        }
      ]
    },
    {
      "cell_type": "code",
      "metadata": {
        "id": "1LIFZHlul3yH"
      },
      "source": [
        "from sklearn.preprocessing import MinMaxScaler\n",
        "scaler = MinMaxScaler()\n",
        "X_train = scaler.fit_transform(X_train)\n",
        "X_test = scaler.fit_transform(X_test)\n"
      ],
      "execution_count": null,
      "outputs": []
    },
    {
      "cell_type": "code",
      "metadata": {
        "id": "duEXwnVb5C50"
      },
      "source": [
        "from keras.wrappers.scikit_learn import KerasClassifier\n",
        "from sklearn.model_selection import cross_val_score\n",
        "from sklearn.model_selection import KFold\n",
        "\n",
        "estimator = KerasClassifier(build_fn = baseline_model, epochs = 100, batch_size = 10, verbose = 0)"
      ],
      "execution_count": null,
      "outputs": []
    },
    {
      "cell_type": "code",
      "metadata": {
        "id": "duDcKwDy5web"
      },
      "source": [
        "kfold = KFold(n_splits = 5, shuffle = True, random_state = 10)"
      ],
      "execution_count": null,
      "outputs": []
    },
    {
      "cell_type": "code",
      "metadata": {
        "colab": {
          "base_uri": "https://localhost:8080/"
        },
        "id": "8NrZx0Sh6Ay-",
        "outputId": "5c070b49-1e16-40d4-bf17-6d5b9d761ea9"
      },
      "source": [
        "results = cross_val_score(estimator, X_train, y_train)\n",
        "# Result\n",
        "print(\"Result: %.2f%% (%.2f%%)\" % (results.mean()*100, results.std()*100))"
      ],
      "execution_count": null,
      "outputs": [
        {
          "name": "stdout",
          "output_type": "stream",
          "text": [
            "Model: \"sequential_32\"\n",
            "_________________________________________________________________\n",
            "Layer (type)                 Output Shape              Param #   \n",
            "=================================================================\n",
            "dense_47 (Dense)             (None, 1264)              1598960   \n",
            "_________________________________________________________________\n",
            "dense_48 (Dense)             (None, 5)                 6325      \n",
            "=================================================================\n",
            "Total params: 1,605,285\n",
            "Trainable params: 1,605,285\n",
            "Non-trainable params: 0\n",
            "_________________________________________________________________\n",
            "Model: \"sequential_33\"\n",
            "_________________________________________________________________\n",
            "Layer (type)                 Output Shape              Param #   \n",
            "=================================================================\n",
            "dense_49 (Dense)             (None, 1264)              1598960   \n",
            "_________________________________________________________________\n",
            "dense_50 (Dense)             (None, 5)                 6325      \n",
            "=================================================================\n",
            "Total params: 1,605,285\n",
            "Trainable params: 1,605,285\n",
            "Non-trainable params: 0\n",
            "_________________________________________________________________\n",
            "Model: \"sequential_34\"\n",
            "_________________________________________________________________\n",
            "Layer (type)                 Output Shape              Param #   \n",
            "=================================================================\n",
            "dense_51 (Dense)             (None, 1264)              1598960   \n",
            "_________________________________________________________________\n",
            "dense_52 (Dense)             (None, 5)                 6325      \n",
            "=================================================================\n",
            "Total params: 1,605,285\n",
            "Trainable params: 1,605,285\n",
            "Non-trainable params: 0\n",
            "_________________________________________________________________\n",
            "Model: \"sequential_35\"\n",
            "_________________________________________________________________\n",
            "Layer (type)                 Output Shape              Param #   \n",
            "=================================================================\n",
            "dense_53 (Dense)             (None, 1264)              1598960   \n",
            "_________________________________________________________________\n",
            "dense_54 (Dense)             (None, 5)                 6325      \n",
            "=================================================================\n",
            "Total params: 1,605,285\n",
            "Trainable params: 1,605,285\n",
            "Non-trainable params: 0\n",
            "_________________________________________________________________\n",
            "Model: \"sequential_36\"\n",
            "_________________________________________________________________\n",
            "Layer (type)                 Output Shape              Param #   \n",
            "=================================================================\n",
            "dense_55 (Dense)             (None, 1264)              1598960   \n",
            "_________________________________________________________________\n",
            "dense_56 (Dense)             (None, 5)                 6325      \n",
            "=================================================================\n",
            "Total params: 1,605,285\n",
            "Trainable params: 1,605,285\n",
            "Non-trainable params: 0\n",
            "_________________________________________________________________\n",
            "Result: 90.29% (1.01%)\n"
          ]
        }
      ]
    },
    {
      "cell_type": "code",
      "metadata": {
        "id": "0CUHrqI-6Hd_"
      },
      "source": [
        "from tensorflow.keras.models import Sequential\n",
        "from tensorflow.keras.layers import GRU, Dense, Dropout, Embedding, Masking,Flatten,GlobalAvgPool1D,GlobalMaxPool1D,Conv1D,LSTM,Bidirectional\n",
        "\n",
        "def baseline_model():\n",
        "  model = Sequential()\n",
        "\n",
        "  model.add(Dense(1264, input_dim=1264, activation='relu'))\n",
        "  # model.add(Conv1D(32,5))\n",
        "  # model.add(LSTM(32,return_sequences=True))\n",
        "  model.add(Dense(5, activation='softmax'))\n",
        "\n",
        "  model.compile(optimizer='adam', loss='sparse_categorical_crossentropy', metrics=['accuracy'])\n",
        "\n",
        "  # model.summary()\n",
        "  return model"
      ],
      "execution_count": null,
      "outputs": []
    },
    {
      "cell_type": "code",
      "metadata": {
        "colab": {
          "base_uri": "https://localhost:8080/"
        },
        "id": "gR-OECGC93sJ",
        "outputId": "6296740a-873f-49b2-c2d2-ef6c1871c0da"
      },
      "source": [
        "estimator = KerasClassifier(build_fn = baseline_model, epochs = 100, batch_size = 50, verbose = True)\n",
        "results = cross_val_score(estimator, X_train, y_train, cv = kfold )\n",
        "# # Result\n",
        "print(\"Result: %.2f%% (%.2f%%)\" % (results.mean()*100, results.std()*100))"
      ],
      "execution_count": null,
      "outputs": [
        {
          "name": "stdout",
          "output_type": "stream",
          "text": [
            "Epoch 1/100\n",
            "121/121 [==============================] - 1s 4ms/step - loss: 0.5243 - accuracy: 0.8206\n",
            "Epoch 2/100\n",
            "121/121 [==============================] - 0s 4ms/step - loss: 0.0650 - accuracy: 0.9790\n",
            "Epoch 3/100\n",
            "121/121 [==============================] - 0s 3ms/step - loss: 0.0132 - accuracy: 0.9978\n",
            "Epoch 4/100\n",
            "121/121 [==============================] - 0s 4ms/step - loss: 0.0038 - accuracy: 0.9995\n",
            "Epoch 5/100\n",
            "121/121 [==============================] - 0s 4ms/step - loss: 0.0012 - accuracy: 1.0000\n",
            "Epoch 6/100\n",
            "121/121 [==============================] - 0s 4ms/step - loss: 9.0022e-04 - accuracy: 1.0000\n",
            "Epoch 7/100\n",
            "121/121 [==============================] - 0s 4ms/step - loss: 7.1693e-04 - accuracy: 1.0000\n",
            "Epoch 8/100\n",
            "121/121 [==============================] - 0s 3ms/step - loss: 5.8798e-04 - accuracy: 1.0000\n",
            "Epoch 9/100\n",
            "121/121 [==============================] - 0s 4ms/step - loss: 4.9366e-04 - accuracy: 1.0000\n",
            "Epoch 10/100\n",
            "121/121 [==============================] - 0s 4ms/step - loss: 4.1910e-04 - accuracy: 1.0000\n",
            "Epoch 11/100\n",
            "121/121 [==============================] - 0s 4ms/step - loss: 3.6132e-04 - accuracy: 1.0000\n",
            "Epoch 12/100\n",
            "121/121 [==============================] - 0s 4ms/step - loss: 3.1410e-04 - accuracy: 1.0000\n",
            "Epoch 13/100\n",
            "121/121 [==============================] - 0s 4ms/step - loss: 2.7545e-04 - accuracy: 1.0000\n",
            "Epoch 14/100\n",
            "121/121 [==============================] - 0s 4ms/step - loss: 2.4304e-04 - accuracy: 1.0000\n",
            "Epoch 15/100\n",
            "121/121 [==============================] - 0s 4ms/step - loss: 2.1580e-04 - accuracy: 1.0000\n",
            "Epoch 16/100\n",
            "121/121 [==============================] - 0s 4ms/step - loss: 1.9258e-04 - accuracy: 1.0000\n",
            "Epoch 17/100\n",
            "121/121 [==============================] - 0s 4ms/step - loss: 1.7238e-04 - accuracy: 1.0000\n",
            "Epoch 18/100\n",
            "121/121 [==============================] - 0s 3ms/step - loss: 1.5505e-04 - accuracy: 1.0000\n",
            "Epoch 19/100\n",
            "121/121 [==============================] - 0s 3ms/step - loss: 1.3998e-04 - accuracy: 1.0000\n",
            "Epoch 20/100\n",
            "121/121 [==============================] - 0s 4ms/step - loss: 1.2664e-04 - accuracy: 1.0000\n",
            "Epoch 21/100\n",
            "121/121 [==============================] - 0s 4ms/step - loss: 1.1505e-04 - accuracy: 1.0000\n",
            "Epoch 22/100\n",
            "121/121 [==============================] - 0s 4ms/step - loss: 1.0457e-04 - accuracy: 1.0000\n",
            "Epoch 23/100\n",
            "121/121 [==============================] - 0s 4ms/step - loss: 9.5388e-05 - accuracy: 1.0000\n",
            "Epoch 24/100\n",
            "121/121 [==============================] - 0s 4ms/step - loss: 8.7252e-05 - accuracy: 1.0000\n",
            "Epoch 25/100\n",
            "121/121 [==============================] - 0s 4ms/step - loss: 7.9866e-05 - accuracy: 1.0000\n",
            "Epoch 26/100\n",
            "121/121 [==============================] - 0s 3ms/step - loss: 7.3170e-05 - accuracy: 1.0000\n",
            "Epoch 27/100\n",
            "121/121 [==============================] - 0s 4ms/step - loss: 6.7226e-05 - accuracy: 1.0000\n",
            "Epoch 28/100\n",
            "121/121 [==============================] - 0s 4ms/step - loss: 6.1857e-05 - accuracy: 1.0000\n",
            "Epoch 29/100\n",
            "121/121 [==============================] - 0s 3ms/step - loss: 5.6996e-05 - accuracy: 1.0000\n",
            "Epoch 30/100\n",
            "121/121 [==============================] - 0s 4ms/step - loss: 5.2577e-05 - accuracy: 1.0000\n",
            "Epoch 31/100\n",
            "121/121 [==============================] - 0s 4ms/step - loss: 4.8556e-05 - accuracy: 1.0000\n",
            "Epoch 32/100\n",
            "121/121 [==============================] - 0s 4ms/step - loss: 4.4831e-05 - accuracy: 1.0000\n",
            "Epoch 33/100\n",
            "121/121 [==============================] - 0s 4ms/step - loss: 4.1509e-05 - accuracy: 1.0000\n",
            "Epoch 34/100\n",
            "121/121 [==============================] - 0s 4ms/step - loss: 3.8428e-05 - accuracy: 1.0000\n",
            "Epoch 35/100\n",
            "121/121 [==============================] - 0s 4ms/step - loss: 3.5628e-05 - accuracy: 1.0000\n",
            "Epoch 36/100\n",
            "121/121 [==============================] - 0s 4ms/step - loss: 3.3026e-05 - accuracy: 1.0000\n",
            "Epoch 37/100\n",
            "121/121 [==============================] - 0s 4ms/step - loss: 3.0681e-05 - accuracy: 1.0000\n",
            "Epoch 38/100\n",
            "121/121 [==============================] - 0s 4ms/step - loss: 2.8487e-05 - accuracy: 1.0000\n",
            "Epoch 39/100\n",
            "121/121 [==============================] - 0s 4ms/step - loss: 2.6455e-05 - accuracy: 1.0000\n",
            "Epoch 40/100\n",
            "121/121 [==============================] - 0s 4ms/step - loss: 2.4622e-05 - accuracy: 1.0000\n",
            "Epoch 41/100\n",
            "121/121 [==============================] - 0s 4ms/step - loss: 2.2889e-05 - accuracy: 1.0000\n",
            "Epoch 42/100\n",
            "121/121 [==============================] - 0s 4ms/step - loss: 2.1328e-05 - accuracy: 1.0000\n",
            "Epoch 43/100\n",
            "121/121 [==============================] - 0s 4ms/step - loss: 1.9849e-05 - accuracy: 1.0000\n",
            "Epoch 44/100\n",
            "121/121 [==============================] - 0s 4ms/step - loss: 1.8471e-05 - accuracy: 1.0000\n",
            "Epoch 45/100\n",
            "121/121 [==============================] - 0s 4ms/step - loss: 1.7203e-05 - accuracy: 1.0000\n",
            "Epoch 46/100\n",
            "121/121 [==============================] - 0s 4ms/step - loss: 1.6050e-05 - accuracy: 1.0000\n",
            "Epoch 47/100\n",
            "121/121 [==============================] - 0s 3ms/step - loss: 1.4962e-05 - accuracy: 1.0000\n",
            "Epoch 48/100\n",
            "121/121 [==============================] - 0s 4ms/step - loss: 1.3966e-05 - accuracy: 1.0000\n",
            "Epoch 49/100\n",
            "121/121 [==============================] - 0s 4ms/step - loss: 1.3020e-05 - accuracy: 1.0000\n",
            "Epoch 50/100\n",
            "121/121 [==============================] - 0s 4ms/step - loss: 1.2161e-05 - accuracy: 1.0000\n",
            "Epoch 51/100\n",
            "121/121 [==============================] - 0s 4ms/step - loss: 1.1351e-05 - accuracy: 1.0000\n",
            "Epoch 52/100\n",
            "121/121 [==============================] - 0s 4ms/step - loss: 1.0603e-05 - accuracy: 1.0000\n",
            "Epoch 53/100\n",
            "121/121 [==============================] - 0s 4ms/step - loss: 9.8991e-06 - accuracy: 1.0000\n",
            "Epoch 54/100\n",
            "121/121 [==============================] - 0s 4ms/step - loss: 9.2552e-06 - accuracy: 1.0000\n",
            "Epoch 55/100\n",
            "121/121 [==============================] - 0s 4ms/step - loss: 8.6545e-06 - accuracy: 1.0000\n",
            "Epoch 56/100\n",
            "121/121 [==============================] - 0s 4ms/step - loss: 8.0834e-06 - accuracy: 1.0000\n",
            "Epoch 57/100\n",
            "121/121 [==============================] - 0s 4ms/step - loss: 7.5613e-06 - accuracy: 1.0000\n",
            "Epoch 58/100\n",
            "121/121 [==============================] - 0s 4ms/step - loss: 7.0661e-06 - accuracy: 1.0000\n",
            "Epoch 59/100\n",
            "121/121 [==============================] - 0s 4ms/step - loss: 6.6097e-06 - accuracy: 1.0000\n",
            "Epoch 60/100\n",
            "121/121 [==============================] - 0s 4ms/step - loss: 6.1821e-06 - accuracy: 1.0000\n",
            "Epoch 61/100\n",
            "121/121 [==============================] - 0s 4ms/step - loss: 5.7797e-06 - accuracy: 1.0000\n",
            "Epoch 62/100\n",
            "121/121 [==============================] - 0s 4ms/step - loss: 5.4051e-06 - accuracy: 1.0000\n",
            "Epoch 63/100\n",
            "121/121 [==============================] - 0s 4ms/step - loss: 5.0582e-06 - accuracy: 1.0000\n",
            "Epoch 64/100\n",
            "121/121 [==============================] - 0s 4ms/step - loss: 4.7362e-06 - accuracy: 1.0000\n",
            "Epoch 65/100\n",
            "121/121 [==============================] - 0s 4ms/step - loss: 4.4329e-06 - accuracy: 1.0000\n",
            "Epoch 66/100\n",
            "121/121 [==============================] - 0s 4ms/step - loss: 4.1493e-06 - accuracy: 1.0000\n",
            "Epoch 67/100\n",
            "121/121 [==============================] - 0s 4ms/step - loss: 3.8822e-06 - accuracy: 1.0000\n",
            "Epoch 68/100\n",
            "121/121 [==============================] - 0s 4ms/step - loss: 3.6358e-06 - accuracy: 1.0000\n",
            "Epoch 69/100\n",
            "121/121 [==============================] - 0s 4ms/step - loss: 3.4047e-06 - accuracy: 1.0000\n",
            "Epoch 70/100\n",
            "121/121 [==============================] - 0s 4ms/step - loss: 3.1864e-06 - accuracy: 1.0000\n",
            "Epoch 71/100\n",
            "121/121 [==============================] - 0s 4ms/step - loss: 2.9851e-06 - accuracy: 1.0000\n",
            "Epoch 72/100\n",
            "121/121 [==============================] - 0s 4ms/step - loss: 2.7937e-06 - accuracy: 1.0000\n",
            "Epoch 73/100\n",
            "121/121 [==============================] - 0s 4ms/step - loss: 2.6168e-06 - accuracy: 1.0000\n",
            "Epoch 74/100\n",
            "121/121 [==============================] - 0s 4ms/step - loss: 2.4519e-06 - accuracy: 1.0000\n",
            "Epoch 75/100\n",
            "121/121 [==============================] - 0s 4ms/step - loss: 2.2958e-06 - accuracy: 1.0000\n",
            "Epoch 76/100\n",
            "121/121 [==============================] - 0s 4ms/step - loss: 2.1518e-06 - accuracy: 1.0000\n",
            "Epoch 77/100\n",
            "121/121 [==============================] - 0s 4ms/step - loss: 2.0158e-06 - accuracy: 1.0000\n",
            "Epoch 78/100\n",
            "121/121 [==============================] - 0s 4ms/step - loss: 1.8871e-06 - accuracy: 1.0000\n",
            "Epoch 79/100\n",
            "121/121 [==============================] - 0s 4ms/step - loss: 1.7674e-06 - accuracy: 1.0000\n",
            "Epoch 80/100\n",
            "121/121 [==============================] - 0s 4ms/step - loss: 1.6572e-06 - accuracy: 1.0000\n",
            "Epoch 81/100\n",
            "121/121 [==============================] - 0s 4ms/step - loss: 1.5520e-06 - accuracy: 1.0000\n",
            "Epoch 82/100\n",
            "121/121 [==============================] - 0s 4ms/step - loss: 1.4552e-06 - accuracy: 1.0000\n",
            "Epoch 83/100\n",
            "121/121 [==============================] - 0s 4ms/step - loss: 1.3633e-06 - accuracy: 1.0000\n",
            "Epoch 84/100\n",
            "121/121 [==============================] - 0s 4ms/step - loss: 1.2790e-06 - accuracy: 1.0000\n",
            "Epoch 85/100\n",
            "121/121 [==============================] - 0s 4ms/step - loss: 1.1980e-06 - accuracy: 1.0000\n",
            "Epoch 86/100\n",
            "121/121 [==============================] - 0s 4ms/step - loss: 1.1233e-06 - accuracy: 1.0000\n",
            "Epoch 87/100\n",
            "121/121 [==============================] - 0s 4ms/step - loss: 1.0528e-06 - accuracy: 1.0000\n",
            "Epoch 88/100\n",
            "121/121 [==============================] - 0s 4ms/step - loss: 9.8615e-07 - accuracy: 1.0000\n",
            "Epoch 89/100\n",
            "121/121 [==============================] - 0s 4ms/step - loss: 9.2481e-07 - accuracy: 1.0000\n",
            "Epoch 90/100\n",
            "121/121 [==============================] - 0s 4ms/step - loss: 8.6682e-07 - accuracy: 1.0000\n",
            "Epoch 91/100\n",
            "121/121 [==============================] - 0s 4ms/step - loss: 8.1190e-07 - accuracy: 1.0000\n",
            "Epoch 92/100\n",
            "121/121 [==============================] - 0s 4ms/step - loss: 7.6062e-07 - accuracy: 1.0000\n",
            "Epoch 93/100\n",
            "121/121 [==============================] - 0s 4ms/step - loss: 7.1379e-07 - accuracy: 1.0000\n",
            "Epoch 94/100\n",
            "121/121 [==============================] - 0s 3ms/step - loss: 6.6847e-07 - accuracy: 1.0000\n",
            "Epoch 95/100\n",
            "121/121 [==============================] - 0s 4ms/step - loss: 6.2666e-07 - accuracy: 1.0000\n",
            "Epoch 96/100\n",
            "121/121 [==============================] - 0s 4ms/step - loss: 5.8808e-07 - accuracy: 1.0000\n",
            "Epoch 97/100\n",
            "121/121 [==============================] - 0s 4ms/step - loss: 5.5188e-07 - accuracy: 1.0000\n",
            "Epoch 98/100\n",
            "121/121 [==============================] - 0s 4ms/step - loss: 5.1774e-07 - accuracy: 1.0000\n",
            "Epoch 99/100\n",
            "121/121 [==============================] - 0s 4ms/step - loss: 4.8562e-07 - accuracy: 1.0000\n",
            "Epoch 100/100\n",
            "121/121 [==============================] - 0s 4ms/step - loss: 4.5541e-07 - accuracy: 1.0000\n",
            "31/31 [==============================] - 0s 3ms/step - loss: 0.3968 - accuracy: 0.9262\n",
            "Epoch 1/100\n",
            "121/121 [==============================] - 1s 4ms/step - loss: 0.5386 - accuracy: 0.8192\n",
            "Epoch 2/100\n",
            "121/121 [==============================] - 0s 4ms/step - loss: 0.0663 - accuracy: 0.9761\n",
            "Epoch 3/100\n",
            "121/121 [==============================] - 0s 4ms/step - loss: 0.0126 - accuracy: 0.9978\n",
            "Epoch 4/100\n",
            "121/121 [==============================] - 0s 4ms/step - loss: 0.0027 - accuracy: 1.0000\n",
            "Epoch 5/100\n",
            "121/121 [==============================] - 0s 4ms/step - loss: 0.0013 - accuracy: 1.0000\n",
            "Epoch 6/100\n",
            "121/121 [==============================] - 0s 4ms/step - loss: 9.5863e-04 - accuracy: 1.0000\n",
            "Epoch 7/100\n",
            "121/121 [==============================] - 0s 4ms/step - loss: 7.5985e-04 - accuracy: 1.0000\n",
            "Epoch 8/100\n",
            "121/121 [==============================] - 0s 4ms/step - loss: 6.2362e-04 - accuracy: 1.0000\n",
            "Epoch 9/100\n",
            "121/121 [==============================] - 0s 4ms/step - loss: 5.2157e-04 - accuracy: 1.0000\n",
            "Epoch 10/100\n",
            "121/121 [==============================] - 0s 4ms/step - loss: 4.4271e-04 - accuracy: 1.0000\n",
            "Epoch 11/100\n",
            "121/121 [==============================] - 0s 4ms/step - loss: 3.8154e-04 - accuracy: 1.0000\n",
            "Epoch 12/100\n",
            "121/121 [==============================] - 0s 4ms/step - loss: 3.3133e-04 - accuracy: 1.0000\n",
            "Epoch 13/100\n",
            "121/121 [==============================] - 0s 4ms/step - loss: 2.8999e-04 - accuracy: 1.0000\n",
            "Epoch 14/100\n",
            "121/121 [==============================] - 0s 4ms/step - loss: 2.5547e-04 - accuracy: 1.0000\n",
            "Epoch 15/100\n",
            "121/121 [==============================] - 0s 4ms/step - loss: 2.2646e-04 - accuracy: 1.0000\n",
            "Epoch 16/100\n",
            "121/121 [==============================] - 0s 4ms/step - loss: 2.0205e-04 - accuracy: 1.0000\n",
            "Epoch 17/100\n",
            "121/121 [==============================] - 0s 4ms/step - loss: 1.8064e-04 - accuracy: 1.0000\n",
            "Epoch 18/100\n",
            "121/121 [==============================] - 0s 4ms/step - loss: 1.6224e-04 - accuracy: 1.0000\n",
            "Epoch 19/100\n",
            "121/121 [==============================] - 0s 4ms/step - loss: 1.4628e-04 - accuracy: 1.0000\n",
            "Epoch 20/100\n",
            "121/121 [==============================] - 0s 4ms/step - loss: 1.3219e-04 - accuracy: 1.0000\n",
            "Epoch 21/100\n",
            "121/121 [==============================] - 0s 4ms/step - loss: 1.1999e-04 - accuracy: 1.0000\n",
            "Epoch 22/100\n",
            "121/121 [==============================] - 0s 4ms/step - loss: 1.0888e-04 - accuracy: 1.0000\n",
            "Epoch 23/100\n",
            "121/121 [==============================] - 0s 4ms/step - loss: 9.9325e-05 - accuracy: 1.0000\n",
            "Epoch 24/100\n",
            "121/121 [==============================] - 0s 4ms/step - loss: 9.0760e-05 - accuracy: 1.0000\n",
            "Epoch 25/100\n",
            "121/121 [==============================] - 0s 4ms/step - loss: 8.3057e-05 - accuracy: 1.0000\n",
            "Epoch 26/100\n",
            "121/121 [==============================] - 0s 4ms/step - loss: 7.6058e-05 - accuracy: 1.0000\n",
            "Epoch 27/100\n",
            "121/121 [==============================] - 0s 4ms/step - loss: 6.9870e-05 - accuracy: 1.0000\n",
            "Epoch 28/100\n",
            "121/121 [==============================] - 0s 4ms/step - loss: 6.4221e-05 - accuracy: 1.0000\n",
            "Epoch 29/100\n",
            "121/121 [==============================] - 0s 3ms/step - loss: 5.9156e-05 - accuracy: 1.0000\n",
            "Epoch 30/100\n",
            "121/121 [==============================] - 0s 4ms/step - loss: 5.4518e-05 - accuracy: 1.0000\n",
            "Epoch 31/100\n",
            "121/121 [==============================] - 0s 4ms/step - loss: 5.0281e-05 - accuracy: 1.0000\n",
            "Epoch 32/100\n",
            "121/121 [==============================] - 0s 4ms/step - loss: 4.6431e-05 - accuracy: 1.0000\n",
            "Epoch 33/100\n",
            "121/121 [==============================] - 0s 4ms/step - loss: 4.2995e-05 - accuracy: 1.0000\n",
            "Epoch 34/100\n",
            "121/121 [==============================] - 0s 4ms/step - loss: 3.9766e-05 - accuracy: 1.0000\n",
            "Epoch 35/100\n",
            "121/121 [==============================] - 0s 4ms/step - loss: 3.6854e-05 - accuracy: 1.0000\n",
            "Epoch 36/100\n",
            "121/121 [==============================] - 0s 4ms/step - loss: 3.4176e-05 - accuracy: 1.0000\n",
            "Epoch 37/100\n",
            "121/121 [==============================] - 0s 4ms/step - loss: 3.1697e-05 - accuracy: 1.0000\n",
            "Epoch 38/100\n",
            "121/121 [==============================] - 0s 4ms/step - loss: 2.9408e-05 - accuracy: 1.0000\n",
            "Epoch 39/100\n",
            "121/121 [==============================] - 0s 4ms/step - loss: 2.7318e-05 - accuracy: 1.0000\n",
            "Epoch 40/100\n",
            "121/121 [==============================] - 0s 4ms/step - loss: 2.5392e-05 - accuracy: 1.0000\n",
            "Epoch 41/100\n",
            "121/121 [==============================] - 0s 4ms/step - loss: 2.3621e-05 - accuracy: 1.0000\n",
            "Epoch 42/100\n",
            "121/121 [==============================] - 0s 4ms/step - loss: 2.1963e-05 - accuracy: 1.0000\n",
            "Epoch 43/100\n",
            "121/121 [==============================] - 0s 4ms/step - loss: 2.0452e-05 - accuracy: 1.0000\n",
            "Epoch 44/100\n",
            "121/121 [==============================] - 0s 4ms/step - loss: 1.9043e-05 - accuracy: 1.0000\n",
            "Epoch 45/100\n",
            "121/121 [==============================] - 0s 4ms/step - loss: 1.7753e-05 - accuracy: 1.0000\n",
            "Epoch 46/100\n",
            "121/121 [==============================] - 0s 4ms/step - loss: 1.6536e-05 - accuracy: 1.0000\n",
            "Epoch 47/100\n",
            "121/121 [==============================] - 0s 4ms/step - loss: 1.5416e-05 - accuracy: 1.0000\n",
            "Epoch 48/100\n",
            "121/121 [==============================] - 0s 4ms/step - loss: 1.4372e-05 - accuracy: 1.0000\n",
            "Epoch 49/100\n",
            "121/121 [==============================] - 0s 4ms/step - loss: 1.3415e-05 - accuracy: 1.0000\n",
            "Epoch 50/100\n",
            "121/121 [==============================] - 0s 4ms/step - loss: 1.2517e-05 - accuracy: 1.0000\n",
            "Epoch 51/100\n",
            "121/121 [==============================] - 0s 4ms/step - loss: 1.1685e-05 - accuracy: 1.0000\n",
            "Epoch 52/100\n",
            "121/121 [==============================] - 0s 4ms/step - loss: 1.0902e-05 - accuracy: 1.0000\n",
            "Epoch 53/100\n",
            "121/121 [==============================] - 0s 4ms/step - loss: 1.0185e-05 - accuracy: 1.0000\n",
            "Epoch 54/100\n",
            "121/121 [==============================] - 0s 4ms/step - loss: 9.5092e-06 - accuracy: 1.0000\n",
            "Epoch 55/100\n",
            "121/121 [==============================] - 0s 4ms/step - loss: 8.8920e-06 - accuracy: 1.0000\n",
            "Epoch 56/100\n",
            "121/121 [==============================] - 0s 4ms/step - loss: 8.3056e-06 - accuracy: 1.0000\n",
            "Epoch 57/100\n",
            "121/121 [==============================] - 0s 4ms/step - loss: 7.7677e-06 - accuracy: 1.0000\n",
            "Epoch 58/100\n",
            "121/121 [==============================] - 0s 4ms/step - loss: 7.2589e-06 - accuracy: 1.0000\n",
            "Epoch 59/100\n",
            "121/121 [==============================] - 0s 4ms/step - loss: 6.7831e-06 - accuracy: 1.0000\n",
            "Epoch 60/100\n",
            "121/121 [==============================] - 0s 4ms/step - loss: 6.3426e-06 - accuracy: 1.0000\n",
            "Epoch 61/100\n",
            "121/121 [==============================] - 0s 4ms/step - loss: 5.9314e-06 - accuracy: 1.0000\n",
            "Epoch 62/100\n",
            "121/121 [==============================] - 0s 4ms/step - loss: 5.5484e-06 - accuracy: 1.0000\n",
            "Epoch 63/100\n",
            "121/121 [==============================] - 0s 4ms/step - loss: 5.1889e-06 - accuracy: 1.0000\n",
            "Epoch 64/100\n",
            "121/121 [==============================] - 0s 4ms/step - loss: 4.8575e-06 - accuracy: 1.0000\n",
            "Epoch 65/100\n",
            "121/121 [==============================] - 0s 4ms/step - loss: 4.5450e-06 - accuracy: 1.0000\n",
            "Epoch 66/100\n",
            "121/121 [==============================] - 0s 4ms/step - loss: 4.2526e-06 - accuracy: 1.0000\n",
            "Epoch 67/100\n",
            "121/121 [==============================] - 0s 4ms/step - loss: 3.9781e-06 - accuracy: 1.0000\n",
            "Epoch 68/100\n",
            "121/121 [==============================] - 0s 4ms/step - loss: 3.7238e-06 - accuracy: 1.0000\n",
            "Epoch 69/100\n",
            "121/121 [==============================] - 0s 4ms/step - loss: 3.4863e-06 - accuracy: 1.0000\n",
            "Epoch 70/100\n",
            "121/121 [==============================] - 0s 4ms/step - loss: 3.2639e-06 - accuracy: 1.0000\n",
            "Epoch 71/100\n",
            "121/121 [==============================] - 0s 4ms/step - loss: 3.0538e-06 - accuracy: 1.0000\n",
            "Epoch 72/100\n",
            "121/121 [==============================] - 0s 4ms/step - loss: 2.8615e-06 - accuracy: 1.0000\n",
            "Epoch 73/100\n",
            "121/121 [==============================] - 0s 4ms/step - loss: 2.6779e-06 - accuracy: 1.0000\n",
            "Epoch 74/100\n",
            "121/121 [==============================] - 0s 4ms/step - loss: 2.5079e-06 - accuracy: 1.0000\n",
            "Epoch 75/100\n",
            "121/121 [==============================] - 1s 5ms/step - loss: 2.3471e-06 - accuracy: 1.0000\n",
            "Epoch 76/100\n",
            "121/121 [==============================] - 1s 5ms/step - loss: 2.1988e-06 - accuracy: 1.0000\n",
            "Epoch 77/100\n",
            "121/121 [==============================] - 0s 4ms/step - loss: 2.0591e-06 - accuracy: 1.0000\n",
            "Epoch 78/100\n",
            "121/121 [==============================] - 0s 4ms/step - loss: 1.9296e-06 - accuracy: 1.0000\n",
            "Epoch 79/100\n",
            "121/121 [==============================] - 0s 4ms/step - loss: 1.8084e-06 - accuracy: 1.0000\n",
            "Epoch 80/100\n",
            "121/121 [==============================] - 0s 4ms/step - loss: 1.6928e-06 - accuracy: 1.0000\n",
            "Epoch 81/100\n",
            "121/121 [==============================] - 0s 4ms/step - loss: 1.5867e-06 - accuracy: 1.0000\n",
            "Epoch 82/100\n",
            "121/121 [==============================] - 0s 4ms/step - loss: 1.4871e-06 - accuracy: 1.0000\n",
            "Epoch 83/100\n",
            "121/121 [==============================] - 0s 4ms/step - loss: 1.3926e-06 - accuracy: 1.0000\n",
            "Epoch 84/100\n",
            "121/121 [==============================] - 0s 4ms/step - loss: 1.3048e-06 - accuracy: 1.0000\n",
            "Epoch 85/100\n",
            "121/121 [==============================] - 0s 4ms/step - loss: 1.2234e-06 - accuracy: 1.0000\n",
            "Epoch 86/100\n",
            "121/121 [==============================] - 0s 4ms/step - loss: 1.1454e-06 - accuracy: 1.0000\n",
            "Epoch 87/100\n",
            "121/121 [==============================] - 0s 4ms/step - loss: 1.0728e-06 - accuracy: 1.0000\n",
            "Epoch 88/100\n",
            "121/121 [==============================] - 0s 4ms/step - loss: 1.0065e-06 - accuracy: 1.0000\n",
            "Epoch 89/100\n",
            "121/121 [==============================] - 0s 4ms/step - loss: 9.4221e-07 - accuracy: 1.0000\n",
            "Epoch 90/100\n",
            "121/121 [==============================] - 0s 4ms/step - loss: 8.8363e-07 - accuracy: 1.0000\n",
            "Epoch 91/100\n",
            "121/121 [==============================] - 0s 4ms/step - loss: 8.2903e-07 - accuracy: 1.0000\n",
            "Epoch 92/100\n",
            "121/121 [==============================] - 0s 4ms/step - loss: 7.7719e-07 - accuracy: 1.0000\n",
            "Epoch 93/100\n",
            "121/121 [==============================] - 0s 4ms/step - loss: 7.2848e-07 - accuracy: 1.0000\n",
            "Epoch 94/100\n",
            "121/121 [==============================] - 0s 4ms/step - loss: 6.8256e-07 - accuracy: 1.0000\n",
            "Epoch 95/100\n",
            "121/121 [==============================] - 0s 4ms/step - loss: 6.4119e-07 - accuracy: 1.0000\n",
            "Epoch 96/100\n",
            "121/121 [==============================] - 0s 4ms/step - loss: 6.0074e-07 - accuracy: 1.0000\n",
            "Epoch 97/100\n",
            "121/121 [==============================] - 0s 4ms/step - loss: 5.6294e-07 - accuracy: 1.0000\n",
            "Epoch 98/100\n",
            "121/121 [==============================] - 0s 4ms/step - loss: 5.2862e-07 - accuracy: 1.0000\n",
            "Epoch 99/100\n",
            "121/121 [==============================] - 0s 4ms/step - loss: 4.9605e-07 - accuracy: 1.0000\n",
            "Epoch 100/100\n",
            "121/121 [==============================] - 0s 4ms/step - loss: 4.6443e-07 - accuracy: 1.0000\n",
            "31/31 [==============================] - 0s 3ms/step - loss: 0.3416 - accuracy: 0.9295\n",
            "Epoch 1/100\n",
            "121/121 [==============================] - 1s 4ms/step - loss: 0.5535 - accuracy: 0.8198\n",
            "Epoch 2/100\n",
            "121/121 [==============================] - 0s 4ms/step - loss: 0.0651 - accuracy: 0.9782\n",
            "Epoch 3/100\n",
            "121/121 [==============================] - 0s 4ms/step - loss: 0.0154 - accuracy: 0.9967\n",
            "Epoch 4/100\n",
            "121/121 [==============================] - 0s 4ms/step - loss: 0.0033 - accuracy: 0.9998\n",
            "Epoch 5/100\n",
            "121/121 [==============================] - 0s 4ms/step - loss: 0.0015 - accuracy: 1.0000\n",
            "Epoch 6/100\n",
            "121/121 [==============================] - 0s 4ms/step - loss: 0.0010 - accuracy: 1.0000\n",
            "Epoch 7/100\n",
            "121/121 [==============================] - 0s 4ms/step - loss: 7.9049e-04 - accuracy: 1.0000\n",
            "Epoch 8/100\n",
            "121/121 [==============================] - 0s 4ms/step - loss: 6.4581e-04 - accuracy: 1.0000\n",
            "Epoch 9/100\n",
            "121/121 [==============================] - 0s 4ms/step - loss: 5.3836e-04 - accuracy: 1.0000\n",
            "Epoch 10/100\n",
            "121/121 [==============================] - 0s 4ms/step - loss: 4.5731e-04 - accuracy: 1.0000\n",
            "Epoch 11/100\n",
            "121/121 [==============================] - 0s 4ms/step - loss: 3.9307e-04 - accuracy: 1.0000\n",
            "Epoch 12/100\n",
            "121/121 [==============================] - 0s 4ms/step - loss: 3.4081e-04 - accuracy: 1.0000\n",
            "Epoch 13/100\n",
            "121/121 [==============================] - 0s 4ms/step - loss: 2.9804e-04 - accuracy: 1.0000\n",
            "Epoch 14/100\n",
            "121/121 [==============================] - 0s 4ms/step - loss: 2.6377e-04 - accuracy: 1.0000\n",
            "Epoch 15/100\n",
            "121/121 [==============================] - 0s 4ms/step - loss: 2.3278e-04 - accuracy: 1.0000\n",
            "Epoch 16/100\n",
            "121/121 [==============================] - 0s 4ms/step - loss: 2.0733e-04 - accuracy: 1.0000\n",
            "Epoch 17/100\n",
            "121/121 [==============================] - 0s 4ms/step - loss: 1.8557e-04 - accuracy: 1.0000\n",
            "Epoch 18/100\n",
            "121/121 [==============================] - 0s 4ms/step - loss: 1.6657e-04 - accuracy: 1.0000\n",
            "Epoch 19/100\n",
            "121/121 [==============================] - 0s 4ms/step - loss: 1.5035e-04 - accuracy: 1.0000\n",
            "Epoch 20/100\n",
            "121/121 [==============================] - 0s 4ms/step - loss: 1.3578e-04 - accuracy: 1.0000\n",
            "Epoch 21/100\n",
            "121/121 [==============================] - 0s 4ms/step - loss: 1.2314e-04 - accuracy: 1.0000\n",
            "Epoch 22/100\n",
            "121/121 [==============================] - 0s 4ms/step - loss: 1.1206e-04 - accuracy: 1.0000\n",
            "Epoch 23/100\n",
            "121/121 [==============================] - 0s 4ms/step - loss: 1.0221e-04 - accuracy: 1.0000\n",
            "Epoch 24/100\n",
            "121/121 [==============================] - 0s 4ms/step - loss: 9.3175e-05 - accuracy: 1.0000\n",
            "Epoch 25/100\n",
            "121/121 [==============================] - 0s 4ms/step - loss: 8.5333e-05 - accuracy: 1.0000\n",
            "Epoch 26/100\n",
            "121/121 [==============================] - 0s 4ms/step - loss: 7.8185e-05 - accuracy: 1.0000\n",
            "Epoch 27/100\n",
            "121/121 [==============================] - 0s 4ms/step - loss: 7.1746e-05 - accuracy: 1.0000\n",
            "Epoch 28/100\n",
            "121/121 [==============================] - 0s 4ms/step - loss: 6.5965e-05 - accuracy: 1.0000\n",
            "Epoch 29/100\n",
            "121/121 [==============================] - 0s 4ms/step - loss: 6.0759e-05 - accuracy: 1.0000\n",
            "Epoch 30/100\n",
            "121/121 [==============================] - 0s 4ms/step - loss: 5.5976e-05 - accuracy: 1.0000\n",
            "Epoch 31/100\n",
            "121/121 [==============================] - 0s 4ms/step - loss: 5.1681e-05 - accuracy: 1.0000\n",
            "Epoch 32/100\n",
            "121/121 [==============================] - 0s 4ms/step - loss: 4.7748e-05 - accuracy: 1.0000\n",
            "Epoch 33/100\n",
            "121/121 [==============================] - 0s 4ms/step - loss: 4.4162e-05 - accuracy: 1.0000\n",
            "Epoch 34/100\n",
            "121/121 [==============================] - 0s 4ms/step - loss: 4.0875e-05 - accuracy: 1.0000\n",
            "Epoch 35/100\n",
            "121/121 [==============================] - 0s 4ms/step - loss: 3.7857e-05 - accuracy: 1.0000\n",
            "Epoch 36/100\n",
            "121/121 [==============================] - 0s 4ms/step - loss: 3.5132e-05 - accuracy: 1.0000\n",
            "Epoch 37/100\n",
            "121/121 [==============================] - 0s 4ms/step - loss: 3.2557e-05 - accuracy: 1.0000\n",
            "Epoch 38/100\n",
            "121/121 [==============================] - 0s 4ms/step - loss: 3.0219e-05 - accuracy: 1.0000\n",
            "Epoch 39/100\n",
            "121/121 [==============================] - 0s 4ms/step - loss: 2.8068e-05 - accuracy: 1.0000\n",
            "Epoch 40/100\n",
            "121/121 [==============================] - 0s 4ms/step - loss: 2.6099e-05 - accuracy: 1.0000\n",
            "Epoch 41/100\n",
            "121/121 [==============================] - 0s 4ms/step - loss: 2.4272e-05 - accuracy: 1.0000\n",
            "Epoch 42/100\n",
            "121/121 [==============================] - 0s 4ms/step - loss: 2.2577e-05 - accuracy: 1.0000\n",
            "Epoch 43/100\n",
            "121/121 [==============================] - 0s 4ms/step - loss: 2.1008e-05 - accuracy: 1.0000\n",
            "Epoch 44/100\n",
            "121/121 [==============================] - 0s 4ms/step - loss: 1.9567e-05 - accuracy: 1.0000\n",
            "Epoch 45/100\n",
            "121/121 [==============================] - 0s 4ms/step - loss: 1.8223e-05 - accuracy: 1.0000\n",
            "Epoch 46/100\n",
            "121/121 [==============================] - 0s 4ms/step - loss: 1.6990e-05 - accuracy: 1.0000\n",
            "Epoch 47/100\n",
            "121/121 [==============================] - 0s 4ms/step - loss: 1.5836e-05 - accuracy: 1.0000\n",
            "Epoch 48/100\n",
            "121/121 [==============================] - 0s 4ms/step - loss: 1.4769e-05 - accuracy: 1.0000\n",
            "Epoch 49/100\n",
            "121/121 [==============================] - 0s 4ms/step - loss: 1.3793e-05 - accuracy: 1.0000\n",
            "Epoch 50/100\n",
            "121/121 [==============================] - 0s 4ms/step - loss: 1.2859e-05 - accuracy: 1.0000\n",
            "Epoch 51/100\n",
            "121/121 [==============================] - 0s 4ms/step - loss: 1.2001e-05 - accuracy: 1.0000\n",
            "Epoch 52/100\n",
            "121/121 [==============================] - 0s 4ms/step - loss: 1.1207e-05 - accuracy: 1.0000\n",
            "Epoch 53/100\n",
            "121/121 [==============================] - 0s 4ms/step - loss: 1.0465e-05 - accuracy: 1.0000\n",
            "Epoch 54/100\n",
            "121/121 [==============================] - 0s 4ms/step - loss: 9.7803e-06 - accuracy: 1.0000\n",
            "Epoch 55/100\n",
            "121/121 [==============================] - 0s 4ms/step - loss: 9.1361e-06 - accuracy: 1.0000\n",
            "Epoch 56/100\n",
            "121/121 [==============================] - 0s 4ms/step - loss: 8.5407e-06 - accuracy: 1.0000\n",
            "Epoch 57/100\n",
            "121/121 [==============================] - 0s 4ms/step - loss: 7.9781e-06 - accuracy: 1.0000\n",
            "Epoch 58/100\n",
            "121/121 [==============================] - 0s 4ms/step - loss: 7.4582e-06 - accuracy: 1.0000\n",
            "Epoch 59/100\n",
            "121/121 [==============================] - 0s 4ms/step - loss: 6.9713e-06 - accuracy: 1.0000\n",
            "Epoch 60/100\n",
            "121/121 [==============================] - 0s 4ms/step - loss: 6.5206e-06 - accuracy: 1.0000\n",
            "Epoch 61/100\n",
            "121/121 [==============================] - 0s 4ms/step - loss: 6.0971e-06 - accuracy: 1.0000\n",
            "Epoch 62/100\n",
            "121/121 [==============================] - 0s 4ms/step - loss: 5.7020e-06 - accuracy: 1.0000\n",
            "Epoch 63/100\n",
            "121/121 [==============================] - 0s 4ms/step - loss: 5.3350e-06 - accuracy: 1.0000\n",
            "Epoch 64/100\n",
            "121/121 [==============================] - 0s 4ms/step - loss: 4.9930e-06 - accuracy: 1.0000\n",
            "Epoch 65/100\n",
            "121/121 [==============================] - 0s 4ms/step - loss: 4.6684e-06 - accuracy: 1.0000\n",
            "Epoch 66/100\n",
            "121/121 [==============================] - 0s 4ms/step - loss: 4.3710e-06 - accuracy: 1.0000\n",
            "Epoch 67/100\n",
            "121/121 [==============================] - 0s 4ms/step - loss: 4.0915e-06 - accuracy: 1.0000\n",
            "Epoch 68/100\n",
            "121/121 [==============================] - 0s 4ms/step - loss: 3.8319e-06 - accuracy: 1.0000\n",
            "Epoch 69/100\n",
            "121/121 [==============================] - 0s 4ms/step - loss: 3.5862e-06 - accuracy: 1.0000\n",
            "Epoch 70/100\n",
            "121/121 [==============================] - 0s 4ms/step - loss: 3.3575e-06 - accuracy: 1.0000\n",
            "Epoch 71/100\n",
            "121/121 [==============================] - 0s 4ms/step - loss: 3.1432e-06 - accuracy: 1.0000\n",
            "Epoch 72/100\n",
            "121/121 [==============================] - 0s 4ms/step - loss: 2.9427e-06 - accuracy: 1.0000\n",
            "Epoch 73/100\n",
            "121/121 [==============================] - 0s 4ms/step - loss: 2.7573e-06 - accuracy: 1.0000\n",
            "Epoch 74/100\n",
            "121/121 [==============================] - 0s 4ms/step - loss: 2.5804e-06 - accuracy: 1.0000\n",
            "Epoch 75/100\n",
            "121/121 [==============================] - 0s 4ms/step - loss: 2.4160e-06 - accuracy: 1.0000\n",
            "Epoch 76/100\n",
            "121/121 [==============================] - 0s 4ms/step - loss: 2.2620e-06 - accuracy: 1.0000\n",
            "Epoch 77/100\n",
            "121/121 [==============================] - 0s 4ms/step - loss: 2.1203e-06 - accuracy: 1.0000\n",
            "Epoch 78/100\n",
            "121/121 [==============================] - 0s 4ms/step - loss: 1.9868e-06 - accuracy: 1.0000\n",
            "Epoch 79/100\n",
            "121/121 [==============================] - 0s 4ms/step - loss: 1.8604e-06 - accuracy: 1.0000\n",
            "Epoch 80/100\n",
            "121/121 [==============================] - 0s 4ms/step - loss: 1.7439e-06 - accuracy: 1.0000\n",
            "Epoch 81/100\n",
            "121/121 [==============================] - 0s 4ms/step - loss: 1.6318e-06 - accuracy: 1.0000\n",
            "Epoch 82/100\n",
            "121/121 [==============================] - 0s 4ms/step - loss: 1.5290e-06 - accuracy: 1.0000\n",
            "Epoch 83/100\n",
            "121/121 [==============================] - 0s 4ms/step - loss: 1.4327e-06 - accuracy: 1.0000\n",
            "Epoch 84/100\n",
            "121/121 [==============================] - 0s 4ms/step - loss: 1.3423e-06 - accuracy: 1.0000\n",
            "Epoch 85/100\n",
            "121/121 [==============================] - 0s 4ms/step - loss: 1.2586e-06 - accuracy: 1.0000\n",
            "Epoch 86/100\n",
            "121/121 [==============================] - 0s 4ms/step - loss: 1.1793e-06 - accuracy: 1.0000\n",
            "Epoch 87/100\n",
            "121/121 [==============================] - 0s 4ms/step - loss: 1.1051e-06 - accuracy: 1.0000\n",
            "Epoch 88/100\n",
            "121/121 [==============================] - 0s 4ms/step - loss: 1.0367e-06 - accuracy: 1.0000\n",
            "Epoch 89/100\n",
            "121/121 [==============================] - 0s 4ms/step - loss: 9.7106e-07 - accuracy: 1.0000\n",
            "Epoch 90/100\n",
            "121/121 [==============================] - 0s 4ms/step - loss: 9.1064e-07 - accuracy: 1.0000\n",
            "Epoch 91/100\n",
            "121/121 [==============================] - 0s 4ms/step - loss: 8.5399e-07 - accuracy: 1.0000\n",
            "Epoch 92/100\n",
            "121/121 [==============================] - 0s 4ms/step - loss: 8.0011e-07 - accuracy: 1.0000\n",
            "Epoch 93/100\n",
            "121/121 [==============================] - 0s 4ms/step - loss: 7.4998e-07 - accuracy: 1.0000\n",
            "Epoch 94/100\n",
            "121/121 [==============================] - 0s 4ms/step - loss: 7.0386e-07 - accuracy: 1.0000\n",
            "Epoch 95/100\n",
            "121/121 [==============================] - 0s 4ms/step - loss: 6.5950e-07 - accuracy: 1.0000\n",
            "Epoch 96/100\n",
            "121/121 [==============================] - 0s 4ms/step - loss: 6.1854e-07 - accuracy: 1.0000\n",
            "Epoch 97/100\n",
            "121/121 [==============================] - 0s 4ms/step - loss: 5.8021e-07 - accuracy: 1.0000\n",
            "Epoch 98/100\n",
            "121/121 [==============================] - 0s 4ms/step - loss: 5.4306e-07 - accuracy: 1.0000\n",
            "Epoch 99/100\n",
            "121/121 [==============================] - 0s 4ms/step - loss: 5.0964e-07 - accuracy: 1.0000\n",
            "Epoch 100/100\n",
            "121/121 [==============================] - 0s 4ms/step - loss: 4.7797e-07 - accuracy: 1.0000\n",
            "31/31 [==============================] - 0s 3ms/step - loss: 0.2911 - accuracy: 0.9421\n",
            "Epoch 1/100\n",
            "121/121 [==============================] - 1s 4ms/step - loss: 0.5521 - accuracy: 0.8133\n",
            "Epoch 2/100\n",
            "121/121 [==============================] - 0s 4ms/step - loss: 0.0633 - accuracy: 0.9790\n",
            "Epoch 3/100\n",
            "121/121 [==============================] - 0s 4ms/step - loss: 0.0112 - accuracy: 0.9983\n",
            "Epoch 4/100\n",
            "121/121 [==============================] - 0s 4ms/step - loss: 0.0033 - accuracy: 0.9998\n",
            "Epoch 5/100\n",
            "121/121 [==============================] - 0s 4ms/step - loss: 0.0014 - accuracy: 1.0000\n",
            "Epoch 6/100\n",
            "121/121 [==============================] - 0s 4ms/step - loss: 0.0010 - accuracy: 1.0000\n",
            "Epoch 7/100\n",
            "121/121 [==============================] - 0s 4ms/step - loss: 8.2331e-04 - accuracy: 1.0000\n",
            "Epoch 8/100\n",
            "121/121 [==============================] - 0s 4ms/step - loss: 6.7489e-04 - accuracy: 1.0000\n",
            "Epoch 9/100\n",
            "121/121 [==============================] - 0s 4ms/step - loss: 5.6283e-04 - accuracy: 1.0000\n",
            "Epoch 10/100\n",
            "121/121 [==============================] - 0s 4ms/step - loss: 4.7727e-04 - accuracy: 1.0000\n",
            "Epoch 11/100\n",
            "121/121 [==============================] - 0s 4ms/step - loss: 4.0976e-04 - accuracy: 1.0000\n",
            "Epoch 12/100\n",
            "121/121 [==============================] - 0s 4ms/step - loss: 3.5521e-04 - accuracy: 1.0000\n",
            "Epoch 13/100\n",
            "121/121 [==============================] - 0s 4ms/step - loss: 3.1085e-04 - accuracy: 1.0000\n",
            "Epoch 14/100\n",
            "121/121 [==============================] - 0s 4ms/step - loss: 2.7341e-04 - accuracy: 1.0000\n",
            "Epoch 15/100\n",
            "121/121 [==============================] - 0s 4ms/step - loss: 2.4199e-04 - accuracy: 1.0000\n",
            "Epoch 16/100\n",
            "121/121 [==============================] - 0s 4ms/step - loss: 2.1525e-04 - accuracy: 1.0000\n",
            "Epoch 17/100\n",
            "121/121 [==============================] - 0s 4ms/step - loss: 1.9243e-04 - accuracy: 1.0000\n",
            "Epoch 18/100\n",
            "121/121 [==============================] - 0s 4ms/step - loss: 1.7307e-04 - accuracy: 1.0000\n",
            "Epoch 19/100\n",
            "121/121 [==============================] - 0s 4ms/step - loss: 1.5580e-04 - accuracy: 1.0000\n",
            "Epoch 20/100\n",
            "121/121 [==============================] - 0s 4ms/step - loss: 1.4079e-04 - accuracy: 1.0000\n",
            "Epoch 21/100\n",
            "121/121 [==============================] - 0s 4ms/step - loss: 1.2752e-04 - accuracy: 1.0000\n",
            "Epoch 22/100\n",
            "121/121 [==============================] - 0s 4ms/step - loss: 1.1583e-04 - accuracy: 1.0000\n",
            "Epoch 23/100\n",
            "121/121 [==============================] - 0s 4ms/step - loss: 1.0558e-04 - accuracy: 1.0000\n",
            "Epoch 24/100\n",
            "121/121 [==============================] - 0s 4ms/step - loss: 9.6436e-05 - accuracy: 1.0000\n",
            "Epoch 25/100\n",
            "121/121 [==============================] - 0s 4ms/step - loss: 8.8161e-05 - accuracy: 1.0000\n",
            "Epoch 26/100\n",
            "121/121 [==============================] - 0s 4ms/step - loss: 8.0785e-05 - accuracy: 1.0000\n",
            "Epoch 27/100\n",
            "121/121 [==============================] - 0s 4ms/step - loss: 7.4162e-05 - accuracy: 1.0000\n",
            "Epoch 28/100\n",
            "121/121 [==============================] - 0s 4ms/step - loss: 6.8074e-05 - accuracy: 1.0000\n",
            "Epoch 29/100\n",
            "121/121 [==============================] - 0s 4ms/step - loss: 6.2654e-05 - accuracy: 1.0000\n",
            "Epoch 30/100\n",
            "121/121 [==============================] - 0s 4ms/step - loss: 5.7772e-05 - accuracy: 1.0000\n",
            "Epoch 31/100\n",
            "121/121 [==============================] - 0s 4ms/step - loss: 5.3312e-05 - accuracy: 1.0000\n",
            "Epoch 32/100\n",
            "121/121 [==============================] - 0s 4ms/step - loss: 4.9211e-05 - accuracy: 1.0000\n",
            "Epoch 33/100\n",
            "121/121 [==============================] - 0s 4ms/step - loss: 4.5488e-05 - accuracy: 1.0000\n",
            "Epoch 34/100\n",
            "121/121 [==============================] - 0s 4ms/step - loss: 4.2106e-05 - accuracy: 1.0000\n",
            "Epoch 35/100\n",
            "121/121 [==============================] - 0s 4ms/step - loss: 3.8956e-05 - accuracy: 1.0000\n",
            "Epoch 36/100\n",
            "121/121 [==============================] - 0s 4ms/step - loss: 3.6107e-05 - accuracy: 1.0000\n",
            "Epoch 37/100\n",
            "121/121 [==============================] - 0s 4ms/step - loss: 3.3474e-05 - accuracy: 1.0000\n",
            "Epoch 38/100\n",
            "121/121 [==============================] - 0s 4ms/step - loss: 3.1101e-05 - accuracy: 1.0000\n",
            "Epoch 39/100\n",
            "121/121 [==============================] - 0s 4ms/step - loss: 2.8880e-05 - accuracy: 1.0000\n",
            "Epoch 40/100\n",
            "121/121 [==============================] - 0s 4ms/step - loss: 2.6818e-05 - accuracy: 1.0000\n",
            "Epoch 41/100\n",
            "121/121 [==============================] - 0s 4ms/step - loss: 2.4942e-05 - accuracy: 1.0000\n",
            "Epoch 42/100\n",
            "121/121 [==============================] - 0s 4ms/step - loss: 2.3197e-05 - accuracy: 1.0000\n",
            "Epoch 43/100\n",
            "121/121 [==============================] - 0s 4ms/step - loss: 2.1594e-05 - accuracy: 1.0000\n",
            "Epoch 44/100\n",
            "121/121 [==============================] - 0s 4ms/step - loss: 2.0111e-05 - accuracy: 1.0000\n",
            "Epoch 45/100\n",
            "121/121 [==============================] - 0s 4ms/step - loss: 1.8739e-05 - accuracy: 1.0000\n",
            "Epoch 46/100\n",
            "121/121 [==============================] - 0s 4ms/step - loss: 1.7438e-05 - accuracy: 1.0000\n",
            "Epoch 47/100\n",
            "121/121 [==============================] - 0s 4ms/step - loss: 1.6268e-05 - accuracy: 1.0000\n",
            "Epoch 48/100\n",
            "121/121 [==============================] - 0s 4ms/step - loss: 1.5169e-05 - accuracy: 1.0000\n",
            "Epoch 49/100\n",
            "121/121 [==============================] - 0s 4ms/step - loss: 1.4139e-05 - accuracy: 1.0000\n",
            "Epoch 50/100\n",
            "121/121 [==============================] - 0s 4ms/step - loss: 1.3204e-05 - accuracy: 1.0000\n",
            "Epoch 51/100\n",
            "121/121 [==============================] - 0s 4ms/step - loss: 1.2324e-05 - accuracy: 1.0000\n",
            "Epoch 52/100\n",
            "121/121 [==============================] - 0s 4ms/step - loss: 1.1503e-05 - accuracy: 1.0000\n",
            "Epoch 53/100\n",
            "121/121 [==============================] - 0s 4ms/step - loss: 1.0737e-05 - accuracy: 1.0000\n",
            "Epoch 54/100\n",
            "121/121 [==============================] - 0s 4ms/step - loss: 1.0023e-05 - accuracy: 1.0000\n",
            "Epoch 55/100\n",
            "121/121 [==============================] - 0s 4ms/step - loss: 9.3826e-06 - accuracy: 1.0000\n",
            "Epoch 56/100\n",
            "121/121 [==============================] - 0s 4ms/step - loss: 8.7558e-06 - accuracy: 1.0000\n",
            "Epoch 57/100\n",
            "121/121 [==============================] - 0s 4ms/step - loss: 8.1807e-06 - accuracy: 1.0000\n",
            "Epoch 58/100\n",
            "121/121 [==============================] - 0s 4ms/step - loss: 7.6483e-06 - accuracy: 1.0000\n",
            "Epoch 59/100\n",
            "121/121 [==============================] - 0s 4ms/step - loss: 7.1533e-06 - accuracy: 1.0000\n",
            "Epoch 60/100\n",
            "121/121 [==============================] - 0s 4ms/step - loss: 6.6824e-06 - accuracy: 1.0000\n",
            "Epoch 61/100\n",
            "121/121 [==============================] - 1s 4ms/step - loss: 6.2555e-06 - accuracy: 1.0000\n",
            "Epoch 62/100\n",
            "121/121 [==============================] - 0s 4ms/step - loss: 5.8491e-06 - accuracy: 1.0000\n",
            "Epoch 63/100\n",
            "121/121 [==============================] - 0s 4ms/step - loss: 5.4702e-06 - accuracy: 1.0000\n",
            "Epoch 64/100\n",
            "121/121 [==============================] - 0s 4ms/step - loss: 5.1163e-06 - accuracy: 1.0000\n",
            "Epoch 65/100\n",
            "121/121 [==============================] - 0s 4ms/step - loss: 4.7913e-06 - accuracy: 1.0000\n",
            "Epoch 66/100\n",
            "121/121 [==============================] - 0s 4ms/step - loss: 4.4803e-06 - accuracy: 1.0000\n",
            "Epoch 67/100\n",
            "121/121 [==============================] - 0s 4ms/step - loss: 4.1891e-06 - accuracy: 1.0000\n",
            "Epoch 68/100\n",
            "121/121 [==============================] - 0s 4ms/step - loss: 3.9203e-06 - accuracy: 1.0000\n",
            "Epoch 69/100\n",
            "121/121 [==============================] - 0s 4ms/step - loss: 3.6715e-06 - accuracy: 1.0000\n",
            "Epoch 70/100\n",
            "121/121 [==============================] - 0s 4ms/step - loss: 3.4363e-06 - accuracy: 1.0000\n",
            "Epoch 71/100\n",
            "121/121 [==============================] - 0s 4ms/step - loss: 3.2148e-06 - accuracy: 1.0000\n",
            "Epoch 72/100\n",
            "121/121 [==============================] - 0s 4ms/step - loss: 3.0120e-06 - accuracy: 1.0000\n",
            "Epoch 73/100\n",
            "121/121 [==============================] - 0s 4ms/step - loss: 2.8212e-06 - accuracy: 1.0000\n",
            "Epoch 74/100\n",
            "121/121 [==============================] - 0s 4ms/step - loss: 2.6426e-06 - accuracy: 1.0000\n",
            "Epoch 75/100\n",
            "121/121 [==============================] - 0s 4ms/step - loss: 2.4726e-06 - accuracy: 1.0000\n",
            "Epoch 76/100\n",
            "121/121 [==============================] - 0s 4ms/step - loss: 2.3163e-06 - accuracy: 1.0000\n",
            "Epoch 77/100\n",
            "121/121 [==============================] - 0s 4ms/step - loss: 2.1700e-06 - accuracy: 1.0000\n",
            "Epoch 78/100\n",
            "121/121 [==============================] - 0s 4ms/step - loss: 2.0337e-06 - accuracy: 1.0000\n",
            "Epoch 79/100\n",
            "121/121 [==============================] - 0s 4ms/step - loss: 1.9032e-06 - accuracy: 1.0000\n",
            "Epoch 80/100\n",
            "121/121 [==============================] - 0s 4ms/step - loss: 1.7824e-06 - accuracy: 1.0000\n",
            "Epoch 81/100\n",
            "121/121 [==============================] - 0s 4ms/step - loss: 1.6723e-06 - accuracy: 1.0000\n",
            "Epoch 82/100\n",
            "121/121 [==============================] - 0s 4ms/step - loss: 1.5645e-06 - accuracy: 1.0000\n",
            "Epoch 83/100\n",
            "121/121 [==============================] - 0s 4ms/step - loss: 1.4667e-06 - accuracy: 1.0000\n",
            "Epoch 84/100\n",
            "121/121 [==============================] - 0s 4ms/step - loss: 1.3739e-06 - accuracy: 1.0000\n",
            "Epoch 85/100\n",
            "121/121 [==============================] - 0s 4ms/step - loss: 1.2869e-06 - accuracy: 1.0000\n",
            "Epoch 86/100\n",
            "121/121 [==============================] - 0s 4ms/step - loss: 1.2070e-06 - accuracy: 1.0000\n",
            "Epoch 87/100\n",
            "121/121 [==============================] - 0s 4ms/step - loss: 1.1306e-06 - accuracy: 1.0000\n",
            "Epoch 88/100\n",
            "121/121 [==============================] - 0s 4ms/step - loss: 1.0603e-06 - accuracy: 1.0000\n",
            "Epoch 89/100\n",
            "121/121 [==============================] - 0s 4ms/step - loss: 9.9338e-07 - accuracy: 1.0000\n",
            "Epoch 90/100\n",
            "121/121 [==============================] - 0s 4ms/step - loss: 9.3098e-07 - accuracy: 1.0000\n",
            "Epoch 91/100\n",
            "121/121 [==============================] - 0s 4ms/step - loss: 8.7272e-07 - accuracy: 1.0000\n",
            "Epoch 92/100\n",
            "121/121 [==============================] - 0s 4ms/step - loss: 8.1827e-07 - accuracy: 1.0000\n",
            "Epoch 93/100\n",
            "121/121 [==============================] - 0s 4ms/step - loss: 7.6705e-07 - accuracy: 1.0000\n",
            "Epoch 94/100\n",
            "121/121 [==============================] - 0s 4ms/step - loss: 7.1944e-07 - accuracy: 1.0000\n",
            "Epoch 95/100\n",
            "121/121 [==============================] - 0s 4ms/step - loss: 6.7363e-07 - accuracy: 1.0000\n",
            "Epoch 96/100\n",
            "121/121 [==============================] - 0s 4ms/step - loss: 6.3188e-07 - accuracy: 1.0000\n",
            "Epoch 97/100\n",
            "121/121 [==============================] - 0s 4ms/step - loss: 5.9295e-07 - accuracy: 1.0000\n",
            "Epoch 98/100\n",
            "121/121 [==============================] - 0s 4ms/step - loss: 5.5569e-07 - accuracy: 1.0000\n",
            "Epoch 99/100\n",
            "121/121 [==============================] - 0s 4ms/step - loss: 5.2050e-07 - accuracy: 1.0000\n",
            "Epoch 100/100\n",
            "121/121 [==============================] - 0s 4ms/step - loss: 4.8877e-07 - accuracy: 1.0000\n",
            "31/31 [==============================] - 0s 3ms/step - loss: 0.2555 - accuracy: 0.9441\n",
            "Epoch 1/100\n",
            "121/121 [==============================] - 1s 4ms/step - loss: 0.5333 - accuracy: 0.8193\n",
            "Epoch 2/100\n",
            "121/121 [==============================] - 0s 4ms/step - loss: 0.0533 - accuracy: 0.9830\n",
            "Epoch 3/100\n",
            "121/121 [==============================] - 0s 4ms/step - loss: 0.0172 - accuracy: 0.9970\n",
            "Epoch 4/100\n",
            "121/121 [==============================] - 0s 4ms/step - loss: 0.0032 - accuracy: 1.0000\n",
            "Epoch 5/100\n",
            "121/121 [==============================] - 0s 4ms/step - loss: 0.0013 - accuracy: 1.0000\n",
            "Epoch 6/100\n",
            "121/121 [==============================] - 0s 4ms/step - loss: 9.5483e-04 - accuracy: 1.0000\n",
            "Epoch 7/100\n",
            "121/121 [==============================] - 0s 4ms/step - loss: 7.5213e-04 - accuracy: 1.0000\n",
            "Epoch 8/100\n",
            "121/121 [==============================] - 0s 4ms/step - loss: 6.1440e-04 - accuracy: 1.0000\n",
            "Epoch 9/100\n",
            "121/121 [==============================] - 0s 4ms/step - loss: 5.1340e-04 - accuracy: 1.0000\n",
            "Epoch 10/100\n",
            "121/121 [==============================] - 0s 4ms/step - loss: 4.3530e-04 - accuracy: 1.0000\n",
            "Epoch 11/100\n",
            "121/121 [==============================] - 0s 4ms/step - loss: 3.7434e-04 - accuracy: 1.0000\n",
            "Epoch 12/100\n",
            "121/121 [==============================] - 0s 4ms/step - loss: 3.2434e-04 - accuracy: 1.0000\n",
            "Epoch 13/100\n",
            "121/121 [==============================] - 0s 4ms/step - loss: 2.8381e-04 - accuracy: 1.0000\n",
            "Epoch 14/100\n",
            "121/121 [==============================] - 0s 4ms/step - loss: 2.5003e-04 - accuracy: 1.0000\n",
            "Epoch 15/100\n",
            "121/121 [==============================] - 0s 4ms/step - loss: 2.2152e-04 - accuracy: 1.0000\n",
            "Epoch 16/100\n",
            "121/121 [==============================] - 0s 4ms/step - loss: 1.9730e-04 - accuracy: 1.0000\n",
            "Epoch 17/100\n",
            "121/121 [==============================] - 0s 4ms/step - loss: 1.7665e-04 - accuracy: 1.0000\n",
            "Epoch 18/100\n",
            "121/121 [==============================] - 0s 4ms/step - loss: 1.5891e-04 - accuracy: 1.0000\n",
            "Epoch 19/100\n",
            "121/121 [==============================] - 0s 4ms/step - loss: 1.4311e-04 - accuracy: 1.0000\n",
            "Epoch 20/100\n",
            "121/121 [==============================] - 0s 4ms/step - loss: 1.2933e-04 - accuracy: 1.0000\n",
            "Epoch 21/100\n",
            "121/121 [==============================] - 0s 4ms/step - loss: 1.1726e-04 - accuracy: 1.0000\n",
            "Epoch 22/100\n",
            "121/121 [==============================] - 0s 4ms/step - loss: 1.0659e-04 - accuracy: 1.0000\n",
            "Epoch 23/100\n",
            "121/121 [==============================] - 0s 4ms/step - loss: 9.7160e-05 - accuracy: 1.0000\n",
            "Epoch 24/100\n",
            "121/121 [==============================] - 0s 4ms/step - loss: 8.8771e-05 - accuracy: 1.0000\n",
            "Epoch 25/100\n",
            "121/121 [==============================] - 0s 4ms/step - loss: 8.1268e-05 - accuracy: 1.0000\n",
            "Epoch 26/100\n",
            "121/121 [==============================] - 0s 4ms/step - loss: 7.4487e-05 - accuracy: 1.0000\n",
            "Epoch 27/100\n",
            "121/121 [==============================] - 0s 4ms/step - loss: 6.8286e-05 - accuracy: 1.0000\n",
            "Epoch 28/100\n",
            "121/121 [==============================] - 0s 4ms/step - loss: 6.2812e-05 - accuracy: 1.0000\n",
            "Epoch 29/100\n",
            "121/121 [==============================] - 0s 4ms/step - loss: 5.7817e-05 - accuracy: 1.0000\n",
            "Epoch 30/100\n",
            "121/121 [==============================] - 0s 4ms/step - loss: 5.3356e-05 - accuracy: 1.0000\n",
            "Epoch 31/100\n",
            "121/121 [==============================] - 0s 4ms/step - loss: 4.9201e-05 - accuracy: 1.0000\n",
            "Epoch 32/100\n",
            "121/121 [==============================] - 0s 4ms/step - loss: 4.5464e-05 - accuracy: 1.0000\n",
            "Epoch 33/100\n",
            "121/121 [==============================] - 0s 4ms/step - loss: 4.2030e-05 - accuracy: 1.0000\n",
            "Epoch 34/100\n",
            "121/121 [==============================] - 0s 4ms/step - loss: 3.8885e-05 - accuracy: 1.0000\n",
            "Epoch 35/100\n",
            "121/121 [==============================] - 0s 4ms/step - loss: 3.6015e-05 - accuracy: 1.0000\n",
            "Epoch 36/100\n",
            "121/121 [==============================] - 0s 4ms/step - loss: 3.3388e-05 - accuracy: 1.0000\n",
            "Epoch 37/100\n",
            "121/121 [==============================] - 0s 4ms/step - loss: 3.0988e-05 - accuracy: 1.0000\n",
            "Epoch 38/100\n",
            "121/121 [==============================] - 0s 4ms/step - loss: 2.8762e-05 - accuracy: 1.0000\n",
            "Epoch 39/100\n",
            "121/121 [==============================] - 0s 4ms/step - loss: 2.6720e-05 - accuracy: 1.0000\n",
            "Epoch 40/100\n",
            "121/121 [==============================] - 0s 4ms/step - loss: 2.4845e-05 - accuracy: 1.0000\n",
            "Epoch 41/100\n",
            "121/121 [==============================] - 0s 4ms/step - loss: 2.3093e-05 - accuracy: 1.0000\n",
            "Epoch 42/100\n",
            "121/121 [==============================] - 0s 4ms/step - loss: 2.1479e-05 - accuracy: 1.0000\n",
            "Epoch 43/100\n",
            "121/121 [==============================] - 0s 4ms/step - loss: 1.9995e-05 - accuracy: 1.0000\n",
            "Epoch 44/100\n",
            "121/121 [==============================] - 0s 4ms/step - loss: 1.8615e-05 - accuracy: 1.0000\n",
            "Epoch 45/100\n",
            "121/121 [==============================] - 0s 4ms/step - loss: 1.7336e-05 - accuracy: 1.0000\n",
            "Epoch 46/100\n",
            "121/121 [==============================] - 0s 4ms/step - loss: 1.6167e-05 - accuracy: 1.0000\n",
            "Epoch 47/100\n",
            "121/121 [==============================] - 0s 4ms/step - loss: 1.5059e-05 - accuracy: 1.0000\n",
            "Epoch 48/100\n",
            "121/121 [==============================] - 0s 4ms/step - loss: 1.4047e-05 - accuracy: 1.0000\n",
            "Epoch 49/100\n",
            "121/121 [==============================] - 1s 4ms/step - loss: 1.3097e-05 - accuracy: 1.0000\n",
            "Epoch 50/100\n",
            "121/121 [==============================] - 0s 4ms/step - loss: 1.2231e-05 - accuracy: 1.0000\n",
            "Epoch 51/100\n",
            "121/121 [==============================] - 0s 4ms/step - loss: 1.1418e-05 - accuracy: 1.0000\n",
            "Epoch 52/100\n",
            "121/121 [==============================] - 0s 4ms/step - loss: 1.0654e-05 - accuracy: 1.0000\n",
            "Epoch 53/100\n",
            "121/121 [==============================] - 0s 4ms/step - loss: 9.9569e-06 - accuracy: 1.0000\n",
            "Epoch 54/100\n",
            "121/121 [==============================] - 0s 4ms/step - loss: 9.2921e-06 - accuracy: 1.0000\n",
            "Epoch 55/100\n",
            "121/121 [==============================] - 0s 4ms/step - loss: 8.6875e-06 - accuracy: 1.0000\n",
            "Epoch 56/100\n",
            "121/121 [==============================] - 0s 4ms/step - loss: 8.1185e-06 - accuracy: 1.0000\n",
            "Epoch 57/100\n",
            "121/121 [==============================] - 0s 4ms/step - loss: 7.5867e-06 - accuracy: 1.0000\n",
            "Epoch 58/100\n",
            "121/121 [==============================] - 0s 4ms/step - loss: 7.0926e-06 - accuracy: 1.0000\n",
            "Epoch 59/100\n",
            "121/121 [==============================] - 0s 4ms/step - loss: 6.6317e-06 - accuracy: 1.0000\n",
            "Epoch 60/100\n",
            "121/121 [==============================] - 0s 4ms/step - loss: 6.2011e-06 - accuracy: 1.0000\n",
            "Epoch 61/100\n",
            "121/121 [==============================] - 0s 4ms/step - loss: 5.7981e-06 - accuracy: 1.0000\n",
            "Epoch 62/100\n",
            "121/121 [==============================] - 0s 4ms/step - loss: 5.4225e-06 - accuracy: 1.0000\n",
            "Epoch 63/100\n",
            "121/121 [==============================] - 0s 4ms/step - loss: 5.0742e-06 - accuracy: 1.0000\n",
            "Epoch 64/100\n",
            "121/121 [==============================] - 0s 4ms/step - loss: 4.7439e-06 - accuracy: 1.0000\n",
            "Epoch 65/100\n",
            "121/121 [==============================] - 0s 4ms/step - loss: 4.4387e-06 - accuracy: 1.0000\n",
            "Epoch 66/100\n",
            "121/121 [==============================] - 0s 4ms/step - loss: 4.1531e-06 - accuracy: 1.0000\n",
            "Epoch 67/100\n",
            "121/121 [==============================] - 0s 4ms/step - loss: 3.8865e-06 - accuracy: 1.0000\n",
            "Epoch 68/100\n",
            "121/121 [==============================] - 0s 4ms/step - loss: 3.6387e-06 - accuracy: 1.0000\n",
            "Epoch 69/100\n",
            "121/121 [==============================] - 0s 4ms/step - loss: 3.4062e-06 - accuracy: 1.0000\n",
            "Epoch 70/100\n",
            "121/121 [==============================] - 0s 4ms/step - loss: 3.1895e-06 - accuracy: 1.0000\n",
            "Epoch 71/100\n",
            "121/121 [==============================] - 0s 4ms/step - loss: 2.9842e-06 - accuracy: 1.0000\n",
            "Epoch 72/100\n",
            "121/121 [==============================] - 0s 4ms/step - loss: 2.7963e-06 - accuracy: 1.0000\n",
            "Epoch 73/100\n",
            "121/121 [==============================] - 0s 4ms/step - loss: 2.6187e-06 - accuracy: 1.0000\n",
            "Epoch 74/100\n",
            "121/121 [==============================] - 0s 4ms/step - loss: 2.4518e-06 - accuracy: 1.0000\n",
            "Epoch 75/100\n",
            "121/121 [==============================] - 0s 4ms/step - loss: 2.2975e-06 - accuracy: 1.0000\n",
            "Epoch 76/100\n",
            "121/121 [==============================] - 0s 4ms/step - loss: 2.1503e-06 - accuracy: 1.0000\n",
            "Epoch 77/100\n",
            "121/121 [==============================] - 0s 4ms/step - loss: 2.0145e-06 - accuracy: 1.0000\n",
            "Epoch 78/100\n",
            "121/121 [==============================] - 0s 4ms/step - loss: 1.8870e-06 - accuracy: 1.0000\n",
            "Epoch 79/100\n",
            "121/121 [==============================] - 0s 4ms/step - loss: 1.7677e-06 - accuracy: 1.0000\n",
            "Epoch 80/100\n",
            "121/121 [==============================] - 0s 4ms/step - loss: 1.6576e-06 - accuracy: 1.0000\n",
            "Epoch 81/100\n",
            "121/121 [==============================] - 0s 4ms/step - loss: 1.5518e-06 - accuracy: 1.0000\n",
            "Epoch 82/100\n",
            "121/121 [==============================] - 0s 4ms/step - loss: 1.4541e-06 - accuracy: 1.0000\n",
            "Epoch 83/100\n",
            "121/121 [==============================] - 0s 4ms/step - loss: 1.3625e-06 - accuracy: 1.0000\n",
            "Epoch 84/100\n",
            "121/121 [==============================] - 0s 4ms/step - loss: 1.2773e-06 - accuracy: 1.0000\n",
            "Epoch 85/100\n",
            "121/121 [==============================] - 0s 4ms/step - loss: 1.1972e-06 - accuracy: 1.0000\n",
            "Epoch 86/100\n",
            "121/121 [==============================] - 1s 4ms/step - loss: 1.1210e-06 - accuracy: 1.0000\n",
            "Epoch 87/100\n",
            "121/121 [==============================] - 0s 4ms/step - loss: 1.0519e-06 - accuracy: 1.0000\n",
            "Epoch 88/100\n",
            "121/121 [==============================] - 1s 4ms/step - loss: 9.8557e-07 - accuracy: 1.0000\n",
            "Epoch 89/100\n",
            "121/121 [==============================] - 0s 4ms/step - loss: 9.2430e-07 - accuracy: 1.0000\n",
            "Epoch 90/100\n",
            "121/121 [==============================] - 1s 4ms/step - loss: 8.6616e-07 - accuracy: 1.0000\n",
            "Epoch 91/100\n",
            "121/121 [==============================] - 0s 4ms/step - loss: 8.1129e-07 - accuracy: 1.0000\n",
            "Epoch 92/100\n",
            "121/121 [==============================] - 1s 4ms/step - loss: 7.6093e-07 - accuracy: 1.0000\n",
            "Epoch 93/100\n",
            "121/121 [==============================] - 0s 4ms/step - loss: 7.1383e-07 - accuracy: 1.0000\n",
            "Epoch 94/100\n",
            "121/121 [==============================] - 0s 4ms/step - loss: 6.6931e-07 - accuracy: 1.0000\n",
            "Epoch 95/100\n",
            "121/121 [==============================] - 0s 4ms/step - loss: 6.2764e-07 - accuracy: 1.0000\n",
            "Epoch 96/100\n",
            "121/121 [==============================] - 0s 4ms/step - loss: 5.8782e-07 - accuracy: 1.0000\n",
            "Epoch 97/100\n",
            "121/121 [==============================] - 1s 4ms/step - loss: 5.5131e-07 - accuracy: 1.0000\n",
            "Epoch 98/100\n",
            "121/121 [==============================] - 0s 4ms/step - loss: 5.1842e-07 - accuracy: 1.0000\n",
            "Epoch 99/100\n",
            "121/121 [==============================] - 0s 4ms/step - loss: 4.8536e-07 - accuracy: 1.0000\n",
            "Epoch 100/100\n",
            "121/121 [==============================] - 0s 4ms/step - loss: 4.5557e-07 - accuracy: 1.0000\n",
            "31/31 [==============================] - 0s 3ms/step - loss: 0.2887 - accuracy: 0.9408\n",
            "Result: 93.65% (0.72%)\n"
          ]
        }
      ]
    },
    {
      "cell_type": "code",
      "metadata": {
        "colab": {
          "background_save": true,
          "base_uri": "https://localhost:8080/"
        },
        "id": "C02LOkjH-JVu",
        "outputId": "1fcb9d34-d308-4d00-dd19-c74ddf412ef2"
      },
      "source": [
        "from tensorflow.keras.models import Sequential\n",
        "from tensorflow.keras.layers import GRU, Dense, Dropout, Embedding, Masking,Flatten,GlobalAvgPool1D,GlobalMaxPool1D,Conv1D,LSTM,Bidirectional\n",
        "\n",
        "model_2=Sequential()\n",
        "model_2.add(\n",
        "    Embedding(\n",
        "        input_dim=1264,\n",
        "        input_length=1264,\n",
        "        output_dim=32,\n",
        "        trainable=False\n",
        "    )\n",
        ")\n",
        "\n",
        "model_2.add(Conv1D(32,5))\n",
        "model_2.add(LSTM(32,return_sequences=True))\n",
        "model_2.add(Attention(return_sequences=False))\n",
        "model_2.add(Flatten())\n",
        "model_2.add(Dense(32,activation=\"relu\"))\n",
        "model_2.add(Dense(8,activation=\"relu\"))\n",
        "model_2.add(Dense(5, activation='softmax'))\n",
        "\n",
        "model_2.compile(optimizer='adam', loss='sparse_categorical_crossentropy', metrics=['accuracy'])\n",
        "\n",
        "model_2.summary()"
      ],
      "execution_count": null,
      "outputs": [
        {
          "name": "stdout",
          "output_type": "stream",
          "text": [
            "Model: \"sequential_6\"\n",
            "_________________________________________________________________\n",
            "Layer (type)                 Output Shape              Param #   \n",
            "=================================================================\n",
            "embedding_1 (Embedding)      (None, 1264, 32)          40448     \n",
            "_________________________________________________________________\n",
            "conv1d_1 (Conv1D)            (None, 1260, 32)          5152      \n",
            "_________________________________________________________________\n",
            "lstm_1 (LSTM)                (None, 1260, 32)          8320      \n",
            "_________________________________________________________________\n",
            "attention (Attention)        (None, 32)                1292      \n",
            "_________________________________________________________________\n",
            "flatten (Flatten)            (None, 32)                0         \n",
            "_________________________________________________________________\n",
            "dense_10 (Dense)             (None, 32)                1056      \n",
            "_________________________________________________________________\n",
            "dense_11 (Dense)             (None, 8)                 264       \n",
            "_________________________________________________________________\n",
            "dense_12 (Dense)             (None, 5)                 45        \n",
            "=================================================================\n",
            "Total params: 56,577\n",
            "Trainable params: 16,129\n",
            "Non-trainable params: 40,448\n",
            "_________________________________________________________________\n"
          ]
        }
      ]
    },
    {
      "cell_type": "code",
      "metadata": {
        "id": "tizHG9EnJTgF"
      },
      "source": [
        "estimator = KerasClassifier(build_fn = baseline_model, epochs = 80, batch_size = 50, verbose = True)\n",
        "results = cross_val_score(estimator, X_train, y_train, cv = kfold )\n",
        "# # Result\n",
        "print(\"Result: %.2f%% (%.2f%%)\" % (results.mean()*100, results.std()*100))"
      ],
      "execution_count": null,
      "outputs": []
    },
    {
      "cell_type": "code",
      "metadata": {
        "colab": {
          "background_save": true,
          "base_uri": "https://localhost:8080/",
          "height": 371
        },
        "id": "k8JAU65cJYMQ",
        "outputId": "49db87ed-1109-4acc-d823-ffee7ed36d4b"
      },
      "source": [
        "history = model_2.fit(X_train, y_train,\n",
        "                    epochs=12,\n",
        "                    verbose=False,\n",
        "                    batch_size=50)\n",
        "loss, accuracy = model_2.evaluate(X_train, y_train, verbose=False)\n",
        "print(\"Training Accuracy: {:.4f}\".format(accuracy))\n",
        "loss, accuracy = model_2.evaluate(X_test, y_test, verbose=False)\n",
        "print(\"Testing Accuracy:  {:.4f}\".format(accuracy))\n",
        "plot_history(history)"
      ],
      "execution_count": null,
      "outputs": [
        {
          "name": "stdout",
          "output_type": "stream",
          "text": [
            "Epoch 1/20\n",
            "151/151 [==============================] - 0s 3ms/step - loss: 0.6258 - accuracy: 0.7448\n",
            "Epoch 2/20\n",
            "151/151 [==============================] - 0s 3ms/step - loss: 0.5775 - accuracy: 0.7692\n",
            "Epoch 3/20\n",
            "151/151 [==============================] - 0s 3ms/step - loss: 0.5796 - accuracy: 0.7693\n",
            "Epoch 4/20\n",
            "151/151 [==============================] - 0s 3ms/step - loss: 0.5916 - accuracy: 0.7648\n",
            "Epoch 5/20\n",
            "151/151 [==============================] - 0s 3ms/step - loss: 0.5792 - accuracy: 0.7671\n",
            "Epoch 6/20\n",
            "151/151 [==============================] - 0s 3ms/step - loss: 0.5737 - accuracy: 0.7742\n",
            "Epoch 7/20\n",
            "151/151 [==============================] - 0s 3ms/step - loss: 0.5299 - accuracy: 0.7922\n",
            "Epoch 8/20\n",
            "151/151 [==============================] - 0s 3ms/step - loss: 0.4982 - accuracy: 0.8080\n",
            "Epoch 9/20\n",
            "151/151 [==============================] - 0s 3ms/step - loss: 0.4827 - accuracy: 0.8098\n",
            "Epoch 10/20\n",
            "151/151 [==============================] - 0s 3ms/step - loss: 0.5298 - accuracy: 0.7860\n",
            "Epoch 11/20\n",
            "151/151 [==============================] - 0s 3ms/step - loss: 0.5003 - accuracy: 0.7975\n",
            "Epoch 12/20\n",
            "151/151 [==============================] - 0s 3ms/step - loss: 0.5231 - accuracy: 0.7923\n",
            "Epoch 13/20\n",
            "151/151 [==============================] - 0s 3ms/step - loss: 0.4802 - accuracy: 0.8162\n",
            "Epoch 14/20\n",
            "151/151 [==============================] - 0s 3ms/step - loss: 0.4668 - accuracy: 0.8168\n",
            "Epoch 15/20\n",
            "151/151 [==============================] - 0s 3ms/step - loss: 0.4549 - accuracy: 0.8205\n",
            "Epoch 16/20\n",
            "151/151 [==============================] - 0s 3ms/step - loss: 0.4350 - accuracy: 0.8300\n",
            "Epoch 17/20\n",
            "151/151 [==============================] - 0s 3ms/step - loss: 0.4467 - accuracy: 0.8228\n",
            "Epoch 18/20\n",
            "151/151 [==============================] - 0s 3ms/step - loss: 0.4323 - accuracy: 0.8325\n",
            "Epoch 19/20\n",
            "151/151 [==============================] - 0s 3ms/step - loss: 0.4319 - accuracy: 0.8349\n",
            "Epoch 20/20\n",
            "151/151 [==============================] - 0s 3ms/step - loss: 0.4306 - accuracy: 0.8338\n",
            "235/235 [==============================] - 0s 2ms/step - loss: 0.2134 - accuracy: 0.9347\n",
            "Training Accuracy: 0.9347\n",
            "59/59 [==============================] - 0s 2ms/step - loss: 0.3894 - accuracy: 0.8580\n",
            "Testing Accuracy:  0.8580\n"
          ]
        }
      ]
    },
    {
      "cell_type": "code",
      "metadata": {
        "colab": {
          "background_save": true,
          "base_uri": "https://localhost:8080/"
        },
        "id": "0S97-ZDoWZYY",
        "outputId": "d9c94ce9-6692-448c-e412-4ddd4051b4d8"
      },
      "source": [
        "  from tensorflow.keras.models import Sequential\n",
        "  from tensorflow.keras.layers import GRU, Dense, Dropout, Embedding, Masking,Flatten,GlobalAvgPool1D,GlobalMaxPool1D,Conv1D,LSTM,Bidirectional, MaxPooling1D\n",
        "  from keras.layers import SpatialDropout1D\n",
        "\n",
        "\n",
        "  model=Sequential()\n",
        "  model.add(Dense(1264, input_dim=1264, activation='relu'))\n",
        "  # model.add(Dense(800, activation='relu'))\n",
        "  model.add(Dense(6, activation='softmax'))\n",
        "\n",
        "  model.compile(optimizer='adam', loss='sparse_categorical_crossentropy', metrics=['accuracy'])\n",
        "  model.summary()\n",
        "  # return model\n",
        "\n",
        "  # model.summary()"
      ],
      "execution_count": null,
      "outputs": [
        {
          "name": "stdout",
          "output_type": "stream",
          "text": [
            "Model: \"sequential_4\"\n",
            "_________________________________________________________________\n",
            "Layer (type)                 Output Shape              Param #   \n",
            "=================================================================\n",
            "dense_7 (Dense)              (None, 1264)              1598960   \n",
            "_________________________________________________________________\n",
            "dense_8 (Dense)              (None, 6)                 7590      \n",
            "=================================================================\n",
            "Total params: 1,606,550\n",
            "Trainable params: 1,606,550\n",
            "Non-trainable params: 0\n",
            "_________________________________________________________________\n"
          ]
        }
      ]
    },
    {
      "cell_type": "code",
      "metadata": {
        "colab": {
          "background_save": true,
          "base_uri": "https://localhost:8080/"
        },
        "id": "9BX3-mxEe3Xc",
        "outputId": "6defd516-9e8a-4e2a-a962-f509e6a1f5a7"
      },
      "source": [
        "history = model.fit(X_train, y_train,\n",
        "                    epochs=1,\n",
        "                    verbose=False,\n",
        "                    batch_size=50)\n",
        "loss, accuracy = model.evaluate(X_train, y_train, verbose=False)\n",
        "print(\"Training Accuracy: {:.4f}\".format(accuracy))\n",
        "loss, accuracy = model.evaluate(X_test, y_test, verbose=False)\n",
        "print(\"Testing Accuracy:  {:.4f}\".format(accuracy))\n",
        "# plot_history(history)"
      ],
      "execution_count": null,
      "outputs": [
        {
          "name": "stdout",
          "output_type": "stream",
          "text": [
            "Training Accuracy: 0.7515\n",
            "Testing Accuracy:  0.7122\n"
          ]
        }
      ]
    },
    {
      "cell_type": "code",
      "metadata": {
        "colab": {
          "background_save": true
        },
        "id": "CaW5g5KwfOdc",
        "outputId": "634ea5c8-ed4e-46c8-e413-bdc24acfbe49"
      },
      "source": [
        "  from tensorflow.keras.models import Sequential\n",
        "  from tensorflow.keras.layers import GRU, Dense, Dropout, Embedding, Masking,Flatten,GlobalAvgPool1D,GlobalMaxPool1D,Conv1D,LSTM,Bidirectional, MaxPooling1D\n",
        "  from keras.layers import SpatialDropout1D\n",
        "\n",
        "\n",
        "  model=Sequential()\n",
        "  model.add(Conv1D(filters=1264, kernel_size=3, activation='relu', input_shape=(X_train.shape[1],X_train.shape[2])))\n",
        "  model.add(Dense(1264, input_dim=1264, activation='relu'))\n",
        "  # model.add(Dense(800, activation='relu'))\n",
        "  model.add(Dense(y_train.shape[1], activation='softmax'))\n",
        "\n",
        "  model.compile(optimizer='adam', loss='sparse_categorical_crossentropy', metrics=['accuracy'])\n",
        "  model.summary()\n",
        "  # return model\n",
        "\n",
        "  # model.summary()"
      ],
      "execution_count": null,
      "outputs": [
        {
          "name": "stdout",
          "output_type": "stream",
          "text": [
            "Model: \"sequential_12\"\n",
            "_________________________________________________________________\n",
            "Layer (type)                 Output Shape              Param #   \n",
            "=================================================================\n",
            "embedding (Embedding)        (None, 1264, 32)          40448     \n",
            "_________________________________________________________________\n",
            "conv1d_4 (Conv1D)            (None, 1260, 32)          5152      \n",
            "_________________________________________________________________\n",
            "dense_14 (Dense)             (None, 1260, 32)          1056      \n",
            "_________________________________________________________________\n",
            "dense_15 (Dense)             (None, 1260, 5)           165       \n",
            "=================================================================\n",
            "Total params: 46,821\n",
            "Trainable params: 6,373\n",
            "Non-trainable params: 40,448\n",
            "_________________________________________________________________\n"
          ]
        }
      ]
    }
  ]
}
{
  "nbformat": 4,
  "nbformat_minor": 0,
  "metadata": {
    "colab": {
      "name": "speech-emotion-recognition.ipynb",
      "provenance": [],
      "collapsed_sections": [],
      "authorship_tag": "ABX9TyMYaLW06Oa01HTwoGoIs18O"
    },
    "kernelspec": {
      "name": "python3",
      "display_name": "Python 3"
    },
    "language_info": {
      "name": "python"
    }
  },
  "cells": [
    {
      "cell_type": "code",
      "metadata": {
        "colab": {
          "base_uri": "https://localhost:8080/"
        },
        "id": "lVW9poW3QDgt",
        "outputId": "a2db393e-9543-4ad3-e4f5-dfb6e7be04fe"
      },
      "source": [
        "!pip install opensmile"
      ],
      "execution_count": 1,
      "outputs": [
        {
          "output_type": "stream",
          "text": [
            "Collecting opensmile\n",
            "  Downloading opensmile-2.2.0-py3-none-any.whl (4.9 MB)\n",
            "\u001b[K     |████████████████████████████████| 4.9 MB 7.9 MB/s \n",
            "\u001b[?25hCollecting audinterface<0.9.0,>=0.7.0\n",
            "  Downloading audinterface-0.7.0-py3-none-any.whl (21 kB)\n",
            "Collecting audobject<0.6.0,>=0.4.6\n",
            "  Downloading audobject-0.4.14-py3-none-any.whl (17 kB)\n",
            "Collecting audformat<2.0.0,>=0.10.1\n",
            "  Downloading audformat-0.11.3-py3-none-any.whl (43 kB)\n",
            "\u001b[K     |████████████████████████████████| 43 kB 1.4 MB/s \n",
            "\u001b[?25hCollecting audresample<0.3.0,>=0.1.6\n",
            "  Downloading audresample-0.1.6-py3-none-any.whl (635 kB)\n",
            "\u001b[K     |████████████████████████████████| 635 kB 50.6 MB/s \n",
            "\u001b[?25hCollecting audiofile<1.0.0,>=0.4.0\n",
            "  Downloading audiofile-0.4.3-py3-none-any.whl (9.5 kB)\n",
            "Collecting audeer<2.0.0,>=1.8.0\n",
            "  Downloading audeer-1.16.0-py3-none-any.whl (14 kB)\n",
            "Requirement already satisfied: pandas>=1.1.5 in /usr/local/lib/python3.7/dist-packages (from audformat<2.0.0,>=0.10.1->audinterface<0.9.0,>=0.7.0->opensmile) (1.1.5)\n",
            "Collecting oyaml\n",
            "  Downloading oyaml-1.0-py2.py3-none-any.whl (3.0 kB)\n",
            "Collecting iso-639\n",
            "  Downloading iso-639-0.4.5.tar.gz (167 kB)\n",
            "\u001b[K     |████████████████████████████████| 167 kB 70.5 MB/s \n",
            "\u001b[?25hRequirement already satisfied: tqdm in /usr/local/lib/python3.7/dist-packages (from audeer<2.0.0,>=1.8.0->audformat<2.0.0,>=0.10.1->audinterface<0.9.0,>=0.7.0->opensmile) (4.41.1)\n",
            "Requirement already satisfied: soundfile in /usr/local/lib/python3.7/dist-packages (from audiofile<1.0.0,>=0.4.0->audformat<2.0.0,>=0.10.1->audinterface<0.9.0,>=0.7.0->opensmile) (0.10.3.post1)\n",
            "Requirement already satisfied: numpy in /usr/local/lib/python3.7/dist-packages (from audiofile<1.0.0,>=0.4.0->audformat<2.0.0,>=0.10.1->audinterface<0.9.0,>=0.7.0->opensmile) (1.19.5)\n",
            "Collecting sox\n",
            "  Downloading sox-1.4.1-py2.py3-none-any.whl (39 kB)\n",
            "Requirement already satisfied: pytz>=2017.2 in /usr/local/lib/python3.7/dist-packages (from pandas>=1.1.5->audformat<2.0.0,>=0.10.1->audinterface<0.9.0,>=0.7.0->opensmile) (2018.9)\n",
            "Requirement already satisfied: python-dateutil>=2.7.3 in /usr/local/lib/python3.7/dist-packages (from pandas>=1.1.5->audformat<2.0.0,>=0.10.1->audinterface<0.9.0,>=0.7.0->opensmile) (2.8.1)\n",
            "Requirement already satisfied: six>=1.5 in /usr/local/lib/python3.7/dist-packages (from python-dateutil>=2.7.3->pandas>=1.1.5->audformat<2.0.0,>=0.10.1->audinterface<0.9.0,>=0.7.0->opensmile) (1.15.0)\n",
            "Requirement already satisfied: pyyaml in /usr/local/lib/python3.7/dist-packages (from oyaml->audformat<2.0.0,>=0.10.1->audinterface<0.9.0,>=0.7.0->opensmile) (3.13)\n",
            "Requirement already satisfied: cffi>=1.0 in /usr/local/lib/python3.7/dist-packages (from soundfile->audiofile<1.0.0,>=0.4.0->audformat<2.0.0,>=0.10.1->audinterface<0.9.0,>=0.7.0->opensmile) (1.14.6)\n",
            "Requirement already satisfied: pycparser in /usr/local/lib/python3.7/dist-packages (from cffi>=1.0->soundfile->audiofile<1.0.0,>=0.4.0->audformat<2.0.0,>=0.10.1->audinterface<0.9.0,>=0.7.0->opensmile) (2.20)\n",
            "Building wheels for collected packages: iso-639\n",
            "  Building wheel for iso-639 (setup.py) ... \u001b[?25l\u001b[?25hdone\n",
            "  Created wheel for iso-639: filename=iso_639-0.4.5-py3-none-any.whl size=169062 sha256=48ac1c166f634a5f7f6b06d4c7b77db1dea9f10bf24914af3e816bf52352e82a\n",
            "  Stored in directory: /root/.cache/pip/wheels/47/60/19/6d020fc92138ed1b113a18271e83ea4b5525fe770cb45b9a2e\n",
            "Successfully built iso-639\n",
            "Installing collected packages: sox, audeer, oyaml, iso-639, audiofile, audresample, audformat, audobject, audinterface, opensmile\n",
            "Successfully installed audeer-1.16.0 audformat-0.11.3 audinterface-0.7.0 audiofile-0.4.3 audobject-0.4.14 audresample-0.1.6 iso-639-0.4.5 opensmile-2.2.0 oyaml-1.0 sox-1.4.1\n"
          ],
          "name": "stdout"
        }
      ]
    },
    {
      "cell_type": "code",
      "metadata": {
        "colab": {
          "base_uri": "https://localhost:8080/"
        },
        "id": "z6sV0dYzQ7M4",
        "outputId": "0ae7689a-c1d2-40e1-8cc3-e85ef43ee850"
      },
      "source": [
        "!pip install sox"
      ],
      "execution_count": 2,
      "outputs": [
        {
          "output_type": "stream",
          "text": [
            "Requirement already satisfied: sox in /usr/local/lib/python3.7/dist-packages (1.4.1)\n",
            "Requirement already satisfied: numpy>=1.9.0 in /usr/local/lib/python3.7/dist-packages (from sox) (1.19.5)\n"
          ],
          "name": "stdout"
        }
      ]
    },
    {
      "cell_type": "code",
      "metadata": {
        "id": "Ut0wfn2LQFF3"
      },
      "source": [
        "import opensmile\n",
        "\n",
        "smile = opensmile.Smile(\n",
        "    feature_set = opensmile.FeatureSet.eGeMAPSv02,\n",
        "    feature_level = opensmile.FeatureLevel.Functionals,\n",
        ")\n",
        "y = smile.process_file('SF1_F4_H04.wav')"
      ],
      "execution_count": 7,
      "outputs": []
    },
    {
      "cell_type": "code",
      "metadata": {
        "id": "HrDRjCZ0kCT1"
      },
      "source": [
        ""
      ],
      "execution_count": 7,
      "outputs": []
    },
    {
      "cell_type": "code",
      "metadata": {
        "colab": {
          "base_uri": "https://localhost:8080/",
          "height": 194
        },
        "id": "2SpzNY_FQoH7",
        "outputId": "aefd35a1-45f4-4241-cc16-d53956d1d942"
      },
      "source": [
        "y"
      ],
      "execution_count": 8,
      "outputs": [
        {
          "output_type": "execute_result",
          "data": {
            "text/html": [
              "<div>\n",
              "<style scoped>\n",
              "    .dataframe tbody tr th:only-of-type {\n",
              "        vertical-align: middle;\n",
              "    }\n",
              "\n",
              "    .dataframe tbody tr th {\n",
              "        vertical-align: top;\n",
              "    }\n",
              "\n",
              "    .dataframe thead th {\n",
              "        text-align: right;\n",
              "    }\n",
              "</style>\n",
              "<table border=\"1\" class=\"dataframe\">\n",
              "  <thead>\n",
              "    <tr style=\"text-align: right;\">\n",
              "      <th></th>\n",
              "      <th></th>\n",
              "      <th></th>\n",
              "      <th>F0semitoneFrom27.5Hz_sma3nz_amean</th>\n",
              "      <th>F0semitoneFrom27.5Hz_sma3nz_stddevNorm</th>\n",
              "      <th>F0semitoneFrom27.5Hz_sma3nz_percentile20.0</th>\n",
              "      <th>F0semitoneFrom27.5Hz_sma3nz_percentile50.0</th>\n",
              "      <th>F0semitoneFrom27.5Hz_sma3nz_percentile80.0</th>\n",
              "      <th>F0semitoneFrom27.5Hz_sma3nz_pctlrange0-2</th>\n",
              "      <th>F0semitoneFrom27.5Hz_sma3nz_meanRisingSlope</th>\n",
              "      <th>F0semitoneFrom27.5Hz_sma3nz_stddevRisingSlope</th>\n",
              "      <th>F0semitoneFrom27.5Hz_sma3nz_meanFallingSlope</th>\n",
              "      <th>F0semitoneFrom27.5Hz_sma3nz_stddevFallingSlope</th>\n",
              "      <th>loudness_sma3_amean</th>\n",
              "      <th>loudness_sma3_stddevNorm</th>\n",
              "      <th>loudness_sma3_percentile20.0</th>\n",
              "      <th>loudness_sma3_percentile50.0</th>\n",
              "      <th>loudness_sma3_percentile80.0</th>\n",
              "      <th>loudness_sma3_pctlrange0-2</th>\n",
              "      <th>loudness_sma3_meanRisingSlope</th>\n",
              "      <th>loudness_sma3_stddevRisingSlope</th>\n",
              "      <th>loudness_sma3_meanFallingSlope</th>\n",
              "      <th>loudness_sma3_stddevFallingSlope</th>\n",
              "      <th>spectralFlux_sma3_amean</th>\n",
              "      <th>spectralFlux_sma3_stddevNorm</th>\n",
              "      <th>mfcc1_sma3_amean</th>\n",
              "      <th>mfcc1_sma3_stddevNorm</th>\n",
              "      <th>mfcc2_sma3_amean</th>\n",
              "      <th>mfcc2_sma3_stddevNorm</th>\n",
              "      <th>mfcc3_sma3_amean</th>\n",
              "      <th>mfcc3_sma3_stddevNorm</th>\n",
              "      <th>mfcc4_sma3_amean</th>\n",
              "      <th>mfcc4_sma3_stddevNorm</th>\n",
              "      <th>jitterLocal_sma3nz_amean</th>\n",
              "      <th>jitterLocal_sma3nz_stddevNorm</th>\n",
              "      <th>shimmerLocaldB_sma3nz_amean</th>\n",
              "      <th>shimmerLocaldB_sma3nz_stddevNorm</th>\n",
              "      <th>HNRdBACF_sma3nz_amean</th>\n",
              "      <th>HNRdBACF_sma3nz_stddevNorm</th>\n",
              "      <th>logRelF0-H1-H2_sma3nz_amean</th>\n",
              "      <th>logRelF0-H1-H2_sma3nz_stddevNorm</th>\n",
              "      <th>logRelF0-H1-A3_sma3nz_amean</th>\n",
              "      <th>logRelF0-H1-A3_sma3nz_stddevNorm</th>\n",
              "      <th>...</th>\n",
              "      <th>F2bandwidth_sma3nz_amean</th>\n",
              "      <th>F2bandwidth_sma3nz_stddevNorm</th>\n",
              "      <th>F2amplitudeLogRelF0_sma3nz_amean</th>\n",
              "      <th>F2amplitudeLogRelF0_sma3nz_stddevNorm</th>\n",
              "      <th>F3frequency_sma3nz_amean</th>\n",
              "      <th>F3frequency_sma3nz_stddevNorm</th>\n",
              "      <th>F3bandwidth_sma3nz_amean</th>\n",
              "      <th>F3bandwidth_sma3nz_stddevNorm</th>\n",
              "      <th>F3amplitudeLogRelF0_sma3nz_amean</th>\n",
              "      <th>F3amplitudeLogRelF0_sma3nz_stddevNorm</th>\n",
              "      <th>alphaRatioV_sma3nz_amean</th>\n",
              "      <th>alphaRatioV_sma3nz_stddevNorm</th>\n",
              "      <th>hammarbergIndexV_sma3nz_amean</th>\n",
              "      <th>hammarbergIndexV_sma3nz_stddevNorm</th>\n",
              "      <th>slopeV0-500_sma3nz_amean</th>\n",
              "      <th>slopeV0-500_sma3nz_stddevNorm</th>\n",
              "      <th>slopeV500-1500_sma3nz_amean</th>\n",
              "      <th>slopeV500-1500_sma3nz_stddevNorm</th>\n",
              "      <th>spectralFluxV_sma3nz_amean</th>\n",
              "      <th>spectralFluxV_sma3nz_stddevNorm</th>\n",
              "      <th>mfcc1V_sma3nz_amean</th>\n",
              "      <th>mfcc1V_sma3nz_stddevNorm</th>\n",
              "      <th>mfcc2V_sma3nz_amean</th>\n",
              "      <th>mfcc2V_sma3nz_stddevNorm</th>\n",
              "      <th>mfcc3V_sma3nz_amean</th>\n",
              "      <th>mfcc3V_sma3nz_stddevNorm</th>\n",
              "      <th>mfcc4V_sma3nz_amean</th>\n",
              "      <th>mfcc4V_sma3nz_stddevNorm</th>\n",
              "      <th>alphaRatioUV_sma3nz_amean</th>\n",
              "      <th>hammarbergIndexUV_sma3nz_amean</th>\n",
              "      <th>slopeUV0-500_sma3nz_amean</th>\n",
              "      <th>slopeUV500-1500_sma3nz_amean</th>\n",
              "      <th>spectralFluxUV_sma3nz_amean</th>\n",
              "      <th>loudnessPeaksPerSec</th>\n",
              "      <th>VoicedSegmentsPerSec</th>\n",
              "      <th>MeanVoicedSegmentLengthSec</th>\n",
              "      <th>StddevVoicedSegmentLengthSec</th>\n",
              "      <th>MeanUnvoicedSegmentLength</th>\n",
              "      <th>StddevUnvoicedSegmentLength</th>\n",
              "      <th>equivalentSoundLevel_dBp</th>\n",
              "    </tr>\n",
              "    <tr>\n",
              "      <th>file</th>\n",
              "      <th>start</th>\n",
              "      <th>end</th>\n",
              "      <th></th>\n",
              "      <th></th>\n",
              "      <th></th>\n",
              "      <th></th>\n",
              "      <th></th>\n",
              "      <th></th>\n",
              "      <th></th>\n",
              "      <th></th>\n",
              "      <th></th>\n",
              "      <th></th>\n",
              "      <th></th>\n",
              "      <th></th>\n",
              "      <th></th>\n",
              "      <th></th>\n",
              "      <th></th>\n",
              "      <th></th>\n",
              "      <th></th>\n",
              "      <th></th>\n",
              "      <th></th>\n",
              "      <th></th>\n",
              "      <th></th>\n",
              "      <th></th>\n",
              "      <th></th>\n",
              "      <th></th>\n",
              "      <th></th>\n",
              "      <th></th>\n",
              "      <th></th>\n",
              "      <th></th>\n",
              "      <th></th>\n",
              "      <th></th>\n",
              "      <th></th>\n",
              "      <th></th>\n",
              "      <th></th>\n",
              "      <th></th>\n",
              "      <th></th>\n",
              "      <th></th>\n",
              "      <th></th>\n",
              "      <th></th>\n",
              "      <th></th>\n",
              "      <th></th>\n",
              "      <th></th>\n",
              "      <th></th>\n",
              "      <th></th>\n",
              "      <th></th>\n",
              "      <th></th>\n",
              "      <th></th>\n",
              "      <th></th>\n",
              "      <th></th>\n",
              "      <th></th>\n",
              "      <th></th>\n",
              "      <th></th>\n",
              "      <th></th>\n",
              "      <th></th>\n",
              "      <th></th>\n",
              "      <th></th>\n",
              "      <th></th>\n",
              "      <th></th>\n",
              "      <th></th>\n",
              "      <th></th>\n",
              "      <th></th>\n",
              "      <th></th>\n",
              "      <th></th>\n",
              "      <th></th>\n",
              "      <th></th>\n",
              "      <th></th>\n",
              "      <th></th>\n",
              "      <th></th>\n",
              "      <th></th>\n",
              "      <th></th>\n",
              "      <th></th>\n",
              "      <th></th>\n",
              "      <th></th>\n",
              "      <th></th>\n",
              "      <th></th>\n",
              "      <th></th>\n",
              "      <th></th>\n",
              "      <th></th>\n",
              "      <th></th>\n",
              "      <th></th>\n",
              "      <th></th>\n",
              "      <th></th>\n",
              "    </tr>\n",
              "  </thead>\n",
              "  <tbody>\n",
              "    <tr>\n",
              "      <th>SF1_F4_H04.wav</th>\n",
              "      <th>0 days</th>\n",
              "      <th>0 days 00:00:03.003537415</th>\n",
              "      <td>38.405556</td>\n",
              "      <td>0.172269</td>\n",
              "      <td>38.323746</td>\n",
              "      <td>40.218811</td>\n",
              "      <td>41.999107</td>\n",
              "      <td>3.675362</td>\n",
              "      <td>170.681381</td>\n",
              "      <td>182.730286</td>\n",
              "      <td>140.323013</td>\n",
              "      <td>126.862617</td>\n",
              "      <td>1.881243</td>\n",
              "      <td>0.446914</td>\n",
              "      <td>1.044443</td>\n",
              "      <td>1.847605</td>\n",
              "      <td>2.720934</td>\n",
              "      <td>1.676491</td>\n",
              "      <td>27.438162</td>\n",
              "      <td>11.884037</td>\n",
              "      <td>21.359598</td>\n",
              "      <td>6.25493</td>\n",
              "      <td>1.679594</td>\n",
              "      <td>0.476572</td>\n",
              "      <td>27.952021</td>\n",
              "      <td>0.257542</td>\n",
              "      <td>1.76265</td>\n",
              "      <td>7.950895</td>\n",
              "      <td>17.401287</td>\n",
              "      <td>0.845339</td>\n",
              "      <td>-16.517868</td>\n",
              "      <td>-0.941299</td>\n",
              "      <td>0.053567</td>\n",
              "      <td>2.419429</td>\n",
              "      <td>1.161531</td>\n",
              "      <td>0.856238</td>\n",
              "      <td>8.770727</td>\n",
              "      <td>0.500951</td>\n",
              "      <td>14.969993</td>\n",
              "      <td>1.184748</td>\n",
              "      <td>17.244497</td>\n",
              "      <td>0.646008</td>\n",
              "      <td>...</td>\n",
              "      <td>840.566772</td>\n",
              "      <td>0.466743</td>\n",
              "      <td>-28.960745</td>\n",
              "      <td>-0.80491</td>\n",
              "      <td>2627.063477</td>\n",
              "      <td>0.073599</td>\n",
              "      <td>945.605652</td>\n",
              "      <td>0.70845</td>\n",
              "      <td>-29.046642</td>\n",
              "      <td>-0.773011</td>\n",
              "      <td>-16.50194</td>\n",
              "      <td>-0.46297</td>\n",
              "      <td>23.374123</td>\n",
              "      <td>0.389177</td>\n",
              "      <td>-0.005945</td>\n",
              "      <td>-4.674396</td>\n",
              "      <td>-0.029439</td>\n",
              "      <td>-0.388152</td>\n",
              "      <td>1.666835</td>\n",
              "      <td>0.45816</td>\n",
              "      <td>28.167152</td>\n",
              "      <td>0.258603</td>\n",
              "      <td>2.062925</td>\n",
              "      <td>6.698185</td>\n",
              "      <td>18.190153</td>\n",
              "      <td>0.78692</td>\n",
              "      <td>-16.010387</td>\n",
              "      <td>-0.933251</td>\n",
              "      <td>-20.650284</td>\n",
              "      <td>28.033886</td>\n",
              "      <td>-0.006272</td>\n",
              "      <td>-0.033557</td>\n",
              "      <td>2.096122</td>\n",
              "      <td>6.020067</td>\n",
              "      <td>1.034483</td>\n",
              "      <td>0.94</td>\n",
              "      <td>1.072598</td>\n",
              "      <td>0.02</td>\n",
              "      <td>0.0</td>\n",
              "      <td>-17.809086</td>\n",
              "    </tr>\n",
              "  </tbody>\n",
              "</table>\n",
              "<p>1 rows × 88 columns</p>\n",
              "</div>"
            ],
            "text/plain": [
              "                                                 F0semitoneFrom27.5Hz_sma3nz_amean  ...  equivalentSoundLevel_dBp\n",
              "file           start  end                                                           ...                          \n",
              "SF1_F4_H04.wav 0 days 0 days 00:00:03.003537415                          38.405556  ...                -17.809086\n",
              "\n",
              "[1 rows x 88 columns]"
            ]
          },
          "metadata": {
            "tags": []
          },
          "execution_count": 8
        }
      ]
    },
    {
      "cell_type": "code",
      "metadata": {
        "colab": {
          "base_uri": "https://localhost:8080/"
        },
        "id": "37rhVyttQ_0K",
        "outputId": "76677771-f358-4bc5-97f2-9e3cda5f113e"
      },
      "source": [
        "y.shape"
      ],
      "execution_count": 9,
      "outputs": [
        {
          "output_type": "execute_result",
          "data": {
            "text/plain": [
              "(1, 88)"
            ]
          },
          "metadata": {
            "tags": []
          },
          "execution_count": 9
        }
      ]
    },
    {
      "cell_type": "code",
      "metadata": {
        "colab": {
          "base_uri": "https://localhost:8080/"
        },
        "id": "89ZMW0X6kBOC",
        "outputId": "9612ca59-7512-47a4-cf00-4a244ef0e1ff"
      },
      "source": [
        "y.columns.array"
      ],
      "execution_count": 17,
      "outputs": [
        {
          "output_type": "execute_result",
          "data": {
            "text/plain": [
              "<PandasArray>\n",
              "[        'audspec_lengthL1norm_sma_range',\n",
              "        'audspec_lengthL1norm_sma_maxPos',\n",
              "        'audspec_lengthL1norm_sma_minPos',\n",
              "     'audspec_lengthL1norm_sma_quartile1',\n",
              "     'audspec_lengthL1norm_sma_quartile2',\n",
              "     'audspec_lengthL1norm_sma_quartile3',\n",
              "        'audspec_lengthL1norm_sma_iqr1-2',\n",
              "        'audspec_lengthL1norm_sma_iqr2-3',\n",
              "        'audspec_lengthL1norm_sma_iqr1-3',\n",
              " 'audspec_lengthL1norm_sma_percentile1.0',\n",
              " ...\n",
              "           'mfcc_sma_de[14]_peakRangeAbs',\n",
              "           'mfcc_sma_de[14]_peakRangeRel',\n",
              "            'mfcc_sma_de[14]_peakMeanAbs',\n",
              "       'mfcc_sma_de[14]_peakMeanMeanDist',\n",
              "            'mfcc_sma_de[14]_peakMeanRel',\n",
              "            'mfcc_sma_de[14]_minRangeRel',\n",
              "        'mfcc_sma_de[14]_meanRisingSlope',\n",
              "      'mfcc_sma_de[14]_stddevRisingSlope',\n",
              "       'mfcc_sma_de[14]_meanFallingSlope',\n",
              "     'mfcc_sma_de[14]_stddevFallingSlope']\n",
              "Length: 6373, dtype: object"
            ]
          },
          "metadata": {
            "tags": []
          },
          "execution_count": 17
        }
      ]
    },
    {
      "cell_type": "code",
      "metadata": {
        "colab": {
          "base_uri": "https://localhost:8080/",
          "height": 481
        },
        "id": "JNtL-PCWRFsO",
        "outputId": "85f9e2ef-310b-47e9-8790-37eb21ca99c9"
      },
      "source": [
        "y.T"
      ],
      "execution_count": null,
      "outputs": [
        {
          "output_type": "execute_result",
          "data": {
            "text/html": [
              "<div>\n",
              "<style scoped>\n",
              "    .dataframe tbody tr th:only-of-type {\n",
              "        vertical-align: middle;\n",
              "    }\n",
              "\n",
              "    .dataframe tbody tr th {\n",
              "        vertical-align: top;\n",
              "    }\n",
              "\n",
              "    .dataframe thead tr th {\n",
              "        text-align: left;\n",
              "    }\n",
              "</style>\n",
              "<table border=\"1\" class=\"dataframe\">\n",
              "  <thead>\n",
              "    <tr>\n",
              "      <th>file</th>\n",
              "      <th>SF1_F4_H04.wav</th>\n",
              "    </tr>\n",
              "    <tr>\n",
              "      <th>start</th>\n",
              "      <th>0 days</th>\n",
              "    </tr>\n",
              "    <tr>\n",
              "      <th>end</th>\n",
              "      <th>0 days 00:00:03.003537415</th>\n",
              "    </tr>\n",
              "  </thead>\n",
              "  <tbody>\n",
              "    <tr>\n",
              "      <th>audspec_lengthL1norm_sma_range</th>\n",
              "      <td>3.416515</td>\n",
              "    </tr>\n",
              "    <tr>\n",
              "      <th>audspec_lengthL1norm_sma_maxPos</th>\n",
              "      <td>0.897611</td>\n",
              "    </tr>\n",
              "    <tr>\n",
              "      <th>audspec_lengthL1norm_sma_minPos</th>\n",
              "      <td>0.051195</td>\n",
              "    </tr>\n",
              "    <tr>\n",
              "      <th>audspec_lengthL1norm_sma_quartile1</th>\n",
              "      <td>1.188049</td>\n",
              "    </tr>\n",
              "    <tr>\n",
              "      <th>audspec_lengthL1norm_sma_quartile2</th>\n",
              "      <td>1.807189</td>\n",
              "    </tr>\n",
              "    <tr>\n",
              "      <th>...</th>\n",
              "      <td>...</td>\n",
              "    </tr>\n",
              "    <tr>\n",
              "      <th>mfcc_sma_de[14]_minRangeRel</th>\n",
              "      <td>0.441794</td>\n",
              "    </tr>\n",
              "    <tr>\n",
              "      <th>mfcc_sma_de[14]_meanRisingSlope</th>\n",
              "      <td>130.060120</td>\n",
              "    </tr>\n",
              "    <tr>\n",
              "      <th>mfcc_sma_de[14]_stddevRisingSlope</th>\n",
              "      <td>77.010063</td>\n",
              "    </tr>\n",
              "    <tr>\n",
              "      <th>mfcc_sma_de[14]_meanFallingSlope</th>\n",
              "      <td>119.676903</td>\n",
              "    </tr>\n",
              "    <tr>\n",
              "      <th>mfcc_sma_de[14]_stddevFallingSlope</th>\n",
              "      <td>61.117722</td>\n",
              "    </tr>\n",
              "  </tbody>\n",
              "</table>\n",
              "<p>6373 rows × 1 columns</p>\n",
              "</div>"
            ],
            "text/plain": [
              "file                                          SF1_F4_H04.wav\n",
              "start                                                 0 days\n",
              "end                                0 days 00:00:03.003537415\n",
              "audspec_lengthL1norm_sma_range                      3.416515\n",
              "audspec_lengthL1norm_sma_maxPos                     0.897611\n",
              "audspec_lengthL1norm_sma_minPos                     0.051195\n",
              "audspec_lengthL1norm_sma_quartile1                  1.188049\n",
              "audspec_lengthL1norm_sma_quartile2                  1.807189\n",
              "...                                                      ...\n",
              "mfcc_sma_de[14]_minRangeRel                         0.441794\n",
              "mfcc_sma_de[14]_meanRisingSlope                   130.060120\n",
              "mfcc_sma_de[14]_stddevRisingSlope                  77.010063\n",
              "mfcc_sma_de[14]_meanFallingSlope                  119.676903\n",
              "mfcc_sma_de[14]_stddevFallingSlope                 61.117722\n",
              "\n",
              "[6373 rows x 1 columns]"
            ]
          },
          "metadata": {
            "tags": []
          },
          "execution_count": 12
        }
      ]
    },
    {
      "cell_type": "code",
      "metadata": {
        "colab": {
          "base_uri": "https://localhost:8080/"
        },
        "id": "6tCFjRMLnB1d",
        "outputId": "931d7371-1eaa-4815-bb94-fb24a7246494"
      },
      "source": [
        "!pip install skfeature-chappers"
      ],
      "execution_count": 23,
      "outputs": [
        {
          "output_type": "stream",
          "text": [
            "Collecting skfeature-chappers\n",
            "  Downloading skfeature-chappers-1.0.3.tar.gz (29 kB)\n",
            "Building wheels for collected packages: skfeature-chappers\n",
            "  Building wheel for skfeature-chappers (setup.py) ... \u001b[?25l\u001b[?25hdone\n",
            "  Created wheel for skfeature-chappers: filename=skfeature_chappers-1.0.3-py2.py3-none-any.whl size=59507 sha256=e815e94d5fec0d068360119dca41cd800477ccd53d7774ca38f69a8385e85897\n",
            "  Stored in directory: /root/.cache/pip/wheels/e0/15/fb/b9ddac82d928b7237e218ba327ad09c13a364a88cdd6e3f5e0\n",
            "Successfully built skfeature-chappers\n",
            "Installing collected packages: skfeature-chappers\n",
            "Successfully installed skfeature-chappers-1.0.3\n"
          ],
          "name": "stdout"
        }
      ]
    },
    {
      "cell_type": "code",
      "metadata": {
        "id": "lD3ixLcwnax8"
      },
      "source": [
        "import numpy as np"
      ],
      "execution_count": 26,
      "outputs": []
    },
    {
      "cell_type": "code",
      "metadata": {
        "id": "0y_h2KcoosTJ"
      },
      "source": [
        "import pandas as pd"
      ],
      "execution_count": 34,
      "outputs": []
    },
    {
      "cell_type": "code",
      "metadata": {
        "colab": {
          "base_uri": "https://localhost:8080/",
          "height": 80
        },
        "id": "0M22MBqNnm6f",
        "outputId": "a1b01920-6fff-422b-ed64-992a5baca536"
      },
      "source": [
        "Y = np.array(['angry'])\n",
        "Y = pd.DataFrame(Y, columns = ['label'])\n",
        "Y"
      ],
      "execution_count": 35,
      "outputs": [
        {
          "output_type": "execute_result",
          "data": {
            "text/html": [
              "<div>\n",
              "<style scoped>\n",
              "    .dataframe tbody tr th:only-of-type {\n",
              "        vertical-align: middle;\n",
              "    }\n",
              "\n",
              "    .dataframe tbody tr th {\n",
              "        vertical-align: top;\n",
              "    }\n",
              "\n",
              "    .dataframe thead th {\n",
              "        text-align: right;\n",
              "    }\n",
              "</style>\n",
              "<table border=\"1\" class=\"dataframe\">\n",
              "  <thead>\n",
              "    <tr style=\"text-align: right;\">\n",
              "      <th></th>\n",
              "      <th>label</th>\n",
              "    </tr>\n",
              "  </thead>\n",
              "  <tbody>\n",
              "    <tr>\n",
              "      <th>0</th>\n",
              "      <td>angry</td>\n",
              "    </tr>\n",
              "  </tbody>\n",
              "</table>\n",
              "</div>"
            ],
            "text/plain": [
              "   label\n",
              "0  angry"
            ]
          },
          "metadata": {
            "tags": []
          },
          "execution_count": 35
        }
      ]
    },
    {
      "cell_type": "code",
      "metadata": {
        "id": "MxfVG9ZeRUUO"
      },
      "source": [
        "import librosa\n",
        "import matplotlib.pyplot as plt \n",
        "import librosa.display"
      ],
      "execution_count": null,
      "outputs": []
    },
    {
      "cell_type": "code",
      "metadata": {
        "id": "5wNBVafQT8R4"
      },
      "source": [
        "data_u, sampling_rate_u = librosa.load('SF1_F4_H04.wav', sr=16000)"
      ],
      "execution_count": null,
      "outputs": []
    },
    {
      "cell_type": "code",
      "metadata": {
        "colab": {
          "base_uri": "https://localhost:8080/"
        },
        "id": "X2Cm-VWjZG9x",
        "outputId": "38edcf9f-6e11-49c7-c80c-b9fafeab1dee"
      },
      "source": [
        "print(len(data_u), sampling_rate_u)"
      ],
      "execution_count": null,
      "outputs": [
        {
          "output_type": "stream",
          "text": [
            "54989 16000\n",
            "48057 16000\n"
          ],
          "name": "stdout"
        }
      ]
    },
    {
      "cell_type": "code",
      "metadata": {
        "colab": {
          "base_uri": "https://localhost:8080/",
          "height": 296
        },
        "id": "Issd-P2pX_5v",
        "outputId": "c91d8aa1-6a7e-41f5-c1ff-ac1b6a6d5d13"
      },
      "source": [
        "plt.figure(figsize=(10, 4))\n",
        "librosa.display.waveplot(data_u, sr=sampling_rate_u)"
      ],
      "execution_count": null,
      "outputs": [
        {
          "output_type": "execute_result",
          "data": {
            "text/plain": [
              "<matplotlib.collections.PolyCollection at 0x7f3ef147ba90>"
            ]
          },
          "metadata": {
            "tags": []
          },
          "execution_count": 45
        },
        {
          "output_type": "display_data",
          "data": {
            "image/png": "[encoded data removed]",
            "text/plain": [
              "<Figure size 720x288 with 1 Axes>"
            ]
          },
          "metadata": {
            "tags": [],
            "needs_background": "light"
          }
        }
      ]
    },
    {
      "cell_type": "code",
      "metadata": {
        "id": "y6t_89kudLEQ"
      },
      "source": [
        ""
      ],
      "execution_count": null,
      "outputs": []
    }
  ]
}
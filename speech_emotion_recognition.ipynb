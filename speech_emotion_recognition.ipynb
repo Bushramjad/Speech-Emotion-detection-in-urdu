{
  "nbformat": 4,
  "nbformat_minor": 0,
  "metadata": {
    "colab": {
      "name": "speech-emotion-recognition.ipynb",
      "provenance": [],
      "collapsed_sections": [],
      "mount_file_id": "1WEnI43UWiflcNuF1vGeS3TRyagVywzcv",
      "authorship_tag": "ABX9TyOmugCUdK3Vk6k0PZsXexnW"
    },
    "kernelspec": {
      "name": "python3",
      "display_name": "Python 3"
    },
    "language_info": {
      "name": "python"
    }
  },
  "cells": [
    {
      "cell_type": "code",
      "metadata": {
        "id": "lVW9poW3QDgt"
      },
      "source": [
        "!pip install opensmile"
      ],
      "execution_count": null,
      "outputs": []
    },
    {
      "cell_type": "code",
      "metadata": {
        "colab": {
          "base_uri": "https://localhost:8080/"
        },
        "id": "z6sV0dYzQ7M4",
        "outputId": "0ae7689a-c1d2-40e1-8cc3-e85ef43ee850"
      },
      "source": [
        "!pip install sox"
      ],
      "execution_count": 2,
      "outputs": [
        {
          "output_type": "stream",
          "text": [
            "Requirement already satisfied: sox in /usr/local/lib/python3.7/dist-packages (1.4.1)\n",
            "Requirement already satisfied: numpy>=1.9.0 in /usr/local/lib/python3.7/dist-packages (from sox) (1.19.5)\n"
          ],
          "name": "stdout"
        }
      ]
    },
    {
      "cell_type": "code",
      "metadata": {
        "id": "Ut0wfn2LQFF3"
      },
      "source": [
        "import opensmile\n",
        "\n",
        "smile = opensmile.Smile(\n",
        "    feature_set = opensmile.FeatureSet.ComParE_2016,\n",
        "    feature_level = opensmile.FeatureLevel.Functionals,\n",
        ")"
      ],
      "execution_count": 14,
      "outputs": []
    },
    {
      "cell_type": "code",
      "metadata": {
        "id": "o1tHnWycU5cC"
      },
      "source": [
        "y = smile.process_file('SF1_F4_H04.wav')"
      ],
      "execution_count": null,
      "outputs": []
    },
    {
      "cell_type": "code",
      "metadata": {
        "colab": {
          "base_uri": "https://localhost:8080/",
          "height": 194
        },
        "id": "2SpzNY_FQoH7",
        "outputId": "3c4ea534-2165-4c31-a059-5b9daee8962f"
      },
      "source": [
        "y"
      ],
      "execution_count": 15,
      "outputs": [
        {
          "output_type": "execute_result",
          "data": {
            "text/html": [
              "<div>\n",
              "<style scoped>\n",
              "    .dataframe tbody tr th:only-of-type {\n",
              "        vertical-align: middle;\n",
              "    }\n",
              "\n",
              "    .dataframe tbody tr th {\n",
              "        vertical-align: top;\n",
              "    }\n",
              "\n",
              "    .dataframe thead th {\n",
              "        text-align: right;\n",
              "    }\n",
              "</style>\n",
              "<table border=\"1\" class=\"dataframe\">\n",
              "  <thead>\n",
              "    <tr style=\"text-align: right;\">\n",
              "      <th></th>\n",
              "      <th></th>\n",
              "      <th></th>\n",
              "      <th>audspec_lengthL1norm_sma_range</th>\n",
              "      <th>audspec_lengthL1norm_sma_maxPos</th>\n",
              "      <th>audspec_lengthL1norm_sma_minPos</th>\n",
              "      <th>audspec_lengthL1norm_sma_quartile1</th>\n",
              "      <th>audspec_lengthL1norm_sma_quartile2</th>\n",
              "      <th>audspec_lengthL1norm_sma_quartile3</th>\n",
              "      <th>audspec_lengthL1norm_sma_iqr1-2</th>\n",
              "      <th>audspec_lengthL1norm_sma_iqr2-3</th>\n",
              "      <th>audspec_lengthL1norm_sma_iqr1-3</th>\n",
              "      <th>audspec_lengthL1norm_sma_percentile1.0</th>\n",
              "      <th>audspec_lengthL1norm_sma_percentile99.0</th>\n",
              "      <th>audspec_lengthL1norm_sma_pctlrange0-1</th>\n",
              "      <th>audspec_lengthL1norm_sma_stddev</th>\n",
              "      <th>audspec_lengthL1norm_sma_skewness</th>\n",
              "      <th>audspec_lengthL1norm_sma_kurtosis</th>\n",
              "      <th>audspec_lengthL1norm_sma_meanSegLen</th>\n",
              "      <th>audspec_lengthL1norm_sma_maxSegLen</th>\n",
              "      <th>audspec_lengthL1norm_sma_minSegLen</th>\n",
              "      <th>audspec_lengthL1norm_sma_segLenStddev</th>\n",
              "      <th>audspec_lengthL1norm_sma_upleveltime25</th>\n",
              "      <th>audspec_lengthL1norm_sma_upleveltime50</th>\n",
              "      <th>audspec_lengthL1norm_sma_upleveltime75</th>\n",
              "      <th>audspec_lengthL1norm_sma_upleveltime90</th>\n",
              "      <th>audspec_lengthL1norm_sma_risetime</th>\n",
              "      <th>audspec_lengthL1norm_sma_leftctime</th>\n",
              "      <th>audspec_lengthL1norm_sma_lpgain</th>\n",
              "      <th>audspec_lengthL1norm_sma_lpc0</th>\n",
              "      <th>audspec_lengthL1norm_sma_lpc1</th>\n",
              "      <th>audspec_lengthL1norm_sma_lpc2</th>\n",
              "      <th>audspec_lengthL1norm_sma_lpc3</th>\n",
              "      <th>audspec_lengthL1norm_sma_lpc4</th>\n",
              "      <th>audspecRasta_lengthL1norm_sma_range</th>\n",
              "      <th>audspecRasta_lengthL1norm_sma_maxPos</th>\n",
              "      <th>audspecRasta_lengthL1norm_sma_minPos</th>\n",
              "      <th>audspecRasta_lengthL1norm_sma_quartile1</th>\n",
              "      <th>audspecRasta_lengthL1norm_sma_quartile2</th>\n",
              "      <th>audspecRasta_lengthL1norm_sma_quartile3</th>\n",
              "      <th>audspecRasta_lengthL1norm_sma_iqr1-2</th>\n",
              "      <th>audspecRasta_lengthL1norm_sma_iqr2-3</th>\n",
              "      <th>audspecRasta_lengthL1norm_sma_iqr1-3</th>\n",
              "      <th>...</th>\n",
              "      <th>mfcc_sma_de[12]_peakRangeAbs</th>\n",
              "      <th>mfcc_sma_de[12]_peakRangeRel</th>\n",
              "      <th>mfcc_sma_de[12]_peakMeanAbs</th>\n",
              "      <th>mfcc_sma_de[12]_peakMeanMeanDist</th>\n",
              "      <th>mfcc_sma_de[12]_peakMeanRel</th>\n",
              "      <th>mfcc_sma_de[12]_minRangeRel</th>\n",
              "      <th>mfcc_sma_de[12]_meanRisingSlope</th>\n",
              "      <th>mfcc_sma_de[12]_stddevRisingSlope</th>\n",
              "      <th>mfcc_sma_de[12]_meanFallingSlope</th>\n",
              "      <th>mfcc_sma_de[12]_stddevFallingSlope</th>\n",
              "      <th>mfcc_sma_de[13]_flatness</th>\n",
              "      <th>mfcc_sma_de[13]_posamean</th>\n",
              "      <th>mfcc_sma_de[13]_rqmean</th>\n",
              "      <th>mfcc_sma_de[13]_meanPeakDist</th>\n",
              "      <th>mfcc_sma_de[13]_peakDistStddev</th>\n",
              "      <th>mfcc_sma_de[13]_peakRangeAbs</th>\n",
              "      <th>mfcc_sma_de[13]_peakRangeRel</th>\n",
              "      <th>mfcc_sma_de[13]_peakMeanAbs</th>\n",
              "      <th>mfcc_sma_de[13]_peakMeanMeanDist</th>\n",
              "      <th>mfcc_sma_de[13]_peakMeanRel</th>\n",
              "      <th>mfcc_sma_de[13]_minRangeRel</th>\n",
              "      <th>mfcc_sma_de[13]_meanRisingSlope</th>\n",
              "      <th>mfcc_sma_de[13]_stddevRisingSlope</th>\n",
              "      <th>mfcc_sma_de[13]_meanFallingSlope</th>\n",
              "      <th>mfcc_sma_de[13]_stddevFallingSlope</th>\n",
              "      <th>mfcc_sma_de[14]_flatness</th>\n",
              "      <th>mfcc_sma_de[14]_posamean</th>\n",
              "      <th>mfcc_sma_de[14]_rqmean</th>\n",
              "      <th>mfcc_sma_de[14]_meanPeakDist</th>\n",
              "      <th>mfcc_sma_de[14]_peakDistStddev</th>\n",
              "      <th>mfcc_sma_de[14]_peakRangeAbs</th>\n",
              "      <th>mfcc_sma_de[14]_peakRangeRel</th>\n",
              "      <th>mfcc_sma_de[14]_peakMeanAbs</th>\n",
              "      <th>mfcc_sma_de[14]_peakMeanMeanDist</th>\n",
              "      <th>mfcc_sma_de[14]_peakMeanRel</th>\n",
              "      <th>mfcc_sma_de[14]_minRangeRel</th>\n",
              "      <th>mfcc_sma_de[14]_meanRisingSlope</th>\n",
              "      <th>mfcc_sma_de[14]_stddevRisingSlope</th>\n",
              "      <th>mfcc_sma_de[14]_meanFallingSlope</th>\n",
              "      <th>mfcc_sma_de[14]_stddevFallingSlope</th>\n",
              "    </tr>\n",
              "    <tr>\n",
              "      <th>file</th>\n",
              "      <th>start</th>\n",
              "      <th>end</th>\n",
              "      <th></th>\n",
              "      <th></th>\n",
              "      <th></th>\n",
              "      <th></th>\n",
              "      <th></th>\n",
              "      <th></th>\n",
              "      <th></th>\n",
              "      <th></th>\n",
              "      <th></th>\n",
              "      <th></th>\n",
              "      <th></th>\n",
              "      <th></th>\n",
              "      <th></th>\n",
              "      <th></th>\n",
              "      <th></th>\n",
              "      <th></th>\n",
              "      <th></th>\n",
              "      <th></th>\n",
              "      <th></th>\n",
              "      <th></th>\n",
              "      <th></th>\n",
              "      <th></th>\n",
              "      <th></th>\n",
              "      <th></th>\n",
              "      <th></th>\n",
              "      <th></th>\n",
              "      <th></th>\n",
              "      <th></th>\n",
              "      <th></th>\n",
              "      <th></th>\n",
              "      <th></th>\n",
              "      <th></th>\n",
              "      <th></th>\n",
              "      <th></th>\n",
              "      <th></th>\n",
              "      <th></th>\n",
              "      <th></th>\n",
              "      <th></th>\n",
              "      <th></th>\n",
              "      <th></th>\n",
              "      <th></th>\n",
              "      <th></th>\n",
              "      <th></th>\n",
              "      <th></th>\n",
              "      <th></th>\n",
              "      <th></th>\n",
              "      <th></th>\n",
              "      <th></th>\n",
              "      <th></th>\n",
              "      <th></th>\n",
              "      <th></th>\n",
              "      <th></th>\n",
              "      <th></th>\n",
              "      <th></th>\n",
              "      <th></th>\n",
              "      <th></th>\n",
              "      <th></th>\n",
              "      <th></th>\n",
              "      <th></th>\n",
              "      <th></th>\n",
              "      <th></th>\n",
              "      <th></th>\n",
              "      <th></th>\n",
              "      <th></th>\n",
              "      <th></th>\n",
              "      <th></th>\n",
              "      <th></th>\n",
              "      <th></th>\n",
              "      <th></th>\n",
              "      <th></th>\n",
              "      <th></th>\n",
              "      <th></th>\n",
              "      <th></th>\n",
              "      <th></th>\n",
              "      <th></th>\n",
              "      <th></th>\n",
              "      <th></th>\n",
              "      <th></th>\n",
              "      <th></th>\n",
              "      <th></th>\n",
              "      <th></th>\n",
              "    </tr>\n",
              "  </thead>\n",
              "  <tbody>\n",
              "    <tr>\n",
              "      <th>SF1_F4_H04.wav</th>\n",
              "      <th>0 days</th>\n",
              "      <th>0 days 00:00:03.003537415</th>\n",
              "      <td>3.416515</td>\n",
              "      <td>0.897611</td>\n",
              "      <td>0.051195</td>\n",
              "      <td>1.188049</td>\n",
              "      <td>1.807189</td>\n",
              "      <td>2.561678</td>\n",
              "      <td>0.61914</td>\n",
              "      <td>0.754489</td>\n",
              "      <td>1.373628</td>\n",
              "      <td>0.446802</td>\n",
              "      <td>3.591923</td>\n",
              "      <td>3.145121</td>\n",
              "      <td>0.839065</td>\n",
              "      <td>0.132953</td>\n",
              "      <td>1.993583</td>\n",
              "      <td>0.108148</td>\n",
              "      <td>0.36</td>\n",
              "      <td>0.04</td>\n",
              "      <td>0.070503</td>\n",
              "      <td>0.730375</td>\n",
              "      <td>0.409556</td>\n",
              "      <td>0.102389</td>\n",
              "      <td>0.017065</td>\n",
              "      <td>0.486301</td>\n",
              "      <td>0.515464</td>\n",
              "      <td>0.116349</td>\n",
              "      <td>-1.415178</td>\n",
              "      <td>0.297138</td>\n",
              "      <td>0.201639</td>\n",
              "      <td>0.058004</td>\n",
              "      <td>-0.117418</td>\n",
              "      <td>2.923661</td>\n",
              "      <td>0.904437</td>\n",
              "      <td>0.051195</td>\n",
              "      <td>0.724729</td>\n",
              "      <td>1.087015</td>\n",
              "      <td>1.544749</td>\n",
              "      <td>0.362286</td>\n",
              "      <td>0.457734</td>\n",
              "      <td>0.82002</td>\n",
              "      <td>...</td>\n",
              "      <td>9.662113</td>\n",
              "      <td>0.542854</td>\n",
              "      <td>3.559799</td>\n",
              "      <td>3.551516</td>\n",
              "      <td>19.991852</td>\n",
              "      <td>0.552772</td>\n",
              "      <td>144.784317</td>\n",
              "      <td>54.386002</td>\n",
              "      <td>165.88205</td>\n",
              "      <td>86.375549</td>\n",
              "      <td>0.656159</td>\n",
              "      <td>2.136723</td>\n",
              "      <td>2.695387</td>\n",
              "      <td>0.097586</td>\n",
              "      <td>0.053396</td>\n",
              "      <td>7.508237</td>\n",
              "      <td>0.470474</td>\n",
              "      <td>3.281643</td>\n",
              "      <td>3.187765</td>\n",
              "      <td>16.74497</td>\n",
              "      <td>0.520789</td>\n",
              "      <td>149.128555</td>\n",
              "      <td>78.211792</td>\n",
              "      <td>127.55291</td>\n",
              "      <td>64.636444</td>\n",
              "      <td>0.592818</td>\n",
              "      <td>1.813722</td>\n",
              "      <td>2.653654</td>\n",
              "      <td>0.117083</td>\n",
              "      <td>0.067293</td>\n",
              "      <td>11.446887</td>\n",
              "      <td>0.521717</td>\n",
              "      <td>3.101909</td>\n",
              "      <td>3.060179</td>\n",
              "      <td>18.888817</td>\n",
              "      <td>0.441794</td>\n",
              "      <td>130.06012</td>\n",
              "      <td>77.010063</td>\n",
              "      <td>119.676903</td>\n",
              "      <td>61.117722</td>\n",
              "    </tr>\n",
              "  </tbody>\n",
              "</table>\n",
              "<p>1 rows × 6373 columns</p>\n",
              "</div>"
            ],
            "text/plain": [
              "                                                 audspec_lengthL1norm_sma_range  ...  mfcc_sma_de[14]_stddevFallingSlope\n",
              "file           start  end                                                        ...                                    \n",
              "SF1_F4_H04.wav 0 days 0 days 00:00:03.003537415                        3.416515  ...                           61.117722\n",
              "\n",
              "[1 rows x 6373 columns]"
            ]
          },
          "metadata": {
            "tags": []
          },
          "execution_count": 15
        }
      ]
    },
    {
      "cell_type": "code",
      "metadata": {
        "colab": {
          "base_uri": "https://localhost:8080/"
        },
        "id": "37rhVyttQ_0K",
        "outputId": "61641f19-53ef-4f2f-e20d-234a37aff94b"
      },
      "source": [
        "y.shape"
      ],
      "execution_count": 16,
      "outputs": [
        {
          "output_type": "execute_result",
          "data": {
            "text/plain": [
              "(1, 6373)"
            ]
          },
          "metadata": {
            "tags": []
          },
          "execution_count": 16
        }
      ]
    },
    {
      "cell_type": "code",
      "metadata": {
        "colab": {
          "base_uri": "https://localhost:8080/"
        },
        "id": "89ZMW0X6kBOC",
        "outputId": "5e828424-a858-4d85-bbac-6875a769371d"
      },
      "source": [
        "y.columns.array"
      ],
      "execution_count": 17,
      "outputs": [
        {
          "output_type": "execute_result",
          "data": {
            "text/plain": [
              "<PandasArray>\n",
              "[        'audspec_lengthL1norm_sma_range',\n",
              "        'audspec_lengthL1norm_sma_maxPos',\n",
              "        'audspec_lengthL1norm_sma_minPos',\n",
              "     'audspec_lengthL1norm_sma_quartile1',\n",
              "     'audspec_lengthL1norm_sma_quartile2',\n",
              "     'audspec_lengthL1norm_sma_quartile3',\n",
              "        'audspec_lengthL1norm_sma_iqr1-2',\n",
              "        'audspec_lengthL1norm_sma_iqr2-3',\n",
              "        'audspec_lengthL1norm_sma_iqr1-3',\n",
              " 'audspec_lengthL1norm_sma_percentile1.0',\n",
              " ...\n",
              "           'mfcc_sma_de[14]_peakRangeAbs',\n",
              "           'mfcc_sma_de[14]_peakRangeRel',\n",
              "            'mfcc_sma_de[14]_peakMeanAbs',\n",
              "       'mfcc_sma_de[14]_peakMeanMeanDist',\n",
              "            'mfcc_sma_de[14]_peakMeanRel',\n",
              "            'mfcc_sma_de[14]_minRangeRel',\n",
              "        'mfcc_sma_de[14]_meanRisingSlope',\n",
              "      'mfcc_sma_de[14]_stddevRisingSlope',\n",
              "       'mfcc_sma_de[14]_meanFallingSlope',\n",
              "     'mfcc_sma_de[14]_stddevFallingSlope']\n",
              "Length: 6373, dtype: object"
            ]
          },
          "metadata": {
            "tags": []
          },
          "execution_count": 17
        }
      ]
    },
    {
      "cell_type": "code",
      "metadata": {
        "id": "lD3ixLcwnax8"
      },
      "source": [
        "import numpy as np"
      ],
      "execution_count": 26,
      "outputs": []
    },
    {
      "cell_type": "code",
      "metadata": {
        "id": "0y_h2KcoosTJ"
      },
      "source": [
        "import pandas as pd"
      ],
      "execution_count": 34,
      "outputs": []
    },
    {
      "cell_type": "code",
      "metadata": {
        "id": "MxfVG9ZeRUUO"
      },
      "source": [
        "import librosa\n",
        "import matplotlib.pyplot as plt \n",
        "import librosa.display"
      ],
      "execution_count": 19,
      "outputs": []
    },
    {
      "cell_type": "code",
      "metadata": {
        "id": "y6t_89kudLEQ"
      },
      "source": [
        "import glob"
      ],
      "execution_count": 2,
      "outputs": []
    },
    {
      "cell_type": "code",
      "metadata": {
        "id": "tIj3l2WkU8gg"
      },
      "source": [
        "import opensmile\n",
        "\n",
        "smile = opensmile.Smile(\n",
        "    feature_set = opensmile.FeatureSet.ComParE_2016,\n",
        "    feature_level = opensmile.FeatureLevel.Functionals,\n",
        ")"
      ],
      "execution_count": null,
      "outputs": []
    },
    {
      "cell_type": "code",
      "metadata": {
        "id": "Ue5ZmV7CVBjC"
      },
      "source": [
        "y = smile.process_file('SF1_F4_H04.wav')"
      ],
      "execution_count": null,
      "outputs": []
    },
    {
      "cell_type": "code",
      "metadata": {
        "id": "3w43naKxVDj6"
      },
      "source": [
        "angry = []\n",
        "boredom = []\n",
        "sadness = []\n",
        "happiness = []\n",
        "neutral = []\n",
        "suprise = []\n",
        "disgist = []\n",
        "fearful = []"
      ],
      "execution_count": 13,
      "outputs": []
    },
    {
      "cell_type": "code",
      "metadata": {
        "id": "bR7NB2NaUYQS"
      },
      "source": [
        "for actor in sorted(glob.glob(\"/content/drive/MyDrive/dataset_NLP_A5/Train/Fake/*.txt\")):\n",
        "  #A1\n",
        "    with open(actor, 'r') as a:\n",
        "      for emotion in sorted(glob.glob(\"/content/drive/MyDrive/dataset_NLP_A5/Train/Fake/*.txt\")):\n",
        "        #Angry\n",
        "        with open(emotion, 'r') as e:\n",
        "          for filename in sorted(glob.glob(\"/content/drive/MyDrive/dataset_NLP_A5/Train/Fake/*.txt\")):\n",
        "            #123.wav\n",
        "            with open(filename, 'r') as f:\n",
        "              features = smile.process_file(filename')\n",
        "\n",
        "              if emotion == 'Angry':\n",
        "                x = angry.append(features), 0\n",
        "                angry.append(x)\n",
        "              if emotion == 'Boredom':\n",
        "                x = boredom.append(features), 1\n",
        "                boredom.append(x)\n",
        "              if emotion == 'Sadness':\n",
        "                x = sadness.append(features), 2\n",
        "                sadness.append(x)\n",
        "              if emotion == 'Happiness':\n",
        "                x = happiness.append(features), 3\n",
        "                happiness.append(x)\n",
        "              if emotion == 'Neutral':\n",
        "                x = neutral.append(features), 4\n",
        "                neutral.append(x)\n",
        "              if emotion == 'Surprise':\n",
        "                x = suprise.append(features), 5\n",
        "                surprise.append(x)\n",
        "              if emotion == 'Disgust':\n",
        "                x = disgust.append(features), 6\n",
        "                disgust.append(x)\n",
        "              if emotion == 'Fearful':\n",
        "                x = fearful.append(features), 7\n",
        "                fearful.append(x)\n",
        "\n",
        "\n",
        "X.append(angry) \n",
        "X.append(sadness) \n",
        "X.append(boredom) \n",
        "X.append(fearful) \n",
        "X.append(neutral) \n",
        "X.append(surprise) \n",
        "X.append(angry) \n",
        "X.append(angry) "
      ],
      "execution_count": null,
      "outputs": []
    },
    {
      "cell_type": "code",
      "metadata": {
        "colab": {
          "base_uri": "https://localhost:8080/"
        },
        "id": "OAJvUrdydFYJ",
        "outputId": "19032008-a030-47d0-8fd4-8528caf8e088"
      },
      "source": [
        "h = 'a',4\n",
        "h"
      ],
      "execution_count": 15,
      "outputs": [
        {
          "output_type": "execute_result",
          "data": {
            "text/plain": [
              "('a', 4)"
            ]
          },
          "metadata": {
            "tags": []
          },
          "execution_count": 15
        }
      ]
    },
    {
      "cell_type": "code",
      "metadata": {
        "colab": {
          "base_uri": "https://localhost:8080/"
        },
        "id": "DGUICrJpYoF4",
        "outputId": "391d541a-4412-4fa9-9914-8e9a59752464"
      },
      "source": [
        "import os\n",
        "path = '/content/drive/MyDrive/resources'\n",
        "lst = []\n",
        "\n",
        "for subdir, dirs, files in os.walk(path):\n",
        "  print(dirs)\n",
        "  for file in files:\n",
        "      try:\n",
        "        print('')\n",
        "        # #Load librosa array, obtain mfcss, store the file and the mcss information in a new array\n",
        "        # X, sample_rate = librosa.load(os.path.join(subdir,file), res_type='kaiser_fast')\n",
        "        # mfccs = np.mean(librosa.feature.mfcc(y=X, sr=sample_rate, n_mfcc=40).T,axis=0) \n",
        "        # file = file[6:8]\n",
        "        # arr = mfccs, file\n",
        "        # lst.append(arr)\n",
        "      # If the file is not valid, skip it\n",
        "      except ValueError:\n",
        "        continue"
      ],
      "execution_count": 12,
      "outputs": [
        {
          "output_type": "stream",
          "text": [
            "['week-4', 'week-2', 'week-3', 'datasets', 'week-1']\n",
            "\n",
            "\n",
            "['datasets']\n",
            "\n",
            "[]\n",
            "\n",
            "['datasets']\n",
            "\n",
            "\n",
            "\n",
            "\n",
            "\n",
            "\n",
            "\n",
            "\n",
            "\n",
            "\n",
            "[]\n",
            "\n",
            "\n",
            "\n",
            "\n",
            "\n",
            "['datasets']\n",
            "\n",
            "\n",
            "\n",
            "\n",
            "\n",
            "\n",
            "\n",
            "\n",
            "\n",
            "['college_scorecard']\n",
            "\n",
            "\n",
            "\n",
            "[]\n",
            "\n",
            "\n",
            "\n",
            "\n",
            "\n",
            "\n",
            "\n",
            "\n",
            "\n",
            "\n",
            "\n",
            "[]\n",
            "\n",
            "\n",
            "\n",
            "\n",
            "\n",
            "\n",
            "\n",
            "['datasets']\n",
            "\n",
            "\n",
            "\n",
            "\n",
            "[]\n",
            "\n",
            "\n",
            "\n",
            "\n",
            "\n"
          ],
          "name": "stdout"
        }
      ]
    },
    {
      "cell_type": "code",
      "metadata": {
        "id": "pfYJID2iZM9H"
      },
      "source": [
        ""
      ],
      "execution_count": null,
      "outputs": []
    }
  ]
}